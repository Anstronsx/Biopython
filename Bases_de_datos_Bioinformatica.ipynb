{
  "nbformat": 4,
  "nbformat_minor": 0,
  "metadata": {
    "colab": {
      "provenance": [],
      "mount_file_id": "17t5zSr-6husBEySU4v7i99_4C3JPqHsP",
      "authorship_tag": "ABX9TyMRCS2ovcIDfXEDSTxPRnex",
      "include_colab_link": true
    },
    "kernelspec": {
      "name": "python3",
      "display_name": "Python 3"
    },
    "language_info": {
      "name": "python"
    }
  },
  "cells": [
    {
      "cell_type": "markdown",
      "metadata": {
        "id": "view-in-github",
        "colab_type": "text"
      },
      "source": [
        "<a href=\"https://colab.research.google.com/github/Anstronsx/Biopython/blob/main/Bases_de_datos_Bioinformatica.ipynb\" target=\"_parent\"><img src=\"https://colab.research.google.com/assets/colab-badge.svg\" alt=\"Open In Colab\"/></a>"
      ]
    },
    {
      "cell_type": "code",
      "source": [
        "!pwd"
      ],
      "metadata": {
        "colab": {
          "base_uri": "https://localhost:8080/"
        },
        "id": "BNtpRrueUoBL",
        "outputId": "a42938fb-bdec-4ce4-e03b-58967984df0a"
      },
      "execution_count": null,
      "outputs": [
        {
          "output_type": "stream",
          "name": "stdout",
          "text": [
            "/content\n"
          ]
        }
      ]
    },
    {
      "cell_type": "code",
      "source": [
        "!ls\n"
      ],
      "metadata": {
        "colab": {
          "base_uri": "https://localhost:8080/"
        },
        "id": "nLkoDfr8Us8H",
        "outputId": "23e9fa07-ba92-46bd-b06c-39d2adb319da"
      },
      "execution_count": null,
      "outputs": [
        {
          "output_type": "stream",
          "name": "stdout",
          "text": [
            "drive  sample_data\n"
          ]
        }
      ]
    },
    {
      "cell_type": "code",
      "source": [
        "from google.colab import drive\n",
        "drive.mount('/content/gdrive', force_remount=True)"
      ],
      "metadata": {
        "colab": {
          "base_uri": "https://localhost:8080/"
        },
        "id": "-e1WlymKSzwy",
        "outputId": "63569d38-b4c9-44d0-fb05-baf6459325c4"
      },
      "execution_count": null,
      "outputs": [
        {
          "output_type": "stream",
          "name": "stdout",
          "text": [
            "Mounted at /content/gdrive\n"
          ]
        }
      ]
    },
    {
      "cell_type": "code",
      "source": [
        "!ls"
      ],
      "metadata": {
        "colab": {
          "base_uri": "https://localhost:8080/"
        },
        "id": "kFiqTBQtWc4O",
        "outputId": "919035c8-2e3a-4dc9-d241-e2d2b9756704"
      },
      "execution_count": null,
      "outputs": [
        {
          "output_type": "stream",
          "name": "stdout",
          "text": [
            "drive  gdrive  sample_data\n"
          ]
        }
      ]
    },
    {
      "cell_type": "code",
      "source": [
        "import os\n",
        "os.chdir('/content/gdrive/MyDrive/Bioinformatica')"
      ],
      "metadata": {
        "id": "oNcTLJwVWhdH"
      },
      "execution_count": null,
      "outputs": []
    },
    {
      "cell_type": "code",
      "source": [
        "!ls"
      ],
      "metadata": {
        "colab": {
          "base_uri": "https://localhost:8080/"
        },
        "id": "aaHAb5mJWquV",
        "outputId": "e19a7ab8-f980-4330-e804-8712def5eb95"
      },
      "execution_count": null,
      "outputs": [
        {
          "output_type": "stream",
          "name": "stdout",
          "text": [
            "dir  nuc_seq.fasta  prot_seq.fasta  sequence.fasta\n"
          ]
        }
      ]
    },
    {
      "cell_type": "code",
      "source": [
        "#Debes installar biopython\n",
        "!pip install biopython"
      ],
      "metadata": {
        "colab": {
          "base_uri": "https://localhost:8080/"
        },
        "id": "IKzk_zj1W1Sy",
        "outputId": "72e8d531-c3e0-45c6-ddd0-7b8d93376ce0"
      },
      "execution_count": null,
      "outputs": [
        {
          "output_type": "stream",
          "name": "stdout",
          "text": [
            "Collecting biopython\n",
            "  Downloading biopython-1.85-cp311-cp311-manylinux_2_17_x86_64.manylinux2014_x86_64.whl.metadata (13 kB)\n",
            "Requirement already satisfied: numpy in /usr/local/lib/python3.11/dist-packages (from biopython) (1.26.4)\n",
            "Downloading biopython-1.85-cp311-cp311-manylinux_2_17_x86_64.manylinux2014_x86_64.whl (3.3 MB)\n",
            "\u001b[2K   \u001b[90m━━━━━━━━━━━━━━━━━━━━━━━━━━━━━━━━━━━━━━━━\u001b[0m \u001b[32m3.3/3.3 MB\u001b[0m \u001b[31m24.5 MB/s\u001b[0m eta \u001b[36m0:00:00\u001b[0m\n",
            "\u001b[?25hInstalling collected packages: biopython\n",
            "Successfully installed biopython-1.85\n"
          ]
        }
      ]
    },
    {
      "cell_type": "code",
      "source": [
        "from Bio.Blast import NCBIWWW\n",
        "from Bio import SeqIO, SearchIO"
      ],
      "metadata": {
        "id": "FpjSFHeRW5xH"
      },
      "execution_count": null,
      "outputs": []
    },
    {
      "cell_type": "code",
      "source": [
        "help(NCBIWWW)"
      ],
      "metadata": {
        "colab": {
          "base_uri": "https://localhost:8080/"
        },
        "collapsed": true,
        "id": "ipQuMFoKW7-J",
        "outputId": "34a5a6a7-781a-46ad-a4f4-f205df800555"
      },
      "execution_count": null,
      "outputs": [
        {
          "output_type": "stream",
          "name": "stdout",
          "text": [
            "Help on module Bio.Blast.NCBIWWW in Bio.Blast:\n",
            "\n",
            "NAME\n",
            "    Bio.Blast.NCBIWWW - Code to invoke the NCBI BLAST server over the internet.\n",
            "\n",
            "DESCRIPTION\n",
            "    This module provides code to work with the WWW version of BLAST\n",
            "    provided by the NCBI. https://blast.ncbi.nlm.nih.gov/\n",
            "    \n",
            "    Variables:\n",
            "    \n",
            "        - email        Set the Blast email parameter (default is None).\n",
            "        - tool         Set the Blast tool parameter (default is ``biopython``).\n",
            "\n",
            "FUNCTIONS\n",
            "    qblast(program, database, sequence, url_base='https://blast.ncbi.nlm.nih.gov/Blast.cgi', auto_format=None, composition_based_statistics=None, db_genetic_code=None, endpoints=None, entrez_query='(none)', expect=10.0, filter=None, gapcosts=None, genetic_code=None, hitlist_size=50, i_thresh=None, layout=None, lcase_mask=None, matrix_name=None, nucl_penalty=None, nucl_reward=None, other_advanced=None, perc_ident=None, phi_pattern=None, query_file=None, query_believe_defline=None, query_from=None, query_to=None, searchsp_eff=None, service=None, threshold=None, ungapped_alignment=None, word_size=None, short_query=None, alignments=500, alignment_view=None, descriptions=500, entrez_links_new_window=None, expect_low=None, expect_high=None, format_entrez_query=None, format_object=None, format_type='XML', ncbi_gi=None, results_file=None, show_overview=None, megablast=None, template_type=None, template_length=None, username='blast', password=None)\n",
            "        BLAST search using NCBI's QBLAST server.\n",
            "        \n",
            "        Supports all parameters of the old qblast API for Put and Get.\n",
            "        \n",
            "        Please note that NCBI uses the new Common URL API for BLAST searches\n",
            "        on the internet (https://blast.ncbi.nlm.nih.gov/doc/blast-help/urlapi.html).\n",
            "        Thus, some of the parameters used by this function are not (or are no longer)\n",
            "        officially supported by NCBI. Although they are still functioning, this\n",
            "        may change in the future.\n",
            "        \n",
            "        Some useful parameters:\n",
            "        \n",
            "         - program        blastn, blastp, blastx, tblastn, or tblastx (lower case)\n",
            "         - database       Which database to search against (e.g. \"nr\").\n",
            "         - sequence       The sequence to search.\n",
            "         - ncbi_gi        TRUE/FALSE whether to give 'gi' identifier.\n",
            "         - descriptions   Number of descriptions to show.  Def 500.\n",
            "         - alignments     Number of alignments to show.  Def 500.\n",
            "         - expect         An expect value cutoff.  Def 10.0.\n",
            "         - matrix_name    Specify an alt. matrix (PAM30, PAM70, BLOSUM80, BLOSUM45).\n",
            "         - filter         \"none\" turns off filtering.  Default no filtering\n",
            "         - format_type    \"HTML\", \"Text\", \"ASN.1\", or \"XML\".  Def. \"XML\".\n",
            "         - entrez_query   Entrez query to limit Blast search - only applies when searching nucleotide BLASTDBs\n",
            "         - hitlist_size   Number of hits to return. Default 50\n",
            "         - megablast      TRUE/FALSE whether to use MEga BLAST algorithm (blastn only)\n",
            "         - short_query    TRUE/FALSE whether to adjust the search parameters for a\n",
            "                          short query sequence. Note that this will override\n",
            "                          manually set parameters like word size and e value. Turns\n",
            "                          off when sequence length is > 30 residues. Default: None.\n",
            "         - service        plain, psi, phi, rpsblast, megablast (lower case)\n",
            "        \n",
            "        This function does no checking of the validity of the parameters\n",
            "        and passes the values to the server as is.  More help is available at:\n",
            "        https://blast.ncbi.nlm.nih.gov/doc/blast-help/urlapi.html\n",
            "\n",
            "DATA\n",
            "    NCBI_BLAST_URL = 'https://blast.ncbi.nlm.nih.gov/Blast.cgi'\n",
            "    email = None\n",
            "    tool = 'biopython'\n",
            "\n",
            "FILE\n",
            "    /usr/local/lib/python3.11/dist-packages/Bio/Blast/NCBIWWW.py\n",
            "\n",
            "\n"
          ]
        }
      ]
    },
    {
      "cell_type": "markdown",
      "source": [
        "#1.1. Nucleotide BLAST"
      ],
      "metadata": {
        "id": "W-Vtmqi3fFvG"
      }
    },
    {
      "cell_type": "code",
      "source": [
        "nuc_record = SeqIO.read(\"sequence.fasta\", format =\"fasta\")\n",
        "len(nuc_record)"
      ],
      "metadata": {
        "colab": {
          "base_uri": "https://localhost:8080/"
        },
        "id": "Y4BSmZ69XDQx",
        "outputId": "49861401-ccc6-44a4-d69b-51d98090aa12"
      },
      "execution_count": null,
      "outputs": [
        {
          "output_type": "execute_result",
          "data": {
            "text/plain": [
              "10137796"
            ]
          },
          "metadata": {},
          "execution_count": 10
        }
      ]
    },
    {
      "cell_type": "code",
      "source": [
        "nuc_record.description"
      ],
      "metadata": {
        "colab": {
          "base_uri": "https://localhost:8080/",
          "height": 35
        },
        "id": "wbx7_eJHZ63s",
        "outputId": "7e05db4a-eacd-41f0-fefe-51846ee3cd85"
      },
      "execution_count": null,
      "outputs": [
        {
          "output_type": "execute_result",
          "data": {
            "text/plain": [
              "'CM105718.1 Anas platyrhynchos isolate ZD024472 breed Pekin duck chromosome 33, whole genome shotgun sequence'"
            ],
            "application/vnd.google.colaboratory.intrinsic+json": {
              "type": "string"
            }
          },
          "metadata": {},
          "execution_count": 11
        }
      ]
    },
    {
      "cell_type": "code",
      "source": [
        "# Load your sequence\n",
        "nuc_record = SeqIO.read(\"sequence.fasta\", format=\"fasta\")\n",
        "\n",
        "# Define the start and end positions of the subsequence you want to extract\n",
        "start_pos = 1000  # Example start position\n",
        "end_pos = 6000    # Example end position\n",
        "\n",
        "# Extract the subsequence\n",
        "subsequence = nuc_record.seq[start_pos:end_pos]\n",
        "\n",
        "# Run BLAST on the subsequence\n",
        "result_handle = NCBIWWW.qblast(\"blastn\", \"nt\", subsequence)\n",
        "blast_result = SearchIO.read(result_handle, \"blast-xml\")"
      ],
      "metadata": {
        "id": "DZWC1yFsblL3"
      },
      "execution_count": null,
      "outputs": []
    },
    {
      "cell_type": "code",
      "source": [
        "print(blast_result[0:2])"
      ],
      "metadata": {
        "colab": {
          "base_uri": "https://localhost:8080/"
        },
        "id": "NyxEn5VTbozL",
        "outputId": "16d0f8a8-904e-417e-d5c2-c0baa1eb69e5"
      },
      "execution_count": null,
      "outputs": [
        {
          "output_type": "stream",
          "name": "stdout",
          "text": [
            "Program: blastn (2.16.1+)\n",
            "  Query: No (5000)\n",
            "         definition line\n",
            " Target: core_nt\n",
            "   Hits: ----  -----  ----------------------------------------------------------\n",
            "            #  # HSP  ID + description\n",
            "         ----  -----  ----------------------------------------------------------\n",
            "            0     62  gi|2921976028|gb|CP130398.1|  Cairina moschata breed yo...\n",
            "            1     56  gi|2808323617|ref|XR_011090829.1|  PREDICTED: Anas acut...\n"
          ]
        }
      ]
    },
    {
      "cell_type": "code",
      "source": [
        "Seq = blast_result[0]\n",
        "print(f\"Sequence ID: {Seq.id}\")\n",
        "print(f\"Sequence Description: {Seq.description}\")\n",
        "\n",
        "details = Seq [0]\n",
        "print(f\"E-value: {details.evalue}\")"
      ],
      "metadata": {
        "colab": {
          "base_uri": "https://localhost:8080/"
        },
        "id": "PTND_XCpc_pl",
        "outputId": "754f161a-94e4-4a27-cd24-4ef16668902c"
      },
      "execution_count": null,
      "outputs": [
        {
          "output_type": "stream",
          "name": "stdout",
          "text": [
            "Sequence ID: gi|2921976028|gb|CP130398.1|\n",
            "Sequence Description: Cairina moschata breed yongchun chromosome 20\n",
            "E-value: 0.0\n"
          ]
        }
      ]
    },
    {
      "cell_type": "code",
      "source": [
        "print(f\"alignment:\\n{details.aln}\")"
      ],
      "metadata": {
        "colab": {
          "base_uri": "https://localhost:8080/"
        },
        "id": "QJIGuNx0dOSw",
        "outputId": "b5574b04-006b-487e-ce27-42e7035d4426"
      },
      "execution_count": null,
      "outputs": [
        {
          "output_type": "stream",
          "name": "stdout",
          "text": [
            "alignment:\n",
            "Alignment with 2 rows and 922 columns\n",
            "CTGCATTTCCAGGCATGCTCTGGGCACCCAACATGGCCTCCCGG...TAC No\n",
            "CTTCATTTCCCGGTATGCTCTGGGCACCCAACATGACCTCCTGG...TAC gi|2921976028|gb|CP130398.1|\n"
          ]
        }
      ]
    },
    {
      "cell_type": "markdown",
      "source": [
        "#1.2. **Protein** BLAST"
      ],
      "metadata": {
        "id": "8Ns30ElXeU3L"
      }
    },
    {
      "cell_type": "code",
      "source": [
        "prot_record = SeqIO.read(\"prot_seq.fasta\", format=\"fasta\")\n",
        "len(prot_record)"
      ],
      "metadata": {
        "colab": {
          "base_uri": "https://localhost:8080/"
        },
        "id": "9SDjwrmneE_t",
        "outputId": "bf468fa6-6c0f-49b1-da08-2654be9252eb"
      },
      "execution_count": null,
      "outputs": [
        {
          "output_type": "execute_result",
          "data": {
            "text/plain": [
              "258"
            ]
          },
          "metadata": {},
          "execution_count": 16
        }
      ]
    },
    {
      "cell_type": "code",
      "source": [
        "result_handle = NCBIWWW.qblast(\"blastp\", \"pdb\", prot_record.seq)\n",
        "blast_result = SearchIO.read(result_handle, \"blast-xml\")"
      ],
      "metadata": {
        "id": "z3sxRUyVeqpU"
      },
      "execution_count": null,
      "outputs": []
    },
    {
      "cell_type": "code",
      "source": [
        "print(blast_result[0:2])"
      ],
      "metadata": {
        "colab": {
          "base_uri": "https://localhost:8080/"
        },
        "id": "aSLmrL7BfS9K",
        "outputId": "2e0f15e0-5fd2-487e-ec6c-6c09c58f7be0"
      },
      "execution_count": null,
      "outputs": [
        {
          "output_type": "stream",
          "name": "stdout",
          "text": [
            "Program: blastp (2.16.1+)\n",
            "  Query: unnamed (258)\n",
            "         protein product\n",
            " Target: pdb\n",
            "   Hits: ----  -----  ----------------------------------------------------------\n",
            "            #  # HSP  ID + description\n",
            "         ----  -----  ----------------------------------------------------------\n",
            "            0      1  pdb|8ELJ|A  Chain A, Spike glycoprotein [Severe acute r...\n",
            "            1      1  pdb|7CAB|A  Chain A, Spike glycoprotein [Severe acute r...\n"
          ]
        }
      ]
    },
    {
      "cell_type": "code",
      "source": [
        "Seq = blast_result [0]\n",
        "print(f\"Sequence ID: {Seq.id}\")\n",
        "print(f\"Sequence Description: {Seq.description}\")\n",
        "\n",
        "details = Seq[0]\n",
        "print(f\"E-value: {details.evalue}\")"
      ],
      "metadata": {
        "colab": {
          "base_uri": "https://localhost:8080/"
        },
        "id": "xKgWpK8VfpSG",
        "outputId": "def9d109-2d63-4e42-d4ca-c1bcf9f85c8c"
      },
      "execution_count": null,
      "outputs": [
        {
          "output_type": "stream",
          "name": "stdout",
          "text": [
            "Sequence ID: pdb|8ELJ|A\n",
            "Sequence Description: Chain A, Spike glycoprotein [Severe acute respiratory syndrome coronavirus 2]\n",
            "E-value: 0.0\n"
          ]
        }
      ]
    },
    {
      "cell_type": "code",
      "source": [
        "print(f\"alignment:\\n {details.aln}\")"
      ],
      "metadata": {
        "colab": {
          "base_uri": "https://localhost:8080/"
        },
        "id": "OqBGfhlYfslg",
        "outputId": "893b2dd6-c78a-4900-b49b-f91a88b7839d"
      },
      "execution_count": null,
      "outputs": [
        {
          "output_type": "stream",
          "name": "stdout",
          "text": [
            "alignment:\n",
            " Alignment with 2 rows and 258 columns\n",
            "IAPGQTGKIADYNYKLPDDFTGCVIAWNSNNLDSKVGGNYNYLY...PIG unnamed\n",
            "IAPGQTGKIADYNYKLPDDFTGCVIAWNSNNLDSKVGGNYNYLY...PIG pdb|8ELJ|A\n"
          ]
        }
      ]
    },
    {
      "cell_type": "markdown",
      "source": [
        "#2. ENTREZ"
      ],
      "metadata": {
        "id": "3gac0iyxfxHD"
      }
    },
    {
      "cell_type": "code",
      "source": [
        "from Bio import Entrez"
      ],
      "metadata": {
        "id": "PMj1-b1-fy4V"
      },
      "execution_count": null,
      "outputs": []
    },
    {
      "cell_type": "code",
      "source": [
        "help(Entrez)"
      ],
      "metadata": {
        "colab": {
          "base_uri": "https://localhost:8080/"
        },
        "collapsed": true,
        "id": "L_h13JR4gCML",
        "outputId": "d2e7e10a-d883-455f-cc50-59bc022638be"
      },
      "execution_count": null,
      "outputs": [
        {
          "output_type": "stream",
          "name": "stdout",
          "text": [
            "Help on package Bio.Entrez in Bio:\n",
            "\n",
            "NAME\n",
            "    Bio.Entrez - Provides code to access NCBI over the WWW.\n",
            "\n",
            "DESCRIPTION\n",
            "    The main Entrez web page is available at:\n",
            "    http://www.ncbi.nlm.nih.gov/Entrez/\n",
            "    \n",
            "    Entrez Programming Utilities web page is available at:\n",
            "    http://www.ncbi.nlm.nih.gov/books/NBK25501/\n",
            "    \n",
            "    This module provides a number of functions like ``efetch`` (short for\n",
            "    Entrez Fetch) which will return the data as a handle object. This is\n",
            "    a standard interface used in Python for reading data from a file, or\n",
            "    in this case a remote network connection, and provides methods like\n",
            "    ``.read()`` or offers iteration over the contents line by line. See\n",
            "    also \"What the heck is a handle?\" in the Biopython Tutorial and\n",
            "    Cookbook: http://biopython.org/DIST/docs/tutorial/Tutorial.html\n",
            "    http://biopython.org/DIST/docs/tutorial/Tutorial.pdf\n",
            "    The handle returned by these functions can be either in text mode or\n",
            "    in binary mode, depending on the data requested and the results\n",
            "    returned by NCBI Entrez. Typically, XML data will be in binary mode\n",
            "    while other data will be in text mode, as required by the downstream\n",
            "    parser to parse the data.\n",
            "    \n",
            "    Unlike a handle to a file on disk from the ``open(filename)`` function,\n",
            "    which has a ``.name`` attribute giving the filename, the handles from\n",
            "    ``Bio.Entrez`` all have a ``.url`` attribute instead giving the URL\n",
            "    used to connect to the NCBI Entrez API.\n",
            "    \n",
            "    The ``epost``, ``efetch``, and ``esummary`` tools take an \"id\" parameter\n",
            "    which corresponds to one or more database UIDs (or accession.version\n",
            "    identifiers in the case of sequence databases such as \"nuccore\" or\n",
            "    \"protein\"). The Python value of the \"id\" keyword passed to these functions\n",
            "    may be either a single ID as a string or integer or multiple IDs as an\n",
            "    iterable of strings/integers. You may also pass a single string containing\n",
            "    multiple IDs delimited by commas. The ``elink`` tool also accepts multiple\n",
            "    IDs but the argument is handled differently than the other three. See that\n",
            "    function's docstring for more information.\n",
            "    \n",
            "    All the functions that send requests to the NCBI Entrez API will\n",
            "    automatically respect the NCBI rate limit (of 3 requests per second\n",
            "    without an API key, or 10 requests per second with an API key) and\n",
            "    will automatically retry when encountering transient failures\n",
            "    (i.e. connection failures or HTTP 5XX codes). By default, Biopython\n",
            "    does a maximum of three tries before giving up, and sleeps for 15\n",
            "    seconds between tries. You can tweak these parameters by setting\n",
            "    ``Bio.Entrez.max_tries`` and ``Bio.Entrez.sleep_between_tries``.\n",
            "    \n",
            "    The Entrez module also provides an XML parser which takes a handle\n",
            "    as input.\n",
            "    \n",
            "    Variables:\n",
            "    \n",
            "        - email        Set the Entrez email parameter (default is not set).\n",
            "        - tool         Set the Entrez tool parameter (default is ``biopython``).\n",
            "        - api_key      Personal API key from NCBI. If not set, only 3 queries per\n",
            "          second are allowed. 10 queries per seconds otherwise with a\n",
            "          valid API key.\n",
            "        - max_tries    Configures how many times failed requests will be\n",
            "          automatically retried on error (default is 3).\n",
            "        - sleep_between_tries   The delay, in seconds, before retrying a request on\n",
            "          error (default is 15).\n",
            "    \n",
            "    Functions:\n",
            "    \n",
            "        - efetch       Retrieves records in the requested format from a list of one or\n",
            "          more primary IDs or from the user's environment\n",
            "        - epost        Posts a file containing a list of primary IDs for future use in\n",
            "          the user's environment to use with subsequent search strategies\n",
            "        - esearch      Searches and retrieves primary IDs (for use in EFetch, ELink,\n",
            "          and ESummary) and term translations and optionally retains\n",
            "          results for future use in the user's environment.\n",
            "        - elink        Checks for the existence of an external or Related Articles link\n",
            "          from a list of one or more primary IDs.  Retrieves primary IDs\n",
            "          and relevancy scores for links to Entrez databases or Related\n",
            "          Articles;  creates a hyperlink to the primary LinkOut provider\n",
            "          for a specific ID and database, or lists LinkOut URLs\n",
            "          and Attributes for multiple IDs.\n",
            "        - einfo        Provides field index term counts, last update, and available\n",
            "          links for each database.\n",
            "        - esummary     Retrieves document summaries from a list of primary IDs or from\n",
            "          the user's environment.\n",
            "        - egquery      Provides Entrez database counts in XML for a single search\n",
            "          using Global Query.\n",
            "        - espell       Retrieves spelling suggestions.\n",
            "        - ecitmatch    Retrieves PubMed IDs (PMIDs) that correspond to a set of\n",
            "          input citation strings.\n",
            "    \n",
            "        - read         Parses the XML results returned by any of the above functions.\n",
            "          Alternatively, the XML data can be read from a file opened in binary mode.\n",
            "          Typical usage is:\n",
            "    \n",
            "              >>> from Bio import Entrez\n",
            "              >>> Entrez.email = \"Your.Name.Here@example.org\"\n",
            "              >>> handle = Entrez.einfo() # or esearch, efetch, ...\n",
            "              >>> record = Entrez.read(handle)\n",
            "              >>> handle.close()\n",
            "    \n",
            "           where record is now a Python dictionary or list.\n",
            "    \n",
            "        - parse        Parses the XML results returned by those of the above functions\n",
            "          which can return multiple records - such as efetch, esummary\n",
            "          and elink. Typical usage is:\n",
            "    \n",
            "              >>> handle = Entrez.esummary(db=\"pubmed\", id=\"19304878,14630660\", retmode=\"xml\")\n",
            "              >>> records = Entrez.parse(handle)\n",
            "              >>> for record in records:\n",
            "              ...     # each record is a Python dictionary or list.\n",
            "              ...     print(record['Title'])\n",
            "              Biopython: freely available Python tools for computational molecular biology and bioinformatics.\n",
            "              PDB file parser and structure class implemented in Python.\n",
            "              >>> handle.close()\n",
            "    \n",
            "          This function is appropriate only if the XML file contains\n",
            "          multiple records, and is particular useful for large files.\n",
            "    \n",
            "        - _open        Internally used function.\n",
            "\n",
            "PACKAGE CONTENTS\n",
            "    Parser\n",
            "\n",
            "FUNCTIONS\n",
            "    ecitmatch(**keywds)\n",
            "        Retrieve PMIDs for input citation strings, returned as a handle.\n",
            "        \n",
            "        ECitMatch retrieves PubMed IDs (PMIDs) that correspond to a set of input\n",
            "        citation strings.\n",
            "        \n",
            "        See the online documentation for an explanation of the parameters:\n",
            "        http://www.ncbi.nlm.nih.gov/books/NBK25499/#chapter4.ECitMatch\n",
            "        \n",
            "        Short example:\n",
            "        \n",
            "        >>> from Bio import Entrez\n",
            "        >>> Entrez.email = \"Your.Name.Here@example.org\"\n",
            "        >>> citation_1 = {\"journal_title\": \"proc natl acad sci u s a\",\n",
            "        ...               \"year\": \"1991\", \"volume\": \"88\", \"first_page\": \"3248\",\n",
            "        ...               \"author_name\": \"mann bj\", \"key\": \"citation_1\"}\n",
            "        >>> handle = Entrez.ecitmatch(db=\"pubmed\", bdata=[citation_1])\n",
            "        >>> print(handle.read().strip().split(\"|\"))\n",
            "        ['proc natl acad sci u s a', '1991', '88', '3248', 'mann bj', 'citation_1', '2014248']\n",
            "        >>> handle.close()\n",
            "        \n",
            "        :returns: Handle to the results, by default in plain text.\n",
            "        :raises urllib.error.URLError: If there's a network error.\n",
            "    \n",
            "    efetch(db, **keywords)\n",
            "        Fetch Entrez results which are returned as a handle.\n",
            "        \n",
            "        EFetch retrieves records in the requested format from a list or set of one or\n",
            "        more UIs or from user's environment.\n",
            "        \n",
            "        See the online documentation for an explanation of the parameters:\n",
            "        http://www.ncbi.nlm.nih.gov/books/NBK25499/#chapter4.EFetch\n",
            "        \n",
            "        Short example:\n",
            "        \n",
            "        >>> from Bio import Entrez\n",
            "        >>> Entrez.email = \"Your.Name.Here@example.org\"\n",
            "        >>> handle = Entrez.efetch(db=\"nucleotide\", id=\"AY851612\", rettype=\"gb\", retmode=\"text\")\n",
            "        >>> print(handle.readline().strip())\n",
            "        LOCUS       AY851612                 892 bp    DNA     linear   PLN 10-APR-2007\n",
            "        >>> handle.close()\n",
            "        \n",
            "        This will automatically use an HTTP POST rather than HTTP GET if there\n",
            "        are over 200 identifiers as recommended by the NCBI.\n",
            "        \n",
            "        **Warning:** The NCBI changed the default retmode in Feb 2012, so many\n",
            "        databases which previously returned text output now give XML.\n",
            "        \n",
            "        :returns: Handle to the results.\n",
            "        :raises urllib.error.URLError: If there's a network error.\n",
            "    \n",
            "    egquery(**keywds)\n",
            "        Provide Entrez database counts for a global search (DEPRECATED).\n",
            "        \n",
            "        EGQuery provided Entrez database counts in XML for a single search\n",
            "        using Global Query. However, the NCBI are no longer maintaining this\n",
            "        function and suggest using esearch on each database of interest.\n",
            "        \n",
            "        See the online documentation for an explanation of the parameters:\n",
            "        http://www.ncbi.nlm.nih.gov/books/NBK25499/#chapter4.EGQuery\n",
            "        \n",
            "        This quick example based on a longer version from the Biopython\n",
            "        Tutorial just checks there are over 60 matches for 'Biopython'\n",
            "        in PubMedCentral:\n",
            "        \n",
            "        >>> from Bio import Entrez\n",
            "        >>> Entrez.email = \"Your.Name.Here@example.org\"\n",
            "        >>> handle = Entrez.egquery(term=\"biopython\")  # doctest: +SKIP\n",
            "        >>> record = Entrez.read(handle)  # doctest: +SKIP\n",
            "        >>> handle.close()  # doctest: +SKIP\n",
            "        >>> for row in record[\"eGQueryResult\"]:  # doctest: +SKIP\n",
            "        ...     if \"pmc\" in row[\"DbName\"]:  # doctest: +SKIP\n",
            "        ...         print(int(row[\"Count\"]) > 60)  # doctest: +SKIP\n",
            "        True\n",
            "        \n",
            "        :returns: Handle to the results, by default in XML format.\n",
            "        :raises urllib.error.URLError: If there's a network error.\n",
            "    \n",
            "    einfo(**keywds)\n",
            "        Return a summary of the Entrez databases as a results handle.\n",
            "        \n",
            "        EInfo provides field names, index term counts, last update, and\n",
            "        available links for each Entrez database.\n",
            "        \n",
            "        See the online documentation for an explanation of the parameters:\n",
            "        http://www.ncbi.nlm.nih.gov/books/NBK25499/#chapter4.EInfo\n",
            "        \n",
            "        Short example:\n",
            "        \n",
            "        >>> from Bio import Entrez\n",
            "        >>> Entrez.email = \"Your.Name.Here@example.org\"\n",
            "        >>> record = Entrez.read(Entrez.einfo())\n",
            "        >>> 'pubmed' in record['DbList']\n",
            "        True\n",
            "        \n",
            "        :returns: Handle to the results, by default in XML format.\n",
            "        :raises urllib.error.URLError: If there's a network error.\n",
            "    \n",
            "    elink(**keywds)\n",
            "        Check for linked external articles and return a handle.\n",
            "        \n",
            "        ELink checks for the existence of an external or Related Articles link\n",
            "        from a list of one or more primary IDs;  retrieves IDs and relevancy\n",
            "        scores for links to Entrez databases or Related Articles; creates a\n",
            "        hyperlink to the primary LinkOut provider for a specific ID and\n",
            "        database, or lists LinkOut URLs and attributes for multiple IDs.\n",
            "        \n",
            "        See the online documentation for an explanation of the parameters:\n",
            "        http://www.ncbi.nlm.nih.gov/books/NBK25499/#chapter4.ELink\n",
            "        \n",
            "        Note that ELink treats the \"id\" parameter differently than the other\n",
            "        tools when multiple values are given. You should generally pass multiple\n",
            "        UIDs as a list of strings or integers. This will provide a \"one-to-one\"\n",
            "        mapping from source database UIDs to destination database UIDs in the\n",
            "        result. If multiple source UIDs are passed as a single comma-delimited\n",
            "        string all destination UIDs will be mixed together in the result.\n",
            "        \n",
            "        This example finds articles related to the Biopython application\n",
            "        note's entry in the PubMed database:\n",
            "        \n",
            "        >>> from Bio import Entrez\n",
            "        >>> Entrez.email = \"Your.Name.Here@example.org\"\n",
            "        >>> pmid = \"19304878\"\n",
            "        >>> handle = Entrez.elink(dbfrom=\"pubmed\", id=pmid, linkname=\"pubmed_pubmed\")\n",
            "        >>> record = Entrez.read(handle)\n",
            "        >>> handle.close()\n",
            "        >>> print(record[0][\"LinkSetDb\"][0][\"LinkName\"])\n",
            "        pubmed_pubmed\n",
            "        >>> linked = [link[\"Id\"] for link in record[0][\"LinkSetDb\"][0][\"Link\"]]\n",
            "        >>> \"14630660\" in linked\n",
            "        True\n",
            "        \n",
            "        This is explained in much more detail in the Biopython Tutorial.\n",
            "        \n",
            "        :returns: Handle to the results, by default in XML format.\n",
            "        :raises urllib.error.URLError: If there's a network error.\n",
            "    \n",
            "    epost(db, **keywds)\n",
            "        Post a file of identifiers for future use.\n",
            "        \n",
            "        Posts a file containing a list of UIs for future use in the user's\n",
            "        environment to use with subsequent search strategies.\n",
            "        \n",
            "        See the online documentation for an explanation of the parameters:\n",
            "        http://www.ncbi.nlm.nih.gov/books/NBK25499/#chapter4.EPost\n",
            "        \n",
            "        :returns: Handle to the results.\n",
            "        :raises urllib.error.URLError: If there's a network error.\n",
            "    \n",
            "    esearch(db, term, **keywds)\n",
            "        Run an Entrez search and return a handle to the results.\n",
            "        \n",
            "        ESearch searches and retrieves primary IDs (for use in EFetch, ELink\n",
            "        and ESummary) and term translations, and optionally retains results\n",
            "        for future use in the user's environment.\n",
            "        \n",
            "        See the online documentation for an explanation of the parameters:\n",
            "        http://www.ncbi.nlm.nih.gov/books/NBK25499/#chapter4.ESearch\n",
            "        \n",
            "        Short example:\n",
            "        \n",
            "        >>> from Bio import Entrez\n",
            "        >>> Entrez.email = \"Your.Name.Here@example.org\"\n",
            "        >>> handle = Entrez.esearch(\n",
            "        ...     db=\"nucleotide\", retmax=10, idtype=\"acc\",\n",
            "        ...     term=\"opuntia[ORGN] accD 2007[Publication Date]\"\n",
            "        ... )\n",
            "        ...\n",
            "        >>> record = Entrez.read(handle)\n",
            "        >>> handle.close()\n",
            "        >>> int(record[\"Count\"]) >= 2\n",
            "        True\n",
            "        >>> \"EF590893.1\" in record[\"IdList\"]\n",
            "        True\n",
            "        >>> \"EF590892.1\" in record[\"IdList\"]\n",
            "        True\n",
            "        \n",
            "        :returns: Handle to the results, which are always in XML format.\n",
            "        :raises urllib.error.URLError: If there's a network error.\n",
            "    \n",
            "    espell(**keywds)\n",
            "        Retrieve spelling suggestions as a results handle.\n",
            "        \n",
            "        ESpell retrieves spelling suggestions, if available.\n",
            "        \n",
            "        See the online documentation for an explanation of the parameters:\n",
            "        http://www.ncbi.nlm.nih.gov/books/NBK25499/#chapter4.ESpell\n",
            "        \n",
            "        Short example:\n",
            "        \n",
            "        >>> from Bio import Entrez\n",
            "        >>> Entrez.email = \"Your.Name.Here@example.org\"\n",
            "        >>> record = Entrez.read(Entrez.espell(term=\"biopythooon\"))\n",
            "        >>> print(record[\"Query\"])\n",
            "        biopythooon\n",
            "        >>> print(record[\"CorrectedQuery\"])\n",
            "        biopython\n",
            "        \n",
            "        :returns: Handle to the results, by default in XML format.\n",
            "        :raises urllib.error.URLError: If there's a network error.\n",
            "    \n",
            "    esummary(**keywds)\n",
            "        Retrieve document summaries as a results handle.\n",
            "        \n",
            "        ESummary retrieves document summaries from a list of primary IDs or\n",
            "        from the user's environment.\n",
            "        \n",
            "        See the online documentation for an explanation of the parameters:\n",
            "        http://www.ncbi.nlm.nih.gov/books/NBK25499/#chapter4.ESummary\n",
            "        \n",
            "        This example discovers more about entry 19923 in the structure\n",
            "        database:\n",
            "        \n",
            "        >>> from Bio import Entrez\n",
            "        >>> Entrez.email = \"Your.Name.Here@example.org\"\n",
            "        >>> handle = Entrez.esummary(db=\"structure\", id=\"19923\")\n",
            "        >>> record = Entrez.read(handle)\n",
            "        >>> handle.close()\n",
            "        >>> print(record[0][\"Id\"])\n",
            "        19923\n",
            "        >>> print(record[0][\"PdbDescr\"])\n",
            "        CRYSTAL STRUCTURE OF E. COLI ACONITASE B\n",
            "        \n",
            "        \n",
            "        :returns: Handle to the results, by default in XML format.\n",
            "        :raises urllib.error.URLError: If there's a network error.\n",
            "    \n",
            "    parse(source, validate=True, escape=False, ignore_errors=False)\n",
            "        Parse an XML file from the NCBI Entrez Utilities into python objects.\n",
            "        \n",
            "        This function parses an XML file created by NCBI's Entrez Utilities,\n",
            "        returning a multilevel data structure of Python lists and dictionaries.\n",
            "        This function is suitable for XML files that (in Python) can be represented\n",
            "        as a list of individual records. Whereas 'read' reads the complete file\n",
            "        and returns a single Python list, 'parse' is a generator function that\n",
            "        returns the records one by one. This function is therefore particularly\n",
            "        useful for parsing large files.\n",
            "        \n",
            "        Most XML files returned by NCBI's Entrez Utilities can be parsed by\n",
            "        this function, provided its DTD is available. Biopython includes the\n",
            "        DTDs for most commonly used Entrez Utilities.\n",
            "        \n",
            "        The argument ``source`` must be a file or file-like object opened in binary\n",
            "        mode, or a filename. The parser detects the encoding from the XML file, and\n",
            "        uses it to convert all text in the XML to the correct Unicode string. The\n",
            "        functions in Bio.Entrez to access NCBI Entrez will automatically return XML\n",
            "        data in binary mode. For files, use mode \"rb\" when opening the file, as in\n",
            "        \n",
            "            >>> from Bio import Entrez\n",
            "            >>> path = \"Entrez/pubmed1.xml\"\n",
            "            >>> stream = open(path, \"rb\")  # opened in binary mode\n",
            "            >>> records = Entrez.parse(stream)\n",
            "            >>> for record in records:\n",
            "            ...     print(record['MedlineCitation']['Article']['Journal']['Title'])\n",
            "            ...\n",
            "            Social justice (San Francisco, Calif.)\n",
            "            Biochimica et biophysica acta\n",
            "            >>> stream.close()\n",
            "        \n",
            "        Alternatively, you can use the filename directly, as in\n",
            "        \n",
            "            >>> records = Entrez.parse(path)\n",
            "            >>> for record in records:\n",
            "            ...     print(record['MedlineCitation']['Article']['Journal']['Title'])\n",
            "            ...\n",
            "            Social justice (San Francisco, Calif.)\n",
            "            Biochimica et biophysica acta\n",
            "        \n",
            "        which is safer, as the file stream will automatically be closed after all\n",
            "        the records have been read, or if an error occurs.\n",
            "        \n",
            "        If validate is True (default), the parser will validate the XML file\n",
            "        against the DTD, and raise an error if the XML file contains tags that\n",
            "        are not represented in the DTD. If validate is False, the parser will\n",
            "        simply skip such tags.\n",
            "        \n",
            "        If escape is True, all characters that are not valid HTML are replaced\n",
            "        by HTML escape characters to guarantee that the returned strings are\n",
            "        valid HTML fragments. For example, a less-than sign (<) is replaced by\n",
            "        &lt;. If escape is False (default), the string is returned as is.\n",
            "        \n",
            "        If ignore_errors is False (default), any error messages in the XML file\n",
            "        will raise a RuntimeError. If ignore_errors is True, error messages will\n",
            "        be stored as ErrorElement items, without raising an exception.\n",
            "        \n",
            "        Whereas the data structure seems to consist of generic Python lists,\n",
            "        dictionaries, strings, and so on, each of these is actually a class\n",
            "        derived from the base type. This allows us to store the attributes\n",
            "        (if any) of each element in a dictionary my_element.attributes, and\n",
            "        the tag name in my_element.tag.\n",
            "    \n",
            "    read(source, validate=True, escape=False, ignore_errors=False)\n",
            "        Parse an XML file from the NCBI Entrez Utilities into python objects.\n",
            "        \n",
            "        This function parses an XML file created by NCBI's Entrez Utilities,\n",
            "        returning a multilevel data structure of Python lists and dictionaries.\n",
            "        Most XML files returned by NCBI's Entrez Utilities can be parsed by\n",
            "        this function, provided its DTD is available. Biopython includes the\n",
            "        DTDs for most commonly used Entrez Utilities.\n",
            "        \n",
            "        The argument ``source`` must be a file or file-like object opened in binary\n",
            "        mode, or a filename. The parser detects the encoding from the XML file, and\n",
            "        uses it to convert all text in the XML to the correct Unicode string. The\n",
            "        functions in Bio.Entrez to access NCBI Entrez will automatically return XML\n",
            "        data in binary mode. For files, use mode \"rb\" when opening the file, as in\n",
            "        \n",
            "            >>> from Bio import Entrez\n",
            "            >>> path = \"Entrez/esearch1.xml\"\n",
            "            >>> stream = open(path, \"rb\")  # opened in binary mode\n",
            "            >>> record = Entrez.read(stream)\n",
            "            >>> print(record['QueryTranslation'])\n",
            "            biopython[All Fields]\n",
            "            >>> stream.close()\n",
            "        \n",
            "        Alternatively, you can use the filename directly, as in\n",
            "        \n",
            "            >>> record = Entrez.read(path)\n",
            "            >>> print(record['QueryTranslation'])\n",
            "            biopython[All Fields]\n",
            "        \n",
            "        which is safer, as the file stream will automatically be closed after the\n",
            "        record has been read, or if an error occurs.\n",
            "        \n",
            "        If validate is True (default), the parser will validate the XML file\n",
            "        against the DTD, and raise an error if the XML file contains tags that\n",
            "        are not represented in the DTD. If validate is False, the parser will\n",
            "        simply skip such tags.\n",
            "        \n",
            "        If escape is True, all characters that are not valid HTML are replaced\n",
            "        by HTML escape characters to guarantee that the returned strings are\n",
            "        valid HTML fragments. For example, a less-than sign (<) is replaced by\n",
            "        &lt;. If escape is False (default), the string is returned as is.\n",
            "        \n",
            "        If ignore_errors is False (default), any error messages in the XML file\n",
            "        will raise a RuntimeError. If ignore_errors is True, error messages will\n",
            "        be stored as ErrorElement items, without raising an exception.\n",
            "        \n",
            "        Whereas the data structure seems to consist of generic Python lists,\n",
            "        dictionaries, strings, and so on, each of these is actually a class\n",
            "        derived from the base type. This allows us to store the attributes\n",
            "        (if any) of each element in a dictionary my_element.attributes, and\n",
            "        the tag name in my_element.tag.\n",
            "\n",
            "DATA\n",
            "    api_key = None\n",
            "    email = None\n",
            "    local_cache = None\n",
            "    max_tries = 3\n",
            "    sleep_between_tries = 15\n",
            "    tool = 'biopython'\n",
            "\n",
            "FILE\n",
            "    /usr/local/lib/python3.11/dist-packages/Bio/Entrez/__init__.py\n",
            "\n",
            "\n"
          ]
        }
      ]
    },
    {
      "cell_type": "code",
      "source": [
        "Entrez.email = \"omictechglobal@gmail.com\""
      ],
      "metadata": {
        "id": "ARB8OLGngE7w"
      },
      "execution_count": null,
      "outputs": []
    },
    {
      "cell_type": "code",
      "source": [
        "handle = Entrez.einfo()\n",
        "record = Entrez.read(handle)\n",
        "record[\"DbList\"]"
      ],
      "metadata": {
        "colab": {
          "base_uri": "https://localhost:8080/"
        },
        "id": "OHdDcpfggY_C",
        "outputId": "50617e4b-9613-4831-fa71-20910335526b"
      },
      "execution_count": null,
      "outputs": [
        {
          "output_type": "execute_result",
          "data": {
            "text/plain": [
              "['pubmed', 'protein', 'nuccore', 'ipg', 'nucleotide', 'structure', 'genome', 'annotinfo', 'assembly', 'bioproject', 'biosample', 'blastdbinfo', 'books', 'cdd', 'clinvar', 'gap', 'gapplus', 'grasp', 'dbvar', 'gene', 'gds', 'geoprofiles', 'medgen', 'mesh', 'nlmcatalog', 'omim', 'orgtrack', 'pmc', 'proteinclusters', 'pcassay', 'protfam', 'pccompound', 'pcsubstance', 'seqannot', 'snp', 'sra', 'taxonomy', 'biocollections', 'gtr']"
            ]
          },
          "metadata": {},
          "execution_count": 23
        }
      ]
    },
    {
      "cell_type": "code",
      "source": [
        "handle = Entrez.einfo(db=\"pubmed\")\n",
        "record = Entrez.read(handle)\n",
        "record[\"DbInfo\"] [\"Description\"]"
      ],
      "metadata": {
        "colab": {
          "base_uri": "https://localhost:8080/",
          "height": 35
        },
        "id": "U2nY3kOyhH0m",
        "outputId": "31899d44-2dea-45d8-9de5-969bbce199e4"
      },
      "execution_count": null,
      "outputs": [
        {
          "output_type": "execute_result",
          "data": {
            "text/plain": [
              "'PubMed bibliographic record'"
            ],
            "application/vnd.google.colaboratory.intrinsic+json": {
              "type": "string"
            }
          },
          "metadata": {},
          "execution_count": 24
        }
      ]
    },
    {
      "cell_type": "code",
      "source": [
        "record [\"DbInfo\"] [\"Count\"]"
      ],
      "metadata": {
        "colab": {
          "base_uri": "https://localhost:8080/",
          "height": 35
        },
        "id": "I8IMw7qphP3p",
        "outputId": "582ce1a2-f57c-46dc-bbbb-6e0223986e64"
      },
      "execution_count": null,
      "outputs": [
        {
          "output_type": "execute_result",
          "data": {
            "text/plain": [
              "'38529532'"
            ],
            "application/vnd.google.colaboratory.intrinsic+json": {
              "type": "string"
            }
          },
          "metadata": {},
          "execution_count": 25
        }
      ]
    },
    {
      "cell_type": "code",
      "source": [
        "handle = Entrez.esearch(db=\"pubmed\", term=\"biopython\")\n",
        "record = Entrez.read(handle)\n",
        "record[\"IdList\"]"
      ],
      "metadata": {
        "colab": {
          "base_uri": "https://localhost:8080/"
        },
        "id": "ScTBpLlzhf0S",
        "outputId": "d7387a93-4891-44c5-eab5-4596d470e208"
      },
      "execution_count": null,
      "outputs": [
        {
          "output_type": "execute_result",
          "data": {
            "text/plain": [
              "['39883659', '39882099', '39717221', '39546778', '39507944', '39445816', '38808697', '38650605', '38365590', '38235175', '37810457', '37668712', '36818783', '36245797', '36094101', '35497637', '35496474', '35402671', '34735950', '34484417']"
            ]
          },
          "metadata": {},
          "execution_count": 26
        }
      ]
    },
    {
      "cell_type": "code",
      "source": [
        "handle = Entrez.esummary(db=\"pubmed\", id='39445816, 38808697')\n",
        "records = Entrez.parse(handle)\n",
        "\n",
        "\n",
        "for record in records:\n",
        "    print(record['AuthorList'], record ['Title'], record['PubDate'], record['FullJournalName'])"
      ],
      "metadata": {
        "colab": {
          "base_uri": "https://localhost:8080/"
        },
        "id": "Y3jCWe0xiOqG",
        "outputId": "391ee39b-51b6-4c8c-aefe-74b2e92ae225"
      },
      "execution_count": null,
      "outputs": [
        {
          "output_type": "stream",
          "name": "stdout",
          "text": [
            "['Snobre J', 'Meehan CJ', 'Mulders W', 'Rigouts L', 'Buyl R', 'de Jong BC', 'Van Rie A', 'Tzfadia O'] Frameshift mutations in the mmpR5 gene can have a bedaquiline-susceptible phenotype by retaining a protein structure and function similar to wild-type Mycobacterium tuberculosis. 2024 Dec 5 Antimicrobial agents and chemotherapy\n",
            "['Ullah S', 'Rahman W', 'Ullah F', 'Ullah A', 'Ahmad G', 'Ijaz M', 'Ullah H', 'Sharafmal DM'] The HABD: Home of All Biological Databases Empowering Biological Research With Cutting-Edge Database Systems. 2024 May Current protocols\n"
          ]
        }
      ]
    },
    {
      "cell_type": "code",
      "source": [
        "handle = Entrez.efetch(db=\"pubmed\", id=\"19811691\")"
      ],
      "metadata": {
        "id": "fmG1GUhMihAs"
      },
      "execution_count": null,
      "outputs": []
    },
    {
      "cell_type": "code",
      "source": [
        "handle = Entrez.efetch(db=\"pubmed\", id=\"19811691\")\n",
        "print(handle.read())"
      ],
      "metadata": {
        "colab": {
          "base_uri": "https://localhost:8080/"
        },
        "id": "UPzym2zri8hE",
        "outputId": "05c4328a-5d8e-4c86-a613-b1c4a7d784f3"
      },
      "execution_count": null,
      "outputs": [
        {
          "output_type": "stream",
          "name": "stdout",
          "text": [
            "b'<?xml version=\"1.0\" ?>\\n<!DOCTYPE PubmedArticleSet PUBLIC \"-//NLM//DTD PubMedArticle, 1st January 2025//EN\" \"https://dtd.nlm.nih.gov/ncbi/pubmed/out/pubmed_250101.dtd\">\\n<PubmedArticleSet>\\n<PubmedArticle><MedlineCitation Status=\"MEDLINE\" Owner=\"NLM\" IndexingMethod=\"Manual\"><PMID Version=\"1\">19811691</PMID><DateCompleted><Year>2010</Year><Month>02</Month><Day>12</Day></DateCompleted><DateRevised><Year>2021</Year><Month>10</Month><Day>20</Day></DateRevised><Article PubModel=\"Electronic\"><Journal><ISSN IssnType=\"Electronic\">1471-2105</ISSN><JournalIssue CitedMedium=\"Internet\"><Volume>10 Suppl 11</Volume><Issue>Suppl 11</Issue><PubDate><Year>2009</Year><Month>Oct</Month><Day>08</Day></PubDate></JournalIssue><Title>BMC bioinformatics</Title><ISOAbbreviation>BMC Bioinformatics</ISOAbbreviation></Journal><ArticleTitle>Exploratory visual analysis of conserved domains on multiple sequence alignments.</ArticleTitle><Pagination><StartPage>S7</StartPage><MedlinePgn>S7</MedlinePgn></Pagination><ELocationID EIdType=\"doi\" ValidYN=\"Y\">10.1186/1471-2105-10-S11-S7</ELocationID><Abstract><AbstractText Label=\"BACKGROUND\" NlmCategory=\"BACKGROUND\">Multiple alignment of protein sequences can provide insight into sequence conservation across many species and thus allow identification of those sections of the sequence most critical to protein function. This insight can be augmented by joint display of conserved domains along the sequences. By fusing this metadata visually, biologists can analyze sequence conservation and functional motifs simultaneously and efficiently.</AbstractText><AbstractText Label=\"RESULTS\" NlmCategory=\"RESULTS\">We present MSAVis, a new approach combining luminance and hue for simultaneous visualization of conserved motifs and sequence alignment. Input for the algorithm is a multiple sequence alignment in a standard format. The NCBI Conserved Domain Database (CDD) is used for finding conserved domains along the alignment. The visualization quickly identifies conserved domains, and allows both macro (sequence-long) and micro (small amino-acid neighborhood) views.</AbstractText><AbstractText Label=\"CONCLUSION\" NlmCategory=\"CONCLUSIONS\">MSAVis utilizes two visual cues, luminance and hue, to facilitate at-a-glance summary of the conservation of a user-provided protein alignment while enabling multiple comparisons among functional domains. These visual cues are preattentive and separable so that the relationship between conservation strength and domain membership can be understood. The MSAVis software, written in Python and using BioPython and OpenGL, can be found at http://agbase.msstate.edu/tools/MSAVis.html.</AbstractText></Abstract><AuthorList CompleteYN=\"Y\"><Author ValidYN=\"Y\"><LastName>Jankun-Kelly</LastName><ForeName>T J</ForeName><Initials>TJ</Initials><AffiliationInfo><Affiliation>Institute for Digital Biology and Department of Computer Science and Engineering, Bagley College of Engineering, Mississippi State University, Mississippi, USA. tjk@acm.org</Affiliation></AffiliationInfo></Author><Author ValidYN=\"Y\"><LastName>Lindeman</LastName><ForeName>Andrew D</ForeName><Initials>AD</Initials></Author><Author ValidYN=\"Y\"><LastName>Bridges</LastName><ForeName>Susan M</ForeName><Initials>SM</Initials></Author></AuthorList><Language>eng</Language><PublicationTypeList><PublicationType UI=\"D016428\">Journal Article</PublicationType><PublicationType UI=\"D013486\">Research Support, U.S. Gov\\'t, Non-P.H.S.</PublicationType></PublicationTypeList><ArticleDate DateType=\"Electronic\"><Year>2009</Year><Month>10</Month><Day>08</Day></ArticleDate></Article><MedlineJournalInfo><Country>England</Country><MedlineTA>BMC Bioinformatics</MedlineTA><NlmUniqueID>100965194</NlmUniqueID><ISSNLinking>1471-2105</ISSNLinking></MedlineJournalInfo><ChemicalList><Chemical><RegistryNumber>0</RegistryNumber><NameOfSubstance UI=\"D011506\">Proteins</NameOfSubstance></Chemical></ChemicalList><CitationSubset>IM</CitationSubset><MeshHeadingList><MeshHeading><DescriptorName UI=\"D000595\" MajorTopicYN=\"N\">Amino Acid Sequence</DescriptorName></MeshHeading><MeshHeading><DescriptorName UI=\"D019295\" MajorTopicYN=\"N\">Computational Biology</DescriptorName><QualifierName UI=\"Q000379\" MajorTopicYN=\"Y\">methods</QualifierName></MeshHeading><MeshHeading><DescriptorName UI=\"D030562\" MajorTopicYN=\"N\">Databases, Protein</DescriptorName></MeshHeading><MeshHeading><DescriptorName UI=\"D008969\" MajorTopicYN=\"N\">Molecular Sequence Data</DescriptorName></MeshHeading><MeshHeading><DescriptorName UI=\"D017434\" MajorTopicYN=\"Y\">Protein Structure, Tertiary</DescriptorName></MeshHeading><MeshHeading><DescriptorName UI=\"D011506\" MajorTopicYN=\"N\">Proteins</DescriptorName><QualifierName UI=\"Q000737\" MajorTopicYN=\"N\">chemistry</QualifierName></MeshHeading><MeshHeading><DescriptorName UI=\"D016415\" MajorTopicYN=\"Y\">Sequence Alignment</DescriptorName></MeshHeading><MeshHeading><DescriptorName UI=\"D020539\" MajorTopicYN=\"N\">Sequence Analysis, Protein</DescriptorName><QualifierName UI=\"Q000379\" MajorTopicYN=\"Y\">methods</QualifierName></MeshHeading></MeshHeadingList></MedlineCitation><PubmedData><History><PubMedPubDate PubStatus=\"entrez\"><Year>2009</Year><Month>10</Month><Day>9</Day><Hour>6</Hour><Minute>0</Minute></PubMedPubDate><PubMedPubDate PubStatus=\"pubmed\"><Year>2009</Year><Month>10</Month><Day>14</Day><Hour>6</Hour><Minute>0</Minute></PubMedPubDate><PubMedPubDate PubStatus=\"medline\"><Year>2010</Year><Month>2</Month><Day>13</Day><Hour>6</Hour><Minute>0</Minute></PubMedPubDate><PubMedPubDate PubStatus=\"pmc-release\"><Year>2009</Year><Month>10</Month><Day>8</Day></PubMedPubDate></History><PublicationStatus>epublish</PublicationStatus><ArticleIdList><ArticleId IdType=\"pubmed\">19811691</ArticleId><ArticleId IdType=\"pmc\">PMC3226196</ArticleId><ArticleId IdType=\"doi\">10.1186/1471-2105-10-S11-S7</ArticleId><ArticleId IdType=\"pii\">1471-2105-10-S11-S7</ArticleId></ArticleIdList><ReferenceList><Reference><Citation>Larkin M, Blackshields G, Brown N, Chenna R, McGettigan P, McWilliam H, Valentin F, Wallace I, Wilm A, Lopez R, Thompson J, Gibson T, Higgins D. ClustalW and ClustalX version 2. Bioinformatics. 2007;23(21):2947&#x2013;2948. doi: 10.1093/bioinformatics/btm404.</Citation><ArticleIdList><ArticleId IdType=\"doi\">10.1093/bioinformatics/btm404</ArticleId><ArticleId IdType=\"pubmed\">17846036</ArticleId></ArticleIdList></Reference><Reference><Citation>A Conserved Domain Database and Search Service. http://www.ncbi.nlm.nih.gov/Structure/cdd/cdd.shtml</Citation></Reference><Reference><Citation>Marchler-Bauer A, Anderson J, Cherukuri P, DeWeese-Scott C, Geer L, Gwadz M, He S, Hurwitz D, Jackson J, Ke Z, Lanczycki C, Liebert C, Liu C, Lu F, Marchler G, Mullokandov M, Shoemaker B, Simonyan V, Song J, Thiessen P, Yamashita R, Yin J, Zhang D, Bryant S. CDD: A Conserved Domain Database for protein classification. Nucleic Acids Research. 2005. pp. D192&#x2013;D196.</Citation><ArticleIdList><ArticleId IdType=\"pmc\">PMC540023</ArticleId><ArticleId IdType=\"pubmed\">15608175</ArticleId></ArticleIdList></Reference><Reference><Citation>Lungu M, Xu K.  In: Human-Centered Visualization Environments, Volume 4417 of Lecture Notes in Computer Science. Kerren A, Ebert A, Meyer J, editor. Springer; 2006. Biomedical Information Visualization; pp. 311&#x2013;342.http://dx.doi.org/10.1007/978-3-540-71949-6_8</Citation><ArticleIdList><ArticleId IdType=\"doi\">10.1007/978-3-540-71949-6_8</ArticleId></ArticleIdList></Reference><Reference><Citation>Schneider TD, Stephens RM. Sequence Logos: A New Way to Display Consensus Sequences. Nucleic Acids Research. 1990;18:6097&#x2013;6100. doi: 10.1093/nar/18.20.6097.</Citation><ArticleIdList><ArticleId IdType=\"doi\">10.1093/nar/18.20.6097</ArticleId><ArticleId IdType=\"pmc\">PMC332411</ArticleId><ArticleId IdType=\"pubmed\">2172928</ArticleId></ArticleIdList></Reference><Reference><Citation>Slack J, Hildebrand K, Munzner T, John KS. In: Proceedings of the German Conference on Bioinformatics. Giegerich R, Stoye J, editor. Vol. 53. 2004. SequenceJuxtaposer: Fluid Navigation For Large-Scale Sequence Comparison in Context; pp. 37&#x2013;42.</Citation></Reference><Reference><Citation>Mayor C, Brudno M, Schwartz JR, Poliakov A, Rubin EM, Frazer KA, Pachter LS, Dubchak I. VISTA: Visualizing Global DNA Sequence Alignments of Arbitrary Length. Bioinformatics. 2000;16(11):1046&#x2013;1047. doi: 10.1093/bioinformatics/16.11.1046.</Citation><ArticleIdList><ArticleId IdType=\"doi\">10.1093/bioinformatics/16.11.1046</ArticleId><ArticleId IdType=\"pubmed\">11159318</ArticleId></ArticleIdList></Reference><Reference><Citation>Shah N, Couronne O, Pennacchio LA, Brudno M, Batzoglou S, Bethel EW, Rubin EM, Hamann B, Dubchak I. Phylo-VISTA: Interactive visualization of multiple DNA sequence alignments. Bioinformatics. 2004;20(5):636&#x2013;643. doi: 10.1093/bioinformatics/btg459.</Citation><ArticleIdList><ArticleId IdType=\"doi\">10.1093/bioinformatics/btg459</ArticleId><ArticleId IdType=\"pubmed\">15033870</ArticleId></ArticleIdList></Reference><Reference><Citation>Spell R, Brady R, Dietrich F. BARD: A visualization tool for biological sequence analysis. IEEE Symposium on Information Visualization 2003. 2003. pp. 219&#x2013;225.</Citation></Reference><Reference><Citation>InterPro. http://www.ebi.ac.uk/interpro/</Citation></Reference><Reference><Citation>Hunter S, Apweiler R, Attwood TK, Bairoch A, Bateman A, Binns D, Bork P, Das U, Daugherty L, Duquenne L, Finn RD, Gough J, Haft D, Hulo N, Kahn D, Kelly E, Laugraud A, Letunic I, Lonsdale D, Lopez R, Madera M, Maslen J, McAnulla C, McDowall J, Mistry J, Mitchell A, Mulder N, Natale D, Orengo C, Quinn AF, Selengut JD, Sigrist CJA, Thimma M, Thomas PD, Valentin F, Wilson D, Wu CH, Yeats C. InterPro: The integrative protein signature database. Nucleic Acids Research. 2009. pp. D211&#x2013;D215.</Citation><ArticleIdList><ArticleId IdType=\"doi\">10.1093/nar/gkn785</ArticleId><ArticleId IdType=\"pmc\">PMC2686546</ArticleId><ArticleId IdType=\"pubmed\">18940856</ArticleId></ArticleIdList></Reference><Reference><Citation>Consortium TU. The Universal Protein Resource (UniProt) Nucleic Acids Research. 2008. pp. D190&#x2013;D195.</Citation><ArticleIdList><ArticleId IdType=\"pmc\">PMC2238893</ArticleId><ArticleId IdType=\"pubmed\">18045787</ArticleId></ArticleIdList></Reference><Reference><Citation>UniProt. http://www.uniprot.org/</Citation></Reference><Reference><Citation>Clamp M, Cuff J, Searle S, Barton G. The Jalview Java alignment editor. Bioinformatics. 2004;20(3):426&#x2013;427. doi: 10.1093/bioinformatics/btg430.</Citation><ArticleIdList><ArticleId IdType=\"doi\">10.1093/bioinformatics/btg430</ArticleId><ArticleId IdType=\"pubmed\">14960472</ArticleId></ArticleIdList></Reference><Reference><Citation>Felsensein J. PHYLIP. http://evolution.genetics.washington.edu/phylip.html</Citation></Reference><Reference><Citation>Henikoff S, Henikoff JG. Amino acid substitution matrices from protein blocks. Proc Natl Acad Sci USA. 1992;89(22):10915&#x2013;10919. doi: 10.1073/pnas.89.22.10915.</Citation><ArticleIdList><ArticleId IdType=\"doi\">10.1073/pnas.89.22.10915</ArticleId><ArticleId IdType=\"pmc\">PMC50453</ArticleId><ArticleId IdType=\"pubmed\">1438297</ArticleId></ArticleIdList></Reference><Reference><Citation>McLaren K. The development of the CIE 1976 (L*a*b*) uniform colour-space and colour-difference formula. Journal of the Society of Dyers and Colourists. 1976;92:338&#x2013;341.</Citation></Reference><Reference><Citation>Ware C. Information Visualization: Perception for Design. 2. Morgan Kaufmann; 2004.</Citation></Reference><Reference><Citation>Pirolli P, Card SK. Information Foraging. Psychological Review. 1999;4:643&#x2013;674. doi: 10.1037/0033-295X.106.4.643.</Citation><ArticleIdList><ArticleId IdType=\"doi\">10.1037/0033-295X.106.4.643</ArticleId></ArticleIdList></Reference><Reference><Citation>Cock P, Antao T, Chang J, Chapman B, Cox C, Dalke A, Friedberg I, Hamelryck T, Kauff F, Wilczynski B, de Hoon M. Biopython: Freely available Python tools for computational molecular biology and bioinformatics. Bioinformatics. 2009;25(11):1422&#x2013;1423. doi: 10.1093/bioinformatics/btp163.</Citation><ArticleIdList><ArticleId IdType=\"doi\">10.1093/bioinformatics/btp163</ArticleId><ArticleId IdType=\"pmc\">PMC2682512</ArticleId><ArticleId IdType=\"pubmed\">19304878</ArticleId></ArticleIdList></Reference><Reference><Citation>PyOpenGL. http://pyopengl.sourceforge.net/</Citation></Reference><Reference><Citation>wxPython. http://wxpython.org/</Citation></Reference><Reference><Citation>McCarthy F, Wang N, Magee G, Nanduri B, Lawrence M, Camon E, Burrell D, Hill D, Dolan M, Williams W, Luthe D, Bridges S, Burgess S. AgBase: A Functional Genomics Resource for Agriculture. BMC Genomics. 2006;7(229)</Citation><ArticleIdList><ArticleId IdType=\"pmc\">PMC1618847</ArticleId><ArticleId IdType=\"pubmed\">16961921</ArticleId></ArticleIdList></Reference><Reference><Citation>MSAVis. http://agbase.msstate.edu/tools/MSAVis.html</Citation></Reference><Reference><Citation>Bailey TL, Boden M, Buske FA, Frith M, Grant CE, Clementi L, Ren J, Li WW, Noble WS. MEME SUITE: Tools for motif discovery and searching. Nucleic Acids Research. 2009. http://dx.doi.org/10.1093/nar/gkp335</Citation><ArticleIdList><ArticleId IdType=\"doi\">10.1093/nar/gkp335</ArticleId><ArticleId IdType=\"pmc\">PMC2703892</ArticleId><ArticleId IdType=\"pubmed\">19458158</ArticleId></ArticleIdList></Reference><Reference><Citation>The MEME Suite. http://meme.nbcr.net/</Citation></Reference><Reference><Citation>Nicholas KB, Nicholas HB, Deerfield DW. GeneDoc: Analysis and visualization of genetic variation. EMBNEW NEWS. 1997;4:14.</Citation></Reference><Reference><Citation>GeneDoc. http://www.nrbsc.org/gfx/genedoc/</Citation></Reference><Reference><Citation>Hall T. BioEdit Sequence Alignment Editor. http://www.mbio.ncsu.edu/BioEdit/bioedit.html</Citation></Reference></ReferenceList></PubmedData></PubmedArticle></PubmedArticleSet>'\n"
          ]
        }
      ]
    },
    {
      "cell_type": "markdown",
      "source": [
        "#2.2. Nucleotide"
      ],
      "metadata": {
        "id": "dK-0Mc1CjQyq"
      }
    },
    {
      "cell_type": "code",
      "source": [
        "handle = Entrez.esearch(db=\"nucleotide\", retmax=10, term=\"Severe acute respiratory syndrome\")\n",
        "record = Entrez.read(handle)\n",
        "record[\"IdList\"]"
      ],
      "metadata": {
        "colab": {
          "base_uri": "https://localhost:8080/"
        },
        "id": "bMoFhhiVjCMZ",
        "outputId": "db5e64cc-c1a4-4829-8bef-01363d67213d"
      },
      "execution_count": null,
      "outputs": [
        {
          "output_type": "execute_result",
          "data": {
            "text/plain": [
              "['2926900956', '2926900943', '2926900930', '2926900917', '2926900904', '2926900891', '2926900878', '2926900865', '2926900853', '2926900840']"
            ]
          },
          "metadata": {},
          "execution_count": 30
        }
      ]
    },
    {
      "cell_type": "code",
      "source": [
        "handle = Entrez.efetch(db=\"nucleotide\", id='2926900930', rettype=\"gb\", retmode=\"text\")\n",
        "print(handle.read())"
      ],
      "metadata": {
        "colab": {
          "base_uri": "https://localhost:8080/"
        },
        "collapsed": true,
        "id": "ZxsjPHqHkJ__",
        "outputId": "7bc1eb27-9299-4c75-f40c-b697e0912bf1"
      },
      "execution_count": null,
      "outputs": [
        {
          "output_type": "stream",
          "name": "stdout",
          "text": [
            "LOCUS       PV260946               29752 bp    RNA     linear   VRL 11-MAR-2025\n",
            "DEFINITION  Severe acute respiratory syndrome coronavirus 2 isolate\n",
            "            SARS-CoV-2/human/USA/CA-CDPH-500145807/2025, complete genome.\n",
            "ACCESSION   PV260946\n",
            "VERSION     PV260946.1\n",
            "DBLINK      BioProject: PRJNA750736\n",
            "            BioSample: SAMN47293934\n",
            "KEYWORDS    .\n",
            "SOURCE      Severe acute respiratory syndrome coronavirus 2 (SARS-CoV-2)\n",
            "  ORGANISM  Severe acute respiratory syndrome coronavirus 2\n",
            "            Viruses; Riboviria; Orthornavirae; Pisuviricota; Pisoniviricetes;\n",
            "            Nidovirales; Cornidovirineae; Coronaviridae; Orthocoronavirinae;\n",
            "            Betacoronavirus; Sarbecovirus; Severe acute respiratory\n",
            "            syndrome-related coronavirus.\n",
            "REFERENCE   1  (bases 1 to 29752)\n",
            "  AUTHORS   Diaz-Cuevas,A.\n",
            "  TITLE     Direct Submission\n",
            "  JOURNAL   Submitted (11-MAR-2025) IDLB VRDL/COVIDNet, California Department\n",
            "            of Public Health, 850 Marina Bay Blvd, Richmond, CA 94804, USA\n",
            "COMMENT     ##Assembly-Data-START##\n",
            "            Assembly Method       :: iVar v. 1.3.1\n",
            "            Sequencing Technology :: Illumina\n",
            "            ##Assembly-Data-END##\n",
            "FEATURES             Location/Qualifiers\n",
            "     source          1..29752\n",
            "                     /organism=\"Severe acute respiratory syndrome coronavirus\n",
            "                     2\"\n",
            "                     /mol_type=\"genomic RNA\"\n",
            "                     /isolate=\"SARS-CoV-2/human/USA/CA-CDPH-500145807/2025\"\n",
            "                     /isolation_source=\"clinical\"\n",
            "                     /host=\"Homo sapiens\"\n",
            "                     /db_xref=\"taxon:2697049\"\n",
            "                     /geo_loc_name=\"USA: California\"\n",
            "                     /collection_date=\"2025-01-09\"\n",
            "     gene            245..21504\n",
            "                     /gene=\"ORF1ab\"\n",
            "     CDS             join(245..13417,13417..21504)\n",
            "                     /gene=\"ORF1ab\"\n",
            "                     /ribosomal_slippage\n",
            "                     /codon_start=1\n",
            "                     /product=\"ORF1ab polyprotein\"\n",
            "                     /protein_id=\"XPR40247.1\"\n",
            "                     /translation=\"MESLVPGFNEKTHVQLSLPVLQVRDVLVRGFGDSVEEVLSEARQ\n",
            "                     HLKDGTCGLVEVEKGVLPQLEQPYVFIKRSDARTAPHELVAELEGIQYGRSGETLGVL\n",
            "                     VPHVGEIPVAYRKVLLRKNGNKGAGGHRYGADLKSFDLGDELGTDPYEDFQENWNTKH\n",
            "                     SSGVTRELMRELNGGAYTRYVDNNFCGPDGYPLECIKDLLARAGKDSCTLSEQLDFID\n",
            "                     TKRGVYCCREHEHEIAWYTERSEKSYELQTPFEIKLAKKFDTFNGECPNFVFPLNSII\n",
            "                     KTIQPRVEKKKLDGFMGRIRSVYPVASPNECNQMCLSTLMKCDHCGETSWQTGDFVKA\n",
            "                     TCEFCGTENLTKEGATTCGYLPQNAVVKIYCPACHNSEVGPEHSLAEYHNESGLKTIL\n",
            "                     RKGGRTIAFGGCVFSYVGCHNKCAYWVPRASANIGCNHTGVVGEGSEGLNDNLLEILQ\n",
            "                     KEKVNINIVGDFKLNEEIAIILASFSASTSAFVETVKGLDYKAFKQIVESCGNFKVTK\n",
            "                     GKAKKGAWNIGEQKSILSPLYAFASEAARVVRSIFSRTLETAQNSVRVLQKAAITILD\n",
            "                     GISQYSLRLIDAMMFTSDLATNNLVVMAYITGGVVQLTSQWLINIFGTVYEKLKPVLD\n",
            "                     WLEEKFKEGVEFLRDGWEIVKFISTCACEIVGGQIVTCAKEIKESVQTFFKLVNKFLA\n",
            "                     LCADSIIIGGAKLKALNLGETFVTHSKGLYRKCVKSREETGLLMPLKAPKEIIFLEGE\n",
            "                     TLPTEVLTEEVVLKTGDLQPLEQPTSEAVEAPLVGTPVCINGLMLLEIKDTEKYCALA\n",
            "                     PNMMVTNNTFTLKGGAPTKVTFGDDTVIEVQGYKSVNIIFELDERIDKVLNEKCSAYT\n",
            "                     VELGTEVNEFACVVADAVIKTLQPVSELLTPLGIDLDEWSMATYYLFDESGEFKLASH\n",
            "                     MYCSFYPPDEDEEEGDCEEEEFEPSTQYGTEDDYQGKPLEFGATSAALQPEEEQEEDW\n",
            "                     LDDDSQQTVGQQDGSEDNQTTTIQTIVEVQPQLEMELTPVVQTIEVNSFSGYLKLTDN\n",
            "                     VYIKNADIVEEAKKVKPTLVVNAANVYLKHGGGVAGALNKATNNAMQVESDDYIATNG\n",
            "                     PLKVGGSCVLSGHNLAKHCLHVVGPNVNKGEDIQLLKSAYENFNQHEVLLAPLLSAGI\n",
            "                     FGADPIHSLRVCVDTVRTNVYLAVFDKNLYDKLVSSFLEMKSEKQVEQKIAEIPKEEV\n",
            "                     KPFITESKPSVEQRKQDDKKIKACVEEVTTTLEETKFLTENLLLYIDINGNLHPDSAT\n",
            "                     LVSDIDITFLKKDAPYIVGDVVQEGVLTAVVIPTKKASGTTEMLAKALRKVPTDNYIT\n",
            "                     TYPGQGLNGYTVEEAKTVLKKCKSAFYILPSIISNEKQEILGTVSWNLREMLAHAEET\n",
            "                     RKLMPVCVETKAIVSTIQRKYKGIKIQEGVVDYGARFYFYTSKTTVASLINTLNDLNE\n",
            "                     TLVTMPLGYVTHGLNLEEAARYMRSLKVPATVSVSSPDAVTAYNGYLTSSSKTPEEHF\n",
            "                     IETISLAGSYKDWSYSGQSTQLGIEFLKRGDKSVYYTSNPTTFHLDGEVITFDNLKTL\n",
            "                     LSLREVRTIKVFTTVDNINLHTQVVDMSMTYGQQFGPTYLDGADVTKIKPHNSHEGKT\n",
            "                     FYVLPNDDTLRVEAFEYYHTTDPSFLGRYMSALNHTKKWKYPQVNGLTSIKWADNNCY\n",
            "                     LATALLTLQQIELKFNPPALQDAYYRARAGEAANFCALILAYCNKTVGELGDVRETMS\n",
            "                     YLFQHANLDSCKRVLNVVCKTCGQQQTTLKGVEAVMYMGTLSYEQFKKGVQIPCTCGK\n",
            "                     QATKYLVQQESPFVMMSAPPAQYELKHGTFTCASEYTGNYQCGHYKHITSKETLYCID\n",
            "                     GALLTKSSEYKGPITDVFYKENSYTTTIKPVTYKLDGVVCTEIDPKLDNYYKKDNSYF\n",
            "                     TEQPIDLVPNQPYPNASFDNFKFVCDNIKFADDLNQLTGYKKPASRELKVTFFPDLNG\n",
            "                     DVVAIDYRHYTPSFKKGAKLLHKPIVWHVNNATNKATYKPNTWCIRCLWSTKPVETSN\n",
            "                     SFDVLKSEDAQGMDNLACEDLKPVSEEVVENPTIQKDVLECNVKTTEVVGDIILKPAN\n",
            "                     NSLKITEEVGHTDLMAAYVDNSSLTIKKPNELSRVLGLKTLATHGLAAVNSVPWDTIA\n",
            "                     NYAKPFLNKVVSTTTNIVTRCLNRVCTNYMPYFFTLLLQLCTFTRSTNSRIKASMPTT\n",
            "                     IAKNTVKSVGKFCLEASFNYLKSPNFSKLINIIIWFLLLSVCLGSLIYSTAALGVLMS\n",
            "                     NLGMPSYCTGYREGYLNSTNVTIATYCIGSIPCSVCLSGLDSLDTYPSLETIQITISS\n",
            "                     FKWDLTAFGLVAEWFLAYILFTRFFYVLGLAAIMQLFFSYFAVHFISNSWLMWLIINL\n",
            "                     VQMAPISAMVRMYIFFASFYYVWKSYVHVVDGCNSSTCMMCYKRNRATRVECTTIVNG\n",
            "                     VRRSFYVYANGGKGFCKLHNWNCVNCDTFCAGSTFISDEVARDLSLQFKRPINPTDQS\n",
            "                     SYIVDSVTVKNGSIHLYFDKAGQKTYERHSLSHFVNLDSLRANNTKGSLPINVIVFDG\n",
            "                     KSKCEESSAKSASVYYSQLMCQPILLLDQALVSDVGDSAEVAVKMFDAYVNTFSSTFN\n",
            "                     VPMEKLKTLVATAEAELAKNVSLDNVLSTFISAARQGFVDSDVETKDVVECLKLSHQS\n",
            "                     DIEVTGDSCNNYMLTYNKVENMTPRDLGACIDCSARHINAQVAKSHNITLIWNVKDFM\n",
            "                     SLSEQLRKQIRSAAKKNNLPFKLTCATTRQVVNVVTTKIALKGGKIVNNWLKQLIKVT\n",
            "                     LVFLFVAAIFYLITPVHVMSKHTDFSSEIIGYKAIDGGVTRDIASTDTCFANKHADFD\n",
            "                     TWFSQRGGSYTNDKACPLIAAVITREVGFVVPGLPGTILRTTNGDFLHFLPRVFSAVG\n",
            "                     NICYTPSKLIEYTDFATSACVLAAECTIFKDASGKPVPYCYDTNVLEGSVAYESLRPD\n",
            "                     TRYVLMDGSIIQFPNTYLEGSVRVVTTFDSEYCRHGTCERSEAGVCVSTSGRWVLNND\n",
            "                     YYRSLPGVFCGVDAVNLFTNMFTPLIQPIGALDISASIVAGGIVAIVVTCLAYYFMRF\n",
            "                     RRAFGEYSHVVAFNTLLFLMSFIVLCLTPVYSFLPGVYSVIYLYLTFYLTNDVSFLAH\n",
            "                     IQWMVMFTPLVPFWITIAYIICISTKHFYWFFSNYLKRRVVFNGVSFSTFEEAALCTF\n",
            "                     LLNKEMYLKLRSDVLLPLTQYNRYLALYNKYKYFSGAMDTTSYREAACCHLAKALNDF\n",
            "                     SNSGSDVLYQPPQISITSAVLQSGFRKMAFPSGKVEGCMVQVTCGTTTLNGLWLDDVV\n",
            "                     YCPRHVICTSEDMLNPNYEDLLIRKSNHNFLVQAGNVQLRVIGHSMQNCVLKLKVDTA\n",
            "                     NPKTPKYKFVRIQPGQTFSVLACYNGSPSGVYQCAMRHNFTIKGSFLNGSCGSVGFNI\n",
            "                     DYDCVSFCYMHHMELPTGVHAGTDLEGNFYGPFVDRQTAQAAGTDTTITVNVLAWLYA\n",
            "                     AVINGDRWFLNRFTTTLNDFNLVAMKYNYEPLTQDHVDILGPLSAQTGIAVLDMCASL\n",
            "                     KELLQNGMNGRTILGSALLEDEFTPFDVVRQCSGVTFQSAVKRTIKGTHHWLLLTILT\n",
            "                     SLLFLVQSTQWSLFFFLYENAFLPFAMGIIAMSAFAMMFVKHKHAFLCLFLLPSLATV\n",
            "                     AYFNMVYMPASWVMRIMTWLDMVDTSLKLKDCVMYASAVVLLILMTARTVYDDGARRV\n",
            "                     WTLMNVLTLVYKVYYGNALDQAISMWALIISVTSNYSGVVTTVMFLARGIVFMCVEYC\n",
            "                     PIFFITGNTLQCIMLVYCFLGYFCTCYFGLFCLLNRYFRLTLGVYDYLVSTQEFKYMN\n",
            "                     SQGLLPPKNSIDAFKLNIKLLGVGGKPCIKVATVQSKMSDVKCTSVVLLSVLQQLRVE\n",
            "                     SSSKLWAQCVQLHNDILLAKDTTEAFEKMVSLLSVLLSMQGAVDINKLCEEMLDNRAT\n",
            "                     LQAIASEFSSLPSYAAFATAQEAYEQAVANGDSEVVLKKLKKSLNVAKSEFDRDAAMQ\n",
            "                     RKLEKMADQAMTQMYKQARSEDKRAKVTSAMQTMLFTMLRKLDNDALNNIINNARDGC\n",
            "                     VPLNIIPLTTAAKLMVVIPDYNTYKNTCDGTTFTYASALWEIQQVVDADSKIVQLSEI\n",
            "                     SMDNSPNLAWPLIVTALRANSAVKLQNNELSPVALRQMSCAAGTTQTACTDDNALAYY\n",
            "                     NTIKGGRFVLALLSDLQDLKWARFPKSDGTGTIYTELEPPCRFVTDTPKGPKVKYLYF\n",
            "                     IKGLNNLNRGMVLGSLAATVRLQAGNATEVPANSTVLSFCAFAVDAAKAYKDYLACGG\n",
            "                     QPITNCVKMLCTHTGTGQAITVTPEANMDQESFGGASCCLYCRCHIDHPNPKGFCDLK\n",
            "                     GKYVQIPTTCANDPVGFTLKNTVCTVCGMWKGYGCSCDQLRXPMLQSADAQSFLNRVC\n",
            "                     GVSAARLTPCGTGTSTDVVYRAFDIYNDKVAGFAKFLKTNCCRFQEKDEDDNLIDSYF\n",
            "                     VVKRHTFSNYQHEETIYNLLKDCPAVAKHDFFKFRIDGDMVPHISRQRLTKYTMADLV\n",
            "                     YALRHFDEGNCDTLKEILVTYNCCDDDYFNKKDWYDFVENPDILRVYANLGERVRQAL\n",
            "                     LKTVQFCDAMRNAGIVGVLTLDNQDLNGNWYDFGDFIQTTPGSGVPVVDSYYSLLMPI\n",
            "                     LTLTRALTAESHVDTDLTKPYIKWDLLKYDFTEERLKLFDRYFKYWDQTYHPNCVNCL\n",
            "                     DDRCILHCANFNVLFSTVFPLTSFGPLVRKIFVDGVPFVVSTGYHFRELGVVHNQDVN\n",
            "                     LHSSRLSFKELLVYAADPAMHAASGNLLLDKRTTCFSVAALTNNVAFQTVKPGNFNKD\n",
            "                     FYDFAVSKGFFKEGSSVELKHFFFAQDGNAAISDYDYYRYNLPTMCDIRQLLFVVEVV\n",
            "                     DKYFDCYDGGCINANQVIVNNLDKSAGFPFNKWGKARLYYDSMSYEDQDALFAYTKRN\n",
            "                     VIPTITQMNLKYAISAKNRARTVAGVSICSTMTNRQFHQKLLKSIAATRGATVVIGTS\n",
            "                     KFYGGWHNMLKTVYSDVENPHLMGWDYPKCDRAMPNMLRIMASLVLARKHTTCCSLSH\n",
            "                     RFYRLANECAQVLSEMVMCGGSLYVKPGGTSSGDATTAYANSVFNICQAVTANVNALL\n",
            "                     STDGNKIADKYVRNLQHRLYECLYRNRDVDTDFVNEFYAYLRKHFSMMILSDDAVVCF\n",
            "                     NSTYASQGLVASIKNFKSVLYYQNNVFMSEAKCWTETDLTKGPHEFCSQHTMLVKQGD\n",
            "                     DYVYLPYPDPSRILGAGCFVDDIVKTDGTLMIERFVSLAIDAYPLTKHPNQEYADVFH\n",
            "                     LYLQYIRKLHDELTGHMLDMYSVMLTNDNTSRYWEPEFYEAMYTPHTVLQAVGACVLC\n",
            "                     NSQTSLRCGACIRRPFLCCKCCYDHVISTSHKLVLSVNPYVCNAPGCDVTDVTQLYLG\n",
            "                     GMSYYCKSHKPPISFPLCANGQVFGLYKNTCVGSDNVTDFNAIATCDWTNAGDYILAN\n",
            "                     TCTERLKLFAAETLKATEETFKLSYGIATVREVLSDRELHLSWEVGKPRPPLNRNYVF\n",
            "                     TGYRVTKNSKVQIGEYTFEKGDYGDAVVYRGTTTYKLNVGDYFVLTSHTVMPLSAPTL\n",
            "                     VPQEHYVRITGLYPTLNISDEFSSNVANYQKVGMQKYSTLQGPPGTGKSHFAIGLALY\n",
            "                     YPSARIVYTACSHAAVDALCEKALKYLPIDKCSRIIPARARVECFDKFKVNSTLEQYV\n",
            "                     FCTVNALPETTADIVVFDEISMATNYDLSVVNARLCAKHYVYIGDPAQLPAPRTLLTK\n",
            "                     GTLEPEYFNSVCRLMKTIGPDMFLGTCRRCPAEIVDTVSALVYDNKLKAHKDKSAQCF\n",
            "                     KMFYKGVITHDVSSAINRPQIGVVREFLTRNPAWRKAVFISPYNSQNAVASKILGLPT\n",
            "                     QTVDSSQGSEYDYVIFTQTTETAHSCNVNRFNVAITRAKVGILCIMSDRDLYDKLQFT\n",
            "                     SLEIPRRNVATLQAENVTGLFKDCSKVITGLHPTQAPTHLSVDTKFKTEGLCVDVPGI\n",
            "                     PKDMTYRRLISMMGFKMNYQVNGYPNMFITREEAIRHVRAWIGFDVEGCHATREAVGT\n",
            "                     NLPLQLGFSTGVNLVAVPTGYVDTPNNTDFSRVSAKPPPGDQFKHLIPLMYKGLPWNV\n",
            "                     VRIKIVQMLSDTLKNLSDRVVFVLWAHGFELTSMKYFVKIGPERTCCLCDRRATCFST\n",
            "                     ASDTYACWHHSIGFDYVYNPFMIDVQQWGFTGNLQSNHDLYCQVHGNAHVASCDAIMT\n",
            "                     RCLAVHECFVKRVDWTIEYPIIGDELKINAACRKVQHMVVKAALLADKFPVLHDIGNP\n",
            "                     KAIKCVPQADVEWKFYDAQPCSDKAYKIEELFYSYATHSDKFTDGVCLFWNCNVDRYP\n",
            "                     ANSIVCRFDTRVLSNLNLPGCDGGSLYVNKHAFHTPAFDKSAFVNLKQLPFFYYSDSP\n",
            "                     CESHGKQVVSDIDYVPLKSATCITRCNLGGAVCRHHANEYRLYLDAYNMMISAGFSLW\n",
            "                     VYKQFDTYNLWNTFTRLQSLENVAFNVVNKGHFDGQQGEVPVSIINNTVYTKVDGVDV\n",
            "                     ELFENKTTLPVNVAFELWAKRNIKPVPEVKILNNLGVDIAANTVIWDYKRDAPAHIST\n",
            "                     IGVCSMTDIAKKPIETICAPLTVFFDGRVDGQVDLFRNARNGVLITEGSVKGLQPSVG\n",
            "                     PKQASLNGVTLIGEAVKTQFNYYKKVDGVVQQLPETYFTQSRNLQEFKPRSQMEIDFL\n",
            "                     ELAMDEFIERYKLEGYAFEHIVYGDFSHSQLGGLHLLIGLAKRFKESPFELEDFIPMD\n",
            "                     STVKNYFITDAQTGSSKCVCSVIDLLLDDFVEIIKSQDLSVVSKVVKVTIDYTEISFM\n",
            "                     LWCKDGHVETFYPKLQSSQAWQPGVAMPNLYKMQRMLLEKCDLQNYGDSATLPKGIMM\n",
            "                     NVAKYTQLCQYLNTLTLAVPYNMRVIHFGAGSDKGVAPGTAVLRQWLPTGTLLVDSDL\n",
            "                     NDFVSDADSTLIGDCATVHTANKWDLIISDMYDPKTKNVTKENDSKEGFFTYICGFIQ\n",
            "                     QKLALGGSVAIKITEHSWNADLYKLMGHFAWWTAFVTNVNASSSEAFLIGCNYLGKPR\n",
            "                     EQIDGYVMHANYIFWRNTNPIQLSSYSLFDMSKFPLKLRGTAVMSLKEGQINDMILSL\n",
            "                     LSKGRLIIRENNRVVISSDVLVNN\"\n",
            "     mat_peptide     245..769\n",
            "                     /gene=\"ORF1ab\"\n",
            "                     /product=\"leader protein\"\n",
            "     mat_peptide     770..2683\n",
            "                     /gene=\"ORF1ab\"\n",
            "                     /product=\"nsp2\"\n",
            "     mat_peptide     2684..8512\n",
            "                     /gene=\"ORF1ab\"\n",
            "                     /product=\"nsp3\"\n",
            "     mat_peptide     8513..10012\n",
            "                     /gene=\"ORF1ab\"\n",
            "                     /product=\"nsp4\"\n",
            "     mat_peptide     10013..10930\n",
            "                     /gene=\"ORF1ab\"\n",
            "                     /product=\"3C-like proteinase\"\n",
            "     mat_peptide     10931..11791\n",
            "                     /gene=\"ORF1ab\"\n",
            "                     /product=\"nsp6\"\n",
            "     mat_peptide     11792..12040\n",
            "                     /gene=\"ORF1ab\"\n",
            "                     /product=\"nsp7\"\n",
            "     mat_peptide     12041..12634\n",
            "                     /gene=\"ORF1ab\"\n",
            "                     /product=\"nsp8\"\n",
            "     mat_peptide     12635..12973\n",
            "                     /gene=\"ORF1ab\"\n",
            "                     /product=\"nsp9\"\n",
            "     mat_peptide     12974..13390\n",
            "                     /gene=\"ORF1ab\"\n",
            "                     /product=\"nsp10\"\n",
            "     mat_peptide     join(13391..13417,13417..16185)\n",
            "                     /gene=\"ORF1ab\"\n",
            "                     /product=\"RNA-dependent RNA polymerase\"\n",
            "     mat_peptide     16186..17988\n",
            "                     /gene=\"ORF1ab\"\n",
            "                     /product=\"helicase\"\n",
            "     mat_peptide     17989..19569\n",
            "                     /gene=\"ORF1ab\"\n",
            "                     /product=\"3'-to-5' exonuclease\"\n",
            "     mat_peptide     19570..20607\n",
            "                     /gene=\"ORF1ab\"\n",
            "                     /product=\"endoRNAse\"\n",
            "     mat_peptide     20608..21501\n",
            "                     /gene=\"ORF1ab\"\n",
            "                     /product=\"2'-O-ribose methyltransferase\"\n",
            "     CDS             245..13432\n",
            "                     /gene=\"ORF1ab\"\n",
            "                     /codon_start=1\n",
            "                     /product=\"ORF1a polyprotein\"\n",
            "                     /protein_id=\"XPR40248.1\"\n",
            "                     /translation=\"MESLVPGFNEKTHVQLSLPVLQVRDVLVRGFGDSVEEVLSEARQ\n",
            "                     HLKDGTCGLVEVEKGVLPQLEQPYVFIKRSDARTAPHELVAELEGIQYGRSGETLGVL\n",
            "                     VPHVGEIPVAYRKVLLRKNGNKGAGGHRYGADLKSFDLGDELGTDPYEDFQENWNTKH\n",
            "                     SSGVTRELMRELNGGAYTRYVDNNFCGPDGYPLECIKDLLARAGKDSCTLSEQLDFID\n",
            "                     TKRGVYCCREHEHEIAWYTERSEKSYELQTPFEIKLAKKFDTFNGECPNFVFPLNSII\n",
            "                     KTIQPRVEKKKLDGFMGRIRSVYPVASPNECNQMCLSTLMKCDHCGETSWQTGDFVKA\n",
            "                     TCEFCGTENLTKEGATTCGYLPQNAVVKIYCPACHNSEVGPEHSLAEYHNESGLKTIL\n",
            "                     RKGGRTIAFGGCVFSYVGCHNKCAYWVPRASANIGCNHTGVVGEGSEGLNDNLLEILQ\n",
            "                     KEKVNINIVGDFKLNEEIAIILASFSASTSAFVETVKGLDYKAFKQIVESCGNFKVTK\n",
            "                     GKAKKGAWNIGEQKSILSPLYAFASEAARVVRSIFSRTLETAQNSVRVLQKAAITILD\n",
            "                     GISQYSLRLIDAMMFTSDLATNNLVVMAYITGGVVQLTSQWLINIFGTVYEKLKPVLD\n",
            "                     WLEEKFKEGVEFLRDGWEIVKFISTCACEIVGGQIVTCAKEIKESVQTFFKLVNKFLA\n",
            "                     LCADSIIIGGAKLKALNLGETFVTHSKGLYRKCVKSREETGLLMPLKAPKEIIFLEGE\n",
            "                     TLPTEVLTEEVVLKTGDLQPLEQPTSEAVEAPLVGTPVCINGLMLLEIKDTEKYCALA\n",
            "                     PNMMVTNNTFTLKGGAPTKVTFGDDTVIEVQGYKSVNIIFELDERIDKVLNEKCSAYT\n",
            "                     VELGTEVNEFACVVADAVIKTLQPVSELLTPLGIDLDEWSMATYYLFDESGEFKLASH\n",
            "                     MYCSFYPPDEDEEEGDCEEEEFEPSTQYGTEDDYQGKPLEFGATSAALQPEEEQEEDW\n",
            "                     LDDDSQQTVGQQDGSEDNQTTTIQTIVEVQPQLEMELTPVVQTIEVNSFSGYLKLTDN\n",
            "                     VYIKNADIVEEAKKVKPTLVVNAANVYLKHGGGVAGALNKATNNAMQVESDDYIATNG\n",
            "                     PLKVGGSCVLSGHNLAKHCLHVVGPNVNKGEDIQLLKSAYENFNQHEVLLAPLLSAGI\n",
            "                     FGADPIHSLRVCVDTVRTNVYLAVFDKNLYDKLVSSFLEMKSEKQVEQKIAEIPKEEV\n",
            "                     KPFITESKPSVEQRKQDDKKIKACVEEVTTTLEETKFLTENLLLYIDINGNLHPDSAT\n",
            "                     LVSDIDITFLKKDAPYIVGDVVQEGVLTAVVIPTKKASGTTEMLAKALRKVPTDNYIT\n",
            "                     TYPGQGLNGYTVEEAKTVLKKCKSAFYILPSIISNEKQEILGTVSWNLREMLAHAEET\n",
            "                     RKLMPVCVETKAIVSTIQRKYKGIKIQEGVVDYGARFYFYTSKTTVASLINTLNDLNE\n",
            "                     TLVTMPLGYVTHGLNLEEAARYMRSLKVPATVSVSSPDAVTAYNGYLTSSSKTPEEHF\n",
            "                     IETISLAGSYKDWSYSGQSTQLGIEFLKRGDKSVYYTSNPTTFHLDGEVITFDNLKTL\n",
            "                     LSLREVRTIKVFTTVDNINLHTQVVDMSMTYGQQFGPTYLDGADVTKIKPHNSHEGKT\n",
            "                     FYVLPNDDTLRVEAFEYYHTTDPSFLGRYMSALNHTKKWKYPQVNGLTSIKWADNNCY\n",
            "                     LATALLTLQQIELKFNPPALQDAYYRARAGEAANFCALILAYCNKTVGELGDVRETMS\n",
            "                     YLFQHANLDSCKRVLNVVCKTCGQQQTTLKGVEAVMYMGTLSYEQFKKGVQIPCTCGK\n",
            "                     QATKYLVQQESPFVMMSAPPAQYELKHGTFTCASEYTGNYQCGHYKHITSKETLYCID\n",
            "                     GALLTKSSEYKGPITDVFYKENSYTTTIKPVTYKLDGVVCTEIDPKLDNYYKKDNSYF\n",
            "                     TEQPIDLVPNQPYPNASFDNFKFVCDNIKFADDLNQLTGYKKPASRELKVTFFPDLNG\n",
            "                     DVVAIDYRHYTPSFKKGAKLLHKPIVWHVNNATNKATYKPNTWCIRCLWSTKPVETSN\n",
            "                     SFDVLKSEDAQGMDNLACEDLKPVSEEVVENPTIQKDVLECNVKTTEVVGDIILKPAN\n",
            "                     NSLKITEEVGHTDLMAAYVDNSSLTIKKPNELSRVLGLKTLATHGLAAVNSVPWDTIA\n",
            "                     NYAKPFLNKVVSTTTNIVTRCLNRVCTNYMPYFFTLLLQLCTFTRSTNSRIKASMPTT\n",
            "                     IAKNTVKSVGKFCLEASFNYLKSPNFSKLINIIIWFLLLSVCLGSLIYSTAALGVLMS\n",
            "                     NLGMPSYCTGYREGYLNSTNVTIATYCIGSIPCSVCLSGLDSLDTYPSLETIQITISS\n",
            "                     FKWDLTAFGLVAEWFLAYILFTRFFYVLGLAAIMQLFFSYFAVHFISNSWLMWLIINL\n",
            "                     VQMAPISAMVRMYIFFASFYYVWKSYVHVVDGCNSSTCMMCYKRNRATRVECTTIVNG\n",
            "                     VRRSFYVYANGGKGFCKLHNWNCVNCDTFCAGSTFISDEVARDLSLQFKRPINPTDQS\n",
            "                     SYIVDSVTVKNGSIHLYFDKAGQKTYERHSLSHFVNLDSLRANNTKGSLPINVIVFDG\n",
            "                     KSKCEESSAKSASVYYSQLMCQPILLLDQALVSDVGDSAEVAVKMFDAYVNTFSSTFN\n",
            "                     VPMEKLKTLVATAEAELAKNVSLDNVLSTFISAARQGFVDSDVETKDVVECLKLSHQS\n",
            "                     DIEVTGDSCNNYMLTYNKVENMTPRDLGACIDCSARHINAQVAKSHNITLIWNVKDFM\n",
            "                     SLSEQLRKQIRSAAKKNNLPFKLTCATTRQVVNVVTTKIALKGGKIVNNWLKQLIKVT\n",
            "                     LVFLFVAAIFYLITPVHVMSKHTDFSSEIIGYKAIDGGVTRDIASTDTCFANKHADFD\n",
            "                     TWFSQRGGSYTNDKACPLIAAVITREVGFVVPGLPGTILRTTNGDFLHFLPRVFSAVG\n",
            "                     NICYTPSKLIEYTDFATSACVLAAECTIFKDASGKPVPYCYDTNVLEGSVAYESLRPD\n",
            "                     TRYVLMDGSIIQFPNTYLEGSVRVVTTFDSEYCRHGTCERSEAGVCVSTSGRWVLNND\n",
            "                     YYRSLPGVFCGVDAVNLFTNMFTPLIQPIGALDISASIVAGGIVAIVVTCLAYYFMRF\n",
            "                     RRAFGEYSHVVAFNTLLFLMSFIVLCLTPVYSFLPGVYSVIYLYLTFYLTNDVSFLAH\n",
            "                     IQWMVMFTPLVPFWITIAYIICISTKHFYWFFSNYLKRRVVFNGVSFSTFEEAALCTF\n",
            "                     LLNKEMYLKLRSDVLLPLTQYNRYLALYNKYKYFSGAMDTTSYREAACCHLAKALNDF\n",
            "                     SNSGSDVLYQPPQISITSAVLQSGFRKMAFPSGKVEGCMVQVTCGTTTLNGLWLDDVV\n",
            "                     YCPRHVICTSEDMLNPNYEDLLIRKSNHNFLVQAGNVQLRVIGHSMQNCVLKLKVDTA\n",
            "                     NPKTPKYKFVRIQPGQTFSVLACYNGSPSGVYQCAMRHNFTIKGSFLNGSCGSVGFNI\n",
            "                     DYDCVSFCYMHHMELPTGVHAGTDLEGNFYGPFVDRQTAQAAGTDTTITVNVLAWLYA\n",
            "                     AVINGDRWFLNRFTTTLNDFNLVAMKYNYEPLTQDHVDILGPLSAQTGIAVLDMCASL\n",
            "                     KELLQNGMNGRTILGSALLEDEFTPFDVVRQCSGVTFQSAVKRTIKGTHHWLLLTILT\n",
            "                     SLLFLVQSTQWSLFFFLYENAFLPFAMGIIAMSAFAMMFVKHKHAFLCLFLLPSLATV\n",
            "                     AYFNMVYMPASWVMRIMTWLDMVDTSLKLKDCVMYASAVVLLILMTARTVYDDGARRV\n",
            "                     WTLMNVLTLVYKVYYGNALDQAISMWALIISVTSNYSGVVTTVMFLARGIVFMCVEYC\n",
            "                     PIFFITGNTLQCIMLVYCFLGYFCTCYFGLFCLLNRYFRLTLGVYDYLVSTQEFKYMN\n",
            "                     SQGLLPPKNSIDAFKLNIKLLGVGGKPCIKVATVQSKMSDVKCTSVVLLSVLQQLRVE\n",
            "                     SSSKLWAQCVQLHNDILLAKDTTEAFEKMVSLLSVLLSMQGAVDINKLCEEMLDNRAT\n",
            "                     LQAIASEFSSLPSYAAFATAQEAYEQAVANGDSEVVLKKLKKSLNVAKSEFDRDAAMQ\n",
            "                     RKLEKMADQAMTQMYKQARSEDKRAKVTSAMQTMLFTMLRKLDNDALNNIINNARDGC\n",
            "                     VPLNIIPLTTAAKLMVVIPDYNTYKNTCDGTTFTYASALWEIQQVVDADSKIVQLSEI\n",
            "                     SMDNSPNLAWPLIVTALRANSAVKLQNNELSPVALRQMSCAAGTTQTACTDDNALAYY\n",
            "                     NTIKGGRFVLALLSDLQDLKWARFPKSDGTGTIYTELEPPCRFVTDTPKGPKVKYLYF\n",
            "                     IKGLNNLNRGMVLGSLAATVRLQAGNATEVPANSTVLSFCAFAVDAAKAYKDYLACGG\n",
            "                     QPITNCVKMLCTHTGTGQAITVTPEANMDQESFGGASCCLYCRCHIDHPNPKGFCDLK\n",
            "                     GKYVQIPTTCANDPVGFTLKNTVCTVCGMWKGYGCSCDQLRXPMLQSADAQSFLNGFA\n",
            "                     V\"\n",
            "     mat_peptide     245..769\n",
            "                     /gene=\"ORF1ab\"\n",
            "                     /product=\"leader protein\"\n",
            "     mat_peptide     770..2683\n",
            "                     /gene=\"ORF1ab\"\n",
            "                     /product=\"nsp2\"\n",
            "     mat_peptide     2684..8512\n",
            "                     /gene=\"ORF1ab\"\n",
            "                     /product=\"nsp3\"\n",
            "     mat_peptide     8513..10012\n",
            "                     /gene=\"ORF1ab\"\n",
            "                     /product=\"nsp4\"\n",
            "     mat_peptide     10013..10930\n",
            "                     /gene=\"ORF1ab\"\n",
            "                     /product=\"3C-like proteinase\"\n",
            "     mat_peptide     10931..11791\n",
            "                     /gene=\"ORF1ab\"\n",
            "                     /product=\"nsp6\"\n",
            "     mat_peptide     11792..12040\n",
            "                     /gene=\"ORF1ab\"\n",
            "                     /product=\"nsp7\"\n",
            "     mat_peptide     12041..12634\n",
            "                     /gene=\"ORF1ab\"\n",
            "                     /product=\"nsp8\"\n",
            "     mat_peptide     12635..12973\n",
            "                     /gene=\"ORF1ab\"\n",
            "                     /product=\"nsp9\"\n",
            "     mat_peptide     12974..13390\n",
            "                     /gene=\"ORF1ab\"\n",
            "                     /product=\"nsp10\"\n",
            "     mat_peptide     13391..13429\n",
            "                     /gene=\"ORF1ab\"\n",
            "                     /product=\"nsp11\"\n",
            "     stem_loop       13425..13452\n",
            "                     /gene=\"ORF1ab\"\n",
            "                     /note=\"Coronavirus frameshifting stimulation element\n",
            "                     stem-loop 1\"\n",
            "     stem_loop       13437..13491\n",
            "                     /gene=\"ORF1ab\"\n",
            "                     /note=\"Coronavirus frameshifting stimulation element\n",
            "                     stem-loop 2\"\n",
            "     gene            21512..25318\n",
            "                     /gene=\"S\"\n",
            "     CDS             21512..25318\n",
            "                     /gene=\"S\"\n",
            "                     /codon_start=1\n",
            "                     /product=\"surface glycoprotein\"\n",
            "                     /protein_id=\"XPR40249.1\"\n",
            "                     /translation=\"MFVFLVLLPLVSSQCVMPLFNLITTTQSYTNFTRGVYYPDKVFR\n",
            "                     SSVLHLTQDLFLPFFSNVTWFHAISGTNGTKRFDNPVLPFNDGVYFASTEKSNIIRGW\n",
            "                     IFGTTLDSKTQSLLIVNNATNVFIKVCEFQFCNDPFLDVYHKNNKSWMESESGVYSSA\n",
            "                     NNCTFEYVSQPFLMDLEGKQGNFKNLREFVFKNIDGYFKIYSKHTPIIGRDFPQGFSA\n",
            "                     LEPLVDLPIGINITRFQTLLALNRSYLTPGDSSSGWTAGAADYYVGYLQPRTFLLKYN\n",
            "                     ENGTITDAVDCALDPLSETKCTLKSFTVEKGIYQTSNFRVQPTESIVRFPNVTNLCPF\n",
            "                     HEVFNATRFASVYAWNRTRISNCVADYSVLYNFAPFFAFKCYGVSPTKLNDLCFTNVY\n",
            "                     ADSFVIKGNEVSQIAPGQTGNIADYNYKLPDDFTGCVIAWNSNKLDSKHSGNYDYWYR\n",
            "                     SLRKSKLKPFERDISTEIYQAGNKPCKGKGPNCYFPLESYGFRPTYGVGHQPYRVVVL\n",
            "                     SFELLHAPATVCGPKKSTNLVKNKCVNFNFNGLTGTGVLTKSNKKFLPFQQFGRDIVD\n",
            "                     TTDAVRDPQTLEILDITPCSFGGVSVITPGTNTSNQVAVLYQGVNCTEVSVAIHADQL\n",
            "                     TPTWRVYSTGSNVFQTRAGCLIGAEYVNNSYECDIPIGAGICASYQTQTKSRRRARSV\n",
            "                     ASQSIIAYTMSLGAENSVAYSNNSIAIPTNFTISVTTEILPVSMTKTSVDCTMYICGD\n",
            "                     STECSNLLLQYGSFCTQLKRALTGIAVEQDKNTQEVFAQVKQIYKTPPIKYFGGFNFS\n",
            "                     QILPDPSKPSKRSFIEDLLFNKVTLADAGFIKQYGDCLGDIAARDLICAQKFNGLTVL\n",
            "                     PPLLTDEMIAQYTSALLAGTITSGWTFGAGAALQIPFAMQMAYRFNGIGVTQNVLYEN\n",
            "                     QKLIANQFNSAIGKIQDSLFSTASALGKLQDVVNHNAQALNTLVKQLSSKFGAISSVL\n",
            "                     NDILSRLDKVEAEVQIDRLITGRLQSLQTYVTQQLIRAAEIRASANLAATKMSECVLG\n",
            "                     QSKRVDFCGKGYHLMSFPQSAPHGVVFLHVTYVPAQEKNFTTAPAICHDGKAHFPREG\n",
            "                     VFVSNGTHWFLTQRNFYEPQIITTDNTFVSGNCDVVIGIVNNTVYDPLQLELDSFKEE\n",
            "                     LDKYFKNHTSPDVDLGDISGINASVVNIQKEIDRLNEVAKNLNESLIDLQELGKYEQY\n",
            "                     IKWPWYIWLGFIAGLIAIVMVTIMLCCMTSCCSCLKGCCSCGSCCKFDEDDSEPVLKG\n",
            "                     VKLHYT\"\n",
            "     gene            25327..26154\n",
            "                     /gene=\"ORF3a\"\n",
            "     CDS             25327..26154\n",
            "                     /gene=\"ORF3a\"\n",
            "                     /codon_start=1\n",
            "                     /product=\"ORF3a protein\"\n",
            "                     /protein_id=\"XPR40250.1\"\n",
            "                     /translation=\"MDLFMRIFTIGTVTLKQGEIKDATPSDFVRATATIPIQASLPFG\n",
            "                     WLIVGVALLAVFQSASKIITLKKRWQLALSKGVHFVCNLLLLFVTVYSHLLLVAAGLE\n",
            "                     APFLYLYALVYFLQSINFVRIIMRLWLCWKCRSKNPLLYDANYFLCWHTNCYDYCIPY\n",
            "                     NSVTSSIVITSGDGTTSPISEHDYQIGGYTEKWESGVKDCVVLHSYFTSDYYQLYSTQ\n",
            "                     LSTDIGVEHVTFFIYNKIVDEPEEHVQIHTIDGSSGVVNPVMEPIYDEPTTTTSVPL\"\n",
            "     gene            26179..26406\n",
            "                     /gene=\"E\"\n",
            "     CDS             26179..26406\n",
            "                     /gene=\"E\"\n",
            "                     /codon_start=1\n",
            "                     /product=\"envelope protein\"\n",
            "                     /protein_id=\"XPR40251.1\"\n",
            "                     /translation=\"MYSFVSEETGTLIVNSVLLFLAFVVFLLVTLAILTALRLCVYCC\n",
            "                     NIVNVSLVKPSFYVYSRVKNLNSSRVPDLLV\"\n",
            "     gene            26457..27125\n",
            "                     /gene=\"M\"\n",
            "     CDS             26457..27125\n",
            "                     /gene=\"M\"\n",
            "                     /codon_start=1\n",
            "                     /product=\"membrane glycoprotein\"\n",
            "                     /protein_id=\"XPR40252.1\"\n",
            "                     /translation=\"MAHSNGTITVEELKKLLEEWNLVIGFLFLAWICLLQFAYANRNR\n",
            "                     FLYIIKLIFLWLLWPVTLTCFVLAAVYRINWITGGIAIAMACLVGLMWLSYFIASFRL\n",
            "                     FVRTRSMWSFNPETNILLNVPLHGTILTRPLLESELVIGAVILRGHLRIAGHHLGRCD\n",
            "                     IKDLPKEITVATSRTLSYYKLGASQRVAGDSGFAAYSRYRIGNYKLNTDHSSSSDNIA\n",
            "                     LLVQ\"\n",
            "     gene            27136..27321\n",
            "                     /gene=\"ORF6\"\n",
            "     CDS             27136..27321\n",
            "                     /gene=\"ORF6\"\n",
            "                     /codon_start=1\n",
            "                     /product=\"ORF6 protein\"\n",
            "                     /protein_id=\"XPR40253.1\"\n",
            "                     /translation=\"MFHLVDFQVTIAEILLIIMRTFKVSIWNLDYIINLIIKNLSKSL\n",
            "                     TENKYSQLDEEQPMEIL\"\n",
            "     gene            27328..27693\n",
            "                     /gene=\"ORF7a\"\n",
            "     CDS             27328..27693\n",
            "                     /gene=\"ORF7a\"\n",
            "                     /codon_start=1\n",
            "                     /product=\"ORF7a protein\"\n",
            "                     /protein_id=\"XPR40254.1\"\n",
            "                     /translation=\"MKIILFLALITLATCELYHYQECVRGTIVLLKEPCSSGTYEGNS\n",
            "                     PFHPLADNKFALTCFSTQFAFACPDGVKHVYQLRARSVSPKLFIRQEEVQELYSPIFL\n",
            "                     IVAAIVFITLCFTLKRKTE\"\n",
            "     gene            27690..27821\n",
            "                     /gene=\"ORF7b\"\n",
            "     CDS             27690..27821\n",
            "                     /gene=\"ORF7b\"\n",
            "                     /codon_start=1\n",
            "                     /product=\"ORF7b\"\n",
            "                     /protein_id=\"XPR40255.1\"\n",
            "                     /translation=\"MIELSLIDFYLCFLAFLLLLVLIMLIIFWFSLELQDHNETCHA\"\n",
            "     gene            27828..28193\n",
            "                     /gene=\"ORF8\"\n",
            "     CDS             27828..28193\n",
            "                     /gene=\"ORF8\"\n",
            "                     /codon_start=1\n",
            "                     /product=\"ORF8 protein\"\n",
            "                     /protein_id=\"XPR40256.1\"\n",
            "                     /translation=\"MKFLVFLGIITTVAAFHQECSLQSCTQHQPYVVDDPCPIHFYSK\n",
            "                     WYIRVGARKSAPLIELCVDEAGSKSPIQYIDIGNYTVSCLPFTINCQEPKLGSLVVRC\n",
            "                     SFYEDFLEYHDVRVVLDFI\"\n",
            "     gene            28208..29458\n",
            "                     /gene=\"N\"\n",
            "     CDS             28208..29458\n",
            "                     /gene=\"N\"\n",
            "                     /codon_start=1\n",
            "                     /product=\"nucleocapsid phosphoprotein\"\n",
            "                     /protein_id=\"XPR40257.1\"\n",
            "                     /translation=\"MSDNGPQNQRNALRITFGGPSDSTGSNQNGGARSKQRRPQGLPN\n",
            "                     NTASWFTALTQHGKEDLKFPRGQGVPINTNSSPDDQIGYYRRATRRIRGGDGKMKDLS\n",
            "                     PRWYFYYLGTGPEAGLPYGANKDGIIWVATEGALNTPKDHIGTRNPANNAAIVLQLPQ\n",
            "                     GTTLPKGFYAEGSRGGSQASSRSSSRSRNSSRNSTPGSSKRTSPARMAGNGGDAALAL\n",
            "                     LLLDRLNKLESKMSGKGQQQQGQTVTKKSAAEASKKPRQKRTATKAYNVTQAFGRRGP\n",
            "                     EQTQGNFGDQELIRQGTDYKHWPQIAQFAPSASAFFGMSRIGIEVTPSGTWLTYTGAI\n",
            "                     KLDDKDPNFKDQVILLNKHIDAYKTFPPTEPKKDKKKKADETQALPQRQKKQQTVTLL\n",
            "                     PAADLDDFSKQLQQSMSRANSTQA\"\n",
            "     gene            29483..29599\n",
            "                     /gene=\"ORF10\"\n",
            "     CDS             29483..29599\n",
            "                     /gene=\"ORF10\"\n",
            "                     /codon_start=1\n",
            "                     /product=\"ORF10 protein\"\n",
            "                     /protein_id=\"XPR40258.1\"\n",
            "                     /translation=\"MGYINVFAFPFTIYSLLLCRMNSRNYIAQVDVVNFNLT\"\n",
            "     stem_loop       29534..29569\n",
            "                     /gene=\"ORF10\"\n",
            "                     /note=\"Coronavirus 3' UTR pseudoknot stem-loop 1\"\n",
            "     stem_loop       29554..29582\n",
            "                     /gene=\"ORF10\"\n",
            "                     /note=\"Coronavirus 3' UTR pseudoknot stem-loop 2\"\n",
            "     stem_loop       29653..29667\n",
            "                     /note=\"Coronavirus 3' stem-loop II-like motif (s2m)\"\n",
            "ORIGIN      \n",
            "        1 aggtaacaaa ccaaccaact tttgatctct tgtagatctg ttctctaaac gaacnnnaaa\n",
            "       61 atctgtgtgg ctgtcactcg gctgcatgct tagtgcactc acgcagtata attaataact\n",
            "      121 aattactgtc gttgacagga cacgagtaac tcgtctatct tctgcaggct gcttacggtt\n",
            "      181 tcgtccgtgt tgcagccgat catcagcaca tctaggtttt gtccgggtgt gaccgaaagg\n",
            "      241 taagatggag agccttgtcc ctggtttcaa cgagaaaaca cacgtccaac tcagtttgcc\n",
            "      301 tgttttacag gttcgcgacg tgctcgtacg tggctttgga gactccgtgg aggaggtctt\n",
            "      361 atcagaggca cgtcaacatc ttaaagatgg cacttgtggc ttagtagaag ttgaaaaagg\n",
            "      421 cgttttgcct caacttgaac agccctatgt gttcatcaaa cgttcggatg ctcgaactgc\n",
            "      481 acctcatgag ctggtagcag aactcgaagg cattcagtac ggtcgtagtg gtgagacact\n",
            "      541 tggtgtcctt gtccctcatg tgggcgaaat accagtggct taccgcaagg ttcttcttcg\n",
            "      601 taagaacggt aataaaggag ctggtggcca taggtacggc gccgatctaa agtcatttga\n",
            "      661 cttaggcgac gagcttggca ctgatcctta tgaagatttt caagaaaact ggaacactaa\n",
            "      721 acatagcagt ggtgttaccc gtgaactcat gcgtgagctt aacggagggg catacactcg\n",
            "      781 ctatgtcgat aacaacttct gtggccctga tggctaccct cttgagtgca ttaaagacct\n",
            "      841 tctagcacgt gctggtaaag attcatgcac tttgtccgaa caactggact ttattgacac\n",
            "      901 taagaggggt gtatactgct gccgtgaaca tgagcatgaa attgcttggt acacggaacg\n",
            "      961 ttctgaaaag agctatgaac tgcagacacc ttttgaaatt aaattggcaa agaaatttga\n",
            "     1021 caccttcaat ggggaatgtc caaattttgt atttccctta aattccataa tcaagactat\n",
            "     1081 tcaaccaagg gttgaaaaga aaaagcttga tggctttatg ggtagaattc gatctgtcta\n",
            "     1141 tccagttgcg tcaccaaatg aatgcaacca aatgtgcctt tcaactctca tgaagtgtga\n",
            "     1201 tcattgtggt gaaacttcat ggcagacggg cgattttgtt aaagccactt gcgaattttg\n",
            "     1261 tggcactgag aatttgacta aagaaggtgc cactacttgt ggttacttac cccaaaatgc\n",
            "     1321 tgttgttaaa atttattgtc cagcatgtca caattcagaa gtaggacctg agcatagtct\n",
            "     1381 tgccgaatac cataatgaat ctggcttgaa aaccattctt cgtaagggtg gtcgcactat\n",
            "     1441 tgcctttgga ggctgtgtgt tctcttatgt tggttgccat aacaagtgtg cctattgggt\n",
            "     1501 tccacgtgct agcgctaaca taggttgtaa ccatacaggt gttgttggag aaggttccga\n",
            "     1561 aggtcttaat gacaaccttc ttgaaatact ccaaaaagag aaagtcaaca tcaatattgt\n",
            "     1621 tggtgacttt aaacttaatg aagagatcgc cattattttg gcatcttttt ctgcttccac\n",
            "     1681 aagtgctttt gtggaaactg tgaaaggttt ggattataaa gcattcaaac aaattgttga\n",
            "     1741 atcctgtggt aattttaaag ttacaaaagg aaaagctaaa aaaggtgcct ggaatattgg\n",
            "     1801 tgaacagaaa tcaatactga gtcctcttta tgcatttgca tcagaggctg ctcgtgttgt\n",
            "     1861 acgatcaatt ttctcccgca ctcttgaaac tgctcaaaat tctgtgcgtg ttttacagaa\n",
            "     1921 ggccgctata acaatactag atggaatttc acagtattca ctgagactca ttgatgctat\n",
            "     1981 gatgttcaca tctgatttgg ctactaacaa tctagttgta atggcctaca ttacaggtgg\n",
            "     2041 tgttgttcag ttgacttcgc agtggctaat taacatcttt ggcactgttt atgaaaaact\n",
            "     2101 caaacccgtc cttgattggc ttgaagagaa gtttaaggaa ggtgtagagt ttcttagaga\n",
            "     2161 cggttgggaa attgttaaat ttatctcaac ctgtgcttgt gaaattgtcg gtggacaaat\n",
            "     2221 tgtcacctgt gcaaaggaaa ttaaggagag tgttcagaca ttctttaagc ttgtaaataa\n",
            "     2281 atttttggct ttgtgtgctg actctatcat tattggtgga gctaaactta aagccttgaa\n",
            "     2341 tttaggtgaa acatttgtca cgcactcaaa gggattgtac agaaagtgtg ttaaatccag\n",
            "     2401 agaagaaact ggcctactca tgcctctaaa agccccaaaa gaaattatct tcttagaggg\n",
            "     2461 agaaacactt cccacagaag tgttaacaga ggaagttgtc ttgaaaactg gtgatttaca\n",
            "     2521 accattagaa caacctacta gtgaagctgt tgaagctcca ttggttggta caccagtttg\n",
            "     2581 tattaacggg cttatgttgc tcgaaatcaa agacacagaa aagtactgtg cccttgcacc\n",
            "     2641 taatatgatg gtaacaaaca ataccttcac actcaaaggc ggtgcaccaa caaaggttac\n",
            "     2701 ttttggtgat gacactgtga tagaagtgca aggttacaag agtgtgaata tcatttttga\n",
            "     2761 acttgatgaa aggattgata aagtacttaa tgagaagtgc tctgcctata cagttgaact\n",
            "     2821 cggtacagaa gtaaatgagt tcgcctgtgt tgtggcagat gctgtcataa aaactttgca\n",
            "     2881 accagtatct gaattactta caccactggg cattgattta gatgagtgga gtatggctac\n",
            "     2941 atactactta tttgatgagt ctggtgagtt taaattggct tcacatatgt attgttcttt\n",
            "     3001 ttaccctcca gatgaggatg aagaagaagg tgattgtgaa gaagaagagt ttgagccatc\n",
            "     3061 aactcaatat ggtactgaag atgattacca aggtaaacct ttggaatttg gtgccacttc\n",
            "     3121 tgctgctctt caacctgaag aagagcaaga agaagattgg ttagatgatg atagtcaaca\n",
            "     3181 aactgttggt caacaagacg gcagtgagga caatcagaca actactattc aaacaattgt\n",
            "     3241 tgaggttcaa cctcaattag agatggaact tacaccagtt gttcagacta ttgaagtgaa\n",
            "     3301 tagttttagt ggttatttaa aacttactga caatgtatac attaaaaatg cagacattgt\n",
            "     3361 ggaagaagct aaaaaggtaa aaccaacatt ggttgttaat gcagccaatg tttaccttaa\n",
            "     3421 acatggagga ggtgttgcag gagccttaaa taaggctact aacaatgcca tgcaagttga\n",
            "     3481 atctgatgat tacatagcta ctaatggacc acttaaagtg ggcggtagtt gtgttttaag\n",
            "     3541 cggacacaat cttgctaaac actgtcttca tgttgtcggc ccaaatgtta acaaaggtga\n",
            "     3601 agacattcaa cttcttaaga gtgcttatga aaattttaat cagcacgaag ttctacttgc\n",
            "     3661 accattatta tcagctggta tttttggtgc tgaccctata cattctttaa gagtttgtgt\n",
            "     3721 agatactgtt cgcacaaatg tctacttagc tgtctttgat aaaaatctct atgacaaact\n",
            "     3781 tgtttcaagc tttttggaaa tgaagagtga aaagcaagtt gaacaaaaga tcgctgagat\n",
            "     3841 tcctaaagag gaagttaagc catttataac tgaaagtaaa ccttcagttg aacagagaaa\n",
            "     3901 acaagatgat aagaaaatca aagcttgtgt tgaagaagtt acaacaactc tggaagaaac\n",
            "     3961 taagttcctc acagaaaact tgttacttta tattgacatt aatggcaatc ttcatccaga\n",
            "     4021 ttctgccact cttgttagtg acattgacat cactttctta aagaaagatg ctccatatat\n",
            "     4081 agtgggtgat gttgttcaag agggtgtttt aactgctgtg gttataccta ctaaaaaggc\n",
            "     4141 tagtggcact actgaaatgc tagcgaaagc tttgagaaaa gtgccaacag acaattatat\n",
            "     4201 aaccacttac ccgggtcagg gtttaaatgg ttacactgta gaggaggcaa agacagtgct\n",
            "     4261 taaaaagtgt aaaagtgctt tttacattct accatctatt atctctaatg agaagcaaga\n",
            "     4321 aattcttgga actgtttctt ggaatttgcg agaaatgctt gcacatgcag aagaaacacg\n",
            "     4381 caaattaatg cctgtctgtg tggaaactaa agccatagtt tcaactatac agcgtaaata\n",
            "     4441 taagggtatt aaaatacaag agggtgtggt tgattatggt gctagatttt acttttacac\n",
            "     4501 cagtaaaaca actgtagcgt cacttatcaa cacacttaac gatctaaatg aaactcttgt\n",
            "     4561 tacaatgcca cttggctatg taacacatgg cttaaatttg gaagaagctg ctcggtatat\n",
            "     4621 gagatctctc aaagtgccag ctacagtttc tgtttcttca cctgatgctg ttacagcgta\n",
            "     4681 taatggttat cttacttctt cttctaaaac acctgaagaa cattttattg aaaccatctc\n",
            "     4741 acttgctggt tcctataaag attggtccta ttctggacaa tctacacaac taggtataga\n",
            "     4801 atttcttaag agaggtgata aaagtgtata ttacactagt aatcctacca cattccacct\n",
            "     4861 agatggtgaa gttatcacct ttgataatct taagacactt ctttctttga gagaagtgag\n",
            "     4921 gactattaag gtgtttacaa cagtagacaa cattaacctc cacacgcaag ttgtggacat\n",
            "     4981 gtcaatgaca tatggacaac agtttggtcc aacttatttg gatggagctg atgttactaa\n",
            "     5041 aataaaacct cataattcac atgaaggtaa aacattttat gttttaccta atgatgacac\n",
            "     5101 tctacgtgtt gaggcttttg agtactacca cacaactgat cctagttttc tgggtaggta\n",
            "     5161 catgtcagca ttaaatcaca ctaaaaagtg gaaataccca caagttaatg gtttaacttc\n",
            "     5221 tattaaatgg gcagataaca actgttatct tgccactgca ttgttaacac tccaacaaat\n",
            "     5281 agagttgaag tttaatccac ctgctctaca agatgcttat tacagagcaa gggctggtga\n",
            "     5341 agctgctaac ttttgtgcac ttatcttagc ctactgtaat aagacagtag gtgagttagg\n",
            "     5401 tgatgttaga gaaacaatga gttacttgtt tcaacatgcc aatttagatt cttgcaaaag\n",
            "     5461 agtcttgaac gtggtgtgta aaacttgtgg acaacagcag acaaccctta agggtgtaga\n",
            "     5521 agctgttatg tacatgggca cactttctta tgaacaattt aagaaaggtg ttcagatacc\n",
            "     5581 ttgtacgtgt ggtaaacaag ctacaaaata tctagtacaa caggagtcac cttttgttat\n",
            "     5641 gatgtcagca ccacctgctc agtatgaact taagcatggt acatttactt gtgctagtga\n",
            "     5701 gtacactggt aattaccagt gtggtcacta taaacatata acttctaaag aaactttgta\n",
            "     5761 ttgcatagac ggtgctttac ttacaaagtc ctcagaatac aaaggtccta ttacggatgt\n",
            "     5821 tttctacaaa gaaaacagtt acacaacaac cataaaacca gttacttata aattggatgg\n",
            "     5881 tgttgtttgt acagaaattg accctaagtt ggacaattat tataagaaag acaattctta\n",
            "     5941 tttcacagag caaccaattg atcttgtacc aaaccaacca tatccaaacg caagcttcga\n",
            "     6001 taattttaag tttgtatgtg ataatatcaa atttgctgat gatttaaacc agttaactgg\n",
            "     6061 ttataagaaa cctgcttcaa gagagcttaa agttacattt ttccctgact taaatggtga\n",
            "     6121 tgtggtggct attgattata gacactacac accctctttt aagaaaggag ctaaattgtt\n",
            "     6181 acataaacct attgtttggc atgttaacaa tgcaactaat aaagccacgt ataaaccaaa\n",
            "     6241 tacctggtgt atacgttgtc tttggagcac aaaaccagtt gaaacatcaa attcgtttga\n",
            "     6301 tgtactgaag tcagaggacg cgcagggaat ggataatctt gcctgcgaag atctaaaacc\n",
            "     6361 agtctctgaa gaagtagtgg aaaatcctac catacagaaa gacgttcttg agtgtaatgt\n",
            "     6421 gaaaactacc gaagttgtag gagacattat acttaaacca gcaaataata gtttaaaaat\n",
            "     6481 tacagaagag gttggccaca cagatctaat ggctgcttat gtagacaatt ctagtcttac\n",
            "     6541 tattaagaaa cctaatgaat tatctagagt attaggtttg aaaacccttg ctactcatgg\n",
            "     6601 tttagctgct gttaatagtg tcccttggga tactatagct aattatgcta agccttttct\n",
            "     6661 taacaaagtt gttagtacaa ctactaacat agttacacgg tgtttaaacc gtgtttgtac\n",
            "     6721 taattatatg ccttatttct ttactttatt gctacaattg tgtactttta ctagaagtac\n",
            "     6781 aaattctaga attaaagcat ctatgccgac tactatagca aagaatactg ttaagagtgt\n",
            "     6841 cggtaaattt tgtctagagg cttcatttaa ttatttgaag tcacctaatt tttctaaact\n",
            "     6901 gataaatatt ataatttggt ttttactatt aagtgtttgc ctaggttctt taatctactc\n",
            "     6961 aaccgctgct ttaggtgttt taatgtctaa tttaggcatg ccttcttact gtactggtta\n",
            "     7021 cagagaaggc tatttgaact ctactaatgt cactattgca acctactgta ttggttctat\n",
            "     7081 accttgtagt gtttgtctta gtggtttaga ttctttagac acctatcctt ctttagaaac\n",
            "     7141 tatacaaatt accatttcat cttttaaatg ggatttaact gcttttggct tagttgcaga\n",
            "     7201 gtggtttttg gcatatattc ttttcactag gtttttctat gtacttggat tggctgcaat\n",
            "     7261 catgcaattg tttttcagct attttgcagt acattttatt agtaattctt ggcttatgtg\n",
            "     7321 gttaataatt aatcttgtac aaatggcccc gatttcagct atggttagaa tgtacatctt\n",
            "     7381 ctttgcatca ttttattatg tatggaaaag ttatgtgcat gttgtagacg gttgtaattc\n",
            "     7441 atcaacttgt atgatgtgtt acaaacgtaa tagagcaaca agagtcgaat gtacaactat\n",
            "     7501 tgttaatggt gttagaaggt ccttttatgt ctatgctaat ggaggtaaag gcttttgcaa\n",
            "     7561 actacacaat tggaattgtg ttaattgtga tacattctgt gctggtagta catttattag\n",
            "     7621 tgatgaagtt gcgagagact tgtcactaca gtttaaaaga ccaataaatc ctactgacca\n",
            "     7681 gtcttcttac atcgttgata gtgttacagt gaagaatggt tccatccatc tttactttga\n",
            "     7741 taaagctggt caaaagactt atgaaagaca ttctctctct cattttgtta acttagacag\n",
            "     7801 cctgagagct aataacacta aaggttcatt gcctattaat gttatagttt ttgatggtaa\n",
            "     7861 atcaaaatgt gaagaatcat ctgcaaaatc agcgtctgtt tactacagtc agcttatgtg\n",
            "     7921 tcaacctata ctgttactag atcaggcatt agtgtctgat gttggtgata gtgcggaagt\n",
            "     7981 tgcagttaaa atgtttgatg cttacgttaa tacgttttca tcaactttta acgtaccaat\n",
            "     8041 ggaaaaactc aaaacactag ttgcaactgc agaagctgaa cttgcaaaga atgtgtcctt\n",
            "     8101 agacaatgtc ttatctactt ttatttcagc agctcggcaa gggtttgttg attcagatgt\n",
            "     8161 agaaactaaa gatgttgttg aatgtcttaa attgtcacat caatctgaca tagaagttac\n",
            "     8221 tggcgatagt tgtaataact atatgctcac ttataacaaa gttgaaaaca tgacaccccg\n",
            "     8281 tgaccttggt gcttgtattg actgtagtgc gcgtcatatt aatgcgcagg tagcaaaaag\n",
            "     8341 tcacaacatt actttgatat ggaacgttaa agatttcatg tcattgtctg aacaactacg\n",
            "     8401 aaaacaaata cgtagtgctg ctaaaaagaa taacttacct tttaagttga catgtgcaac\n",
            "     8461 tactagacaa gttgttaatg ttgtaacaac aaagatagca cttaagggtg gtaaaattgt\n",
            "     8521 taataattgg ttgaagcagt taattaaagt tacacttgtg ttcctttttg ttgctgctat\n",
            "     8581 tttctattta ataacacctg ttcatgtcat gtctaaacat actgactttt caagtgaaat\n",
            "     8641 cataggatac aaggctattg atggtggtgt cactcgtgac atagcatcta cagatacttg\n",
            "     8701 ttttgctaac aaacatgctg attttgacac atggtttagc cagcgtggtg gtagttatac\n",
            "     8761 taatgacaaa gcttgcccat tgattgctgc agtcataaca agagaagtgg gttttgtcgt\n",
            "     8821 gcctggtttg cctggcacga tattacgcac aactaatggt gactttttgc atttcttacc\n",
            "     8881 tagagttttt agtgcagttg gtaacatctg ttacacacca tcaaaactta tagagtacac\n",
            "     8941 tgactttgca acatcagctt gtgttttggc tgctgaatgt acaattttta aagatgcttc\n",
            "     9001 tggtaagcca gtaccatatt gttatgatac caatgtacta gaaggttctg ttgcttatga\n",
            "     9061 aagtttacgc cctgacacac gttatgtgct catggatggc tctattattc aatttcctaa\n",
            "     9121 cacctacctt gaaggttctg ttagagtggt aacaactttt gattctgagt actgtaggca\n",
            "     9181 cggcacttgt gaaagatcag aagctggtgt ttgtgtatct actagtggta gatgggtact\n",
            "     9241 taacaatgat tattacagat ctttaccagg agttttctgt ggtgtagatg ctgtaaattt\n",
            "     9301 atttactaat atgtttacac cactaattca acctattggt gctttggaca tatcagcatc\n",
            "     9361 tatagtagct ggtggtattg tggctatcgt agtaacatgc cttgcctact attttatgag\n",
            "     9421 gtttagaaga gcttttggtg aatacagtca tgtagttgcc tttaatactt tactattcct\n",
            "     9481 tatgtcattc attgtactct gtttaacacc agtttactca ttcttacctg gtgtttattc\n",
            "     9541 tgttatttac ttgtacttga cattttatct tactaatgat gtttcttttt tagcacatat\n",
            "     9601 tcagtggatg gttatgttca cacctttagt acctttctgg ataacaattg cttatatcat\n",
            "     9661 ttgtatttcc acaaagcatt tctattggtt ctttagtaat tacctaaaga gacgtgtagt\n",
            "     9721 ctttaatggt gtttccttta gtacttttga agaagctgcg ctgtgcacct ttttgttaaa\n",
            "     9781 taaagaaatg tatctaaagt tgcgtagtga tgtgctatta cctcttacgc aatataatag\n",
            "     9841 atacttagct ctttataata agtacaagta ttttagtgga gcaatggata caactagcta\n",
            "     9901 cagagaagct gcttgttgtc atctcgcaaa ggctctcaat gacttcagta actcaggttc\n",
            "     9961 tgatgttctt taccaaccac cacaaatctc tatcacctca gctgttttgc agagtggttt\n",
            "    10021 tagaaaaatg gcattcccat ctggtaaagt tgagggttgt atggtacaag taacttgtgg\n",
            "    10081 tacaactaca cttaacggtc tttggcttga tgacgtagtt tactgtccaa gacatgtgat\n",
            "    10141 ctgcacctct gaagatatgc ttaaccctaa ttatgaagat ttactcattc gtaagtctaa\n",
            "    10201 tcataatttc ttggtacagg ctggtaatgt tcaactcagg gttattggac attctatgca\n",
            "    10261 aaattgtgta cttaagctta aggttgatac agccaatcct aagacaccta agtataagtt\n",
            "    10321 tgttcgcatt caaccaggac agactttttc agtgttagct tgttacaatg gttcaccatc\n",
            "    10381 tggtgtttac caatgtgcta tgagacacaa tttcactatt aagggttcat tccttaatgg\n",
            "    10441 ttcatgtggt agtgttggtt ttaacataga ttatgactgt gtctcttttt gttacatgca\n",
            "    10501 ccatatggaa ttaccaactg gagttcatgc tggcacagac ttagaaggta acttttatgg\n",
            "    10561 accttttgtt gacaggcaaa cagcacaagc agctggtacg gacacaacta ttacagttaa\n",
            "    10621 tgttttagct tggttgtacg ctgctgttat aaatggagac aggtggtttc tcaatcgatt\n",
            "    10681 taccacaact cttaatgact ttaaccttgt ggctatgaag tacaattatg aacctctaac\n",
            "    10741 acaagaccat gttgacatac taggacctct ttctgctcaa actggaattg ccgttttaga\n",
            "    10801 tatgtgtgct tcattaaaag aattactgca aaatggtatg aatggacgta ccatattggg\n",
            "    10861 tagtgcttta ttagaagatg aatttacacc ttttgatgtt gttagacaat gctcaggtgt\n",
            "    10921 tactttccaa agtgcagtga aaagaacaat caagggtaca caccactggt tgttactcac\n",
            "    10981 aattttgact tcacttttat ttttagtcca gagtactcaa tggtctttgt tctttttttt\n",
            "    11041 gtatgaaaat gcctttttac cttttgctat gggtattatt gctatgtctg cttttgcaat\n",
            "    11101 gatgtttgtc aaacataagc atgcatttct ctgtttgttt ttgttacctt ctcttgccac\n",
            "    11161 tgtagcttat tttaatatgg tctatatgcc tgctagttgg gtgatgcgta ttatgacatg\n",
            "    11221 gttggatatg gttgatacta gtttgaagct aaaagactgt gttatgtatg catcagctgt\n",
            "    11281 agtgttacta atccttatga cagcaagaac tgtgtatgat gatggtgcta ggagagtgtg\n",
            "    11341 gacacttatg aatgtcttga cactcgttta taaagtttat tatggtaatg ctttagatca\n",
            "    11401 agccatttcc atgtgggctc ttataatctc tgttacttct aactactcag gtgtagttac\n",
            "    11461 aactgtcatg tttttggcca gaggtattgt ttttatgtgt gttgagtatt gccctatttt\n",
            "    11521 cttcataact ggtaatacac ttcagtgtat aatgctagtt tattgtttct taggctattt\n",
            "    11581 ttgtacttgt tactttggcc tcttttgttt actcaaccgc tactttagac tgactcttgg\n",
            "    11641 tgtttatgat tacttagttt ctacacagga gtttaaatat atgaattcac agggactact\n",
            "    11701 cccacccaag aatagcatag atgccttcaa actcaacatt aaattgttgg gtgttggtgg\n",
            "    11761 caaaccttgt atcaaagtag ccactgtaca gtctaaaatg tcagatgtaa agtgcacatc\n",
            "    11821 agtagtctta ctctcagttt tgcaacaact cagagtagaa tcatcatcta aattgtgggc\n",
            "    11881 tcaatgtgtc cagttacaca atgacattct cttagctaaa gatactactg aagcctttga\n",
            "    11941 aaaaatggtt tcactacttt ctgttttgct ttccatgcag ggtgctgtag acataaacaa\n",
            "    12001 gctttgtgaa gaaatgctgg acaacagggc aaccttacaa gctatagcct cagagtttag\n",
            "    12061 ttcccttcca tcatatgcag cttttgctac tgctcaagaa gcttatgagc aggctgttgc\n",
            "    12121 taatggtgat tctgaagttg ttcttaaaaa gttgaagaag tctttgaatg tggctaaatc\n",
            "    12181 tgaatttgac cgtgatgcag ccatgcaacg taagttggaa aagatggctg atcaagctat\n",
            "    12241 gacccaaatg tataaacagg ctagatctga ggacaagagg gcaaaagtta ctagtgctat\n",
            "    12301 gcagacaatg cttttcacta tgcttagaaa gttggataat gatgcactca acaacattat\n",
            "    12361 caacaatgca agagatggtt gtgttccctt gaacataata cctcttacaa cagcagccaa\n",
            "    12421 actaatggtt gtcataccag actataacac atataaaaat acgtgtgatg gtacaacatt\n",
            "    12481 tacttatgca tcagcattgt gggaaatcca acaggttgta gatgcagata gtaaaattgt\n",
            "    12541 tcaacttagt gaaattagta tggataattc acctaattta gcatggcctc ttattgtaac\n",
            "    12601 agctttaagg gccaattctg ctgtcaaatt acagaataat gagcttagtc ctgttgcact\n",
            "    12661 acgacagatg tcttgtgctg ccggtactac acaaactgct tgcactgatg acaatgcgtt\n",
            "    12721 agcttactac aacacaataa agggaggtag gtttgtactt gcattgttat ccgatttaca\n",
            "    12781 ggatttgaaa tgggctagat tccctaagag tgatggaact ggtactattt atacagaact\n",
            "    12841 ggaaccacct tgtaggtttg ttacagacac acctaaaggt cctaaagtga agtatttata\n",
            "    12901 ctttattaaa ggattaaaca acctaaatag aggtatggta cttggtagtt tagctgccac\n",
            "    12961 agtacgtcta caagctggta atgcaacaga agtgcctgcc aattcaactg tattatcttt\n",
            "    13021 ctgtgctttt gctgtagatg ctgctaaagc ttacaaagat tatctagctt gtgggggaca\n",
            "    13081 accaatcact aattgtgtta agatgttgtg tacacacact ggtactggtc aggcaataac\n",
            "    13141 agttacaccg gaagccaata tggatcaaga atcctttggt ggtgcatcgt gttgtctgta\n",
            "    13201 ctgccgttgc cacatagatc atccaaatcc taaaggattt tgtgacttaa aaggtaagta\n",
            "    13261 tgtacaaata cctacaactt gtgctaacga ccctgtgggt tttacactta aaaacacagt\n",
            "    13321 ctgtaccgtc tgcggtatgt ggaaaggtta tggctgtagt tgtgatcaac tccgcraacc\n",
            "    13381 catgcttcag tcagctgatg cacaatcgtt tttaaacggg tttgcggtgt aagtgcagcc\n",
            "    13441 cgtcttacac cgtgcggcac aggcactagt actgatgtcg tatacagggc ttttgacatc\n",
            "    13501 tacaatgata aagtagctgg ttttgctaaa ttcctaaaaa ctaattgttg tcgcttccaa\n",
            "    13561 gaaaaggacg aagatgacaa tttaattgat tcttactttg tagttaagag acacactttc\n",
            "    13621 tctaactacc aacatgaaga aacaatttat aatttactta aggattgtcc agctgttgct\n",
            "    13681 aaacatgact tctttaagtt tagaatagac ggtgacatgg taccacatat atcacgtcaa\n",
            "    13741 cgtcttacta aatacacaat ggcagacctc gtctatgctt taaggcattt tgatgaaggt\n",
            "    13801 aattgtgaca cattaaaaga aatacttgtc acatacaatt gttgtgatga tgattatttc\n",
            "    13861 aataaaaagg actggtatga ttttgtagaa aacccagata tattacgcgt atacgccaac\n",
            "    13921 ttaggtgaac gtgtacgcca agctttgtta aaaacagtac aattctgtga tgccatgcga\n",
            "    13981 aatgctggta ttgttggtgt actgacatta gataatcaag atctcaatgg taactggtat\n",
            "    14041 gatttcggtg atttcataca aaccacgcca ggtagtggag ttcctgttgt agattcttat\n",
            "    14101 tattcattgt taatgcctat attaaccttg accagggctt taactgcaga gtcacatgtt\n",
            "    14161 gacactgact taacaaagcc ttacattaag tgggatttgt taaaatatga cttcacggaa\n",
            "    14221 gagaggttaa aactctttga ccgttatttt aaatattggg atcagacata ccacccaaat\n",
            "    14281 tgtgttaact gtttggatga cagatgcatt ctgcattgtg caaactttaa tgttttattc\n",
            "    14341 tctacagtgt tcccacttac aagttttgga ccactagtga gaaaaatatt tgttgatggt\n",
            "    14401 gttccatttg tagtttcaac tggataccac ttcagagagc taggtgttgt acataatcag\n",
            "    14461 gatgtaaact tacatagctc tagacttagt tttaaggaat tacttgtgta tgctgctgac\n",
            "    14521 cctgctatgc acgctgcttc tggtaatcta ttactagata aacgcactac gtgcttttca\n",
            "    14581 gtagctgcac ttactaacaa tgttgctttt caaactgtca aacccggtaa ttttaacaaa\n",
            "    14641 gacttctatg actttgctgt gtctaagggt ttctttaagg aaggaagttc tgttgaatta\n",
            "    14701 aaacacttct tctttgctca ggatggtaat gctgctatca gcgattatga ctactatcgt\n",
            "    14761 tataatctac caacaatgtg tgatatcaga caactactat ttgtagttga agttgttgat\n",
            "    14821 aagtactttg attgttacga tggtggctgt attaatgcta accaagtcat cgtcaacaac\n",
            "    14881 ctagacaaat cagctggttt tccatttaat aaatggggta aggctagact ttattatgat\n",
            "    14941 tcaatgagtt atgaggatca agatgcactt ttcgcatata caaaacgtaa tgtcatccct\n",
            "    15001 actataactc aaatgaatct taagtatgcc attagtgcaa agaatagagc tcgcaccgta\n",
            "    15061 gctggtgtct ctatctgtag tactatgacc aatagacagt ttcatcaaaa attattgaaa\n",
            "    15121 tcaatagccg ccactagagg agctactgta gtaattggaa caagcaaatt ctatggtggt\n",
            "    15181 tggcacaaca tgttaaaaac tgtttatagt gatgtagaaa accctcacct tatgggttgg\n",
            "    15241 gattatccta aatgtgatag agccatgcct aacatgctta gaattatggc ctcacttgtt\n",
            "    15301 cttgctcgca aacatacaac ttgttgtagc ttgtcacacc gtttctatag attagctaat\n",
            "    15361 gagtgtgctc aagtattgag tgaaatggtc atgtgtggcg gttcactata tgttaaacca\n",
            "    15421 ggtggaacct catcaggaga tgccacaact gcttatgcta atagtgtttt taacatttgt\n",
            "    15481 caagctgtca cggccaatgt taatgcactt ttatctactg atggtaacaa aattgccgat\n",
            "    15541 aagtatgtcc gcaatttaca acacagactt tatgagtgtc tctatagaaa tagagatgtt\n",
            "    15601 gacacagact ttgtgaatga gttttacgca tatttgcgta aacatttctc aatgatgata\n",
            "    15661 ctttctgacg atgctgttgt gtgttttaat agcacttatg catcacaagg tctagtggct\n",
            "    15721 agcataaaga actttaagtc agttctttat tatcaaaaca atgtttttat gtctgaagca\n",
            "    15781 aaatgttgga ctgagactga ccttactaaa ggacctcatg aattttgctc tcaacataca\n",
            "    15841 atgctagtta aacagggtga tgattatgtg taccttcctt acccagatcc atcaagaatc\n",
            "    15901 ctaggggccg gctgttttgt agatgatatc gtaaaaacag atggtacact tatgattgaa\n",
            "    15961 cggttcgtgt ctttagctat agatgcttac ccacttacta aacatcctaa tcaggagtat\n",
            "    16021 gctgatgtct ttcatttgta cttacaatac ataagaaagc tacatgatga gttaacagga\n",
            "    16081 cacatgttag acatgtattc tgttatgctt actaatgata acacttcaag gtattgggaa\n",
            "    16141 cctgagtttt atgaggctat gtacacaccg catacagtct tacaggctgt tggggcttgt\n",
            "    16201 gttctttgca attcacagac ttcattaaga tgtggtgctt gcatacgtag accattctta\n",
            "    16261 tgttgtaaat gctgttacga ccatgtcata tcaacatcac ataaattagt cttgtctgtt\n",
            "    16321 aatccgtatg tttgcaatgc tccaggttgt gatgtcacag atgtgactca actttactta\n",
            "    16381 ggaggtatga gctattattg taaatcacat aaaccaccca ttagttttcc attgtgtgct\n",
            "    16441 aatggacaag tttttggttt atataaaaat acatgtgttg gtagcgataa tgttactgac\n",
            "    16501 tttaatgcaa ttgcaacatg tgactggaca aatgctggtg attacatttt agctaacacc\n",
            "    16561 tgtactgaaa gactcaagct ttttgcagca gaaacgctca aagctactga ggagacattt\n",
            "    16621 aaactgtctt atggtattgc tactgtacgt gaagtgctgt ctgacagaga attacatctt\n",
            "    16681 tcatgggaag ttggtaaacc tagaccacca cttaaccgaa attatgtctt tactggttat\n",
            "    16741 cgtgtaacta aaaacagtaa agtacaaata ggagagtaca cctttgaaaa aggtgactat\n",
            "    16801 ggtgatgctg ttgtttaccg aggtacaaca acttacaaat taaatgttgg tgattatttt\n",
            "    16861 gtgctgacat cacatacagt aatgccatta agtgcaccta cactagtgcc acaagagcac\n",
            "    16921 tatgttagaa ttactggctt atacccaaca ctcaatatct cagatgagtt ttctagcaat\n",
            "    16981 gttgcaaatt atcaaaaggt tggtatgcaa aagtattcta cactccaggg accacctggt\n",
            "    17041 actggtaaga gtcattttgc tattggccta gctctctact acccttctgc tcgcatagtg\n",
            "    17101 tatacagctt gctctcatgc cgctgttgat gcactatgtg agaaggcatt aaaatatttg\n",
            "    17161 cctatagata aatgtagtag aattatacct gcacgtgctc gtgtagagtg ttttgataaa\n",
            "    17221 ttcaaagtga attcaacatt agaacagtat gtcttttgta ctgtaaatgc attgcctgag\n",
            "    17281 actacagcag atatagttgt ctttgatgaa atttcaatgg ccacaaatta tgatttgagt\n",
            "    17341 gttgtcaatg ccagattatg tgctaagcac tatgtgtaca ttggcgaccc tgctcaatta\n",
            "    17401 cctgcaccac gcacattgct aactaagggc acactagaac cagaatattt caattcagtg\n",
            "    17461 tgtagactta tgaaaactat aggtccagac atgttcctcg gaacttgtcg gcgttgtcct\n",
            "    17521 gctgaaattg ttgacactgt gagtgctttg gtttatgata ataagcttaa agcacataaa\n",
            "    17581 gacaaatcag ctcaatgctt taaaatgttt tataagggtg ttatcacgca tgatgtttca\n",
            "    17641 tctgcaatta acaggccaca aataggcgtg gtaagagaat tccttacacg taaccctgct\n",
            "    17701 tggagaaaag ctgtctttat ttcaccttat aattcacaga atgctgtagc ctcaaagatt\n",
            "    17761 ttgggactac caactcaaac tgttgattca tcacagggct cagaatatga ctatgtcata\n",
            "    17821 ttcactcaaa ccactgaaac agctcactct tgtaatgtaa acagatttaa tgttgctatt\n",
            "    17881 accagagcaa aagtaggcat actttgcata atgtctgata gagaccttta tgacaagttg\n",
            "    17941 caatttacaa gtcttgaaat tccacgtagg aatgtggcaa ctttacaagc tgaaaatgta\n",
            "    18001 acaggactct ttaaagattg tagtaaggta atcactgggt tacatcctac acaggcacct\n",
            "    18061 acacacctca gtgttgacac taaattcaaa actgaaggtt tatgtgttga cgtacctggc\n",
            "    18121 atacctaagg acatgaccta tagaagactc atctctatga tgggttttaa aatgaattat\n",
            "    18181 caagttaatg gttaccctaa catgtttatc acccgcgaag aagctataag acatgtacgt\n",
            "    18241 gcatggattg gcttcgatgt cgaggggtgt catgctacta gagaagctgt tggtaccaat\n",
            "    18301 ttacctttac agctaggttt ttctacaggt gttaacctag ttgctgtacc tacaggttat\n",
            "    18361 gttgatacac ctaataatac agatttttcc agagttagtg ctaaaccacc gcctggagat\n",
            "    18421 caatttaaac acctcatacc gcttatgtac aaaggacttc cttggaatgt agtgcgtata\n",
            "    18481 aagattgtac aaatgttaag tgacacactt aaaaatctct ctgacagagt cgtatttgtc\n",
            "    18541 ttatgggcac atggctttga gttgacatct atgaagtatt ttgtgaaaat aggacctgag\n",
            "    18601 cgcacctgtt gtctatgtga tagacgtgcc acatgctttt ccactgcttc agacacttat\n",
            "    18661 gcctgttggc atcattctat tggatttgat tacgtctata atccgtttat gattgatgtt\n",
            "    18721 caacaatggg gttttacagg taacctacaa agcaaccatg atctgtattg tcaagtccat\n",
            "    18781 ggtaatgcac atgtagctag ttgtgatgca atcatgacta ggtgtctagc tgtccacgag\n",
            "    18841 tgttttgtta agcgtgttga ctggactatt gaatatccta taattggtga tgaactgaag\n",
            "    18901 attaatgcgg cttgtagaaa ggttcaacac atggttgtta aagctgcatt attagcagac\n",
            "    18961 aaattcccag ttcttcacga cattggtaac cctaaagcta ttaagtgtgt acctcaagct\n",
            "    19021 gatgtagaat ggaagttcta tgatgcacag ccttgtagtg acaaagctta taaaatagaa\n",
            "    19081 gaattattct attcttatgc cacacattct gacaaattca cagatggtgt atgcctattt\n",
            "    19141 tggaattgca atgtcgatag atatcctgct aattccattg tttgtagatt tgacactaga\n",
            "    19201 gtgctatcta accttaactt gcctggttgt gatggtggca gtttgtatgt aaataaacat\n",
            "    19261 gcattccaca caccagcttt tgataaaagt gcttttgtta atttaaaaca attaccattt\n",
            "    19321 ttctattact ctgacagtcc atgtgagtct catggaaaac aagtagtgtc agatatagat\n",
            "    19381 tatgtaccac taaagtctgc tacgtgtata acacgttgca atttaggtgg tgctgtctgt\n",
            "    19441 agacatcatg ctaatgagta cagattgtat ctcgatgctt ataacatgat gatctcagct\n",
            "    19501 ggctttagct tgtgggttta caaacaattt gatacttata acctctggaa cacttttaca\n",
            "    19561 agacttcaga gtttagaaaa tgtggctttt aatgttgtaa ataagggaca ctttgatgga\n",
            "    19621 caacagggtg aagtaccagt ttctatcatt aataacactg tttacacaaa ggttgatggt\n",
            "    19681 gttgatgtag aattgtttga aaataaaaca acattacctg ttaatgtagc atttgagctt\n",
            "    19741 tgggctaagc gcaacattaa accagtacca gaggtgaaaa tactcaataa tttgggtgtg\n",
            "    19801 gacattgctg ctaatactgt gatctgggac tacaaaagag atgctccagc acatatatct\n",
            "    19861 actattggtg tttgttctat gactgacata gccaagaaac caattgaaac gatttgtgca\n",
            "    19921 ccactcactg tcttttttga tggtagagtt gatggtcaag tagacttatt tagaaatgcc\n",
            "    19981 cgtaatggtg ttcttattac agagggtagt gttaaaggtt tacaaccatc tgtaggtccc\n",
            "    20041 aaacaagcta gtcttaatgg agtcacatta attggagaag ccgtaaaaac acagttcaat\n",
            "    20101 tattataaga aagttgatgg tgttgtccaa caattacctg aaacttactt tactcagagt\n",
            "    20161 agaaatttac aagaatttaa acccaggagt caaatggaaa ttgatttctt agaattagct\n",
            "    20221 atggatgaat tcattgaacg gtataaatta gaaggctatg ccttcgaaca tatcgtttat\n",
            "    20281 ggagatttta gtcatagtca gttaggtggt ttacatctac tgattggact agctaaacgt\n",
            "    20341 tttaaggaat caccttttga attagaagat tttattccta tggacagtac agttaaaaac\n",
            "    20401 tatttcataa cagatgcgca aacaggttca tctaagtgtg tgtgttctgt tattgattta\n",
            "    20461 ttacttgatg attttgttga aataataaaa tcccaagatt tatctgtagt ttctaaggtt\n",
            "    20521 gtcaaagtga ctattgacta tacagaaatt tcatttatgc tttggtgtaa agatggccat\n",
            "    20581 gtagaaacat tttacccaaa attacaatct agtcaagcgt ggcaaccggg tgttgctatg\n",
            "    20641 cctaatcttt acaaaatgca aagaatgcta ttagaaaagt gtgaccttca aaattatggt\n",
            "    20701 gatagtgcaa cattacctaa aggcataatg atgaatgtcg caaaatatac tcaactgtgt\n",
            "    20761 caatatttaa acacattaac attagctgta ccctataata tgagagttat acattttggt\n",
            "    20821 gctggttctg ataaaggagt tgcaccaggt acagctgttt taagacagtg gttgcctacg\n",
            "    20881 ggtacgctgc ttgtcgattc agatcttaat gactttgtct ctgatgcaga ttcaactttg\n",
            "    20941 attggtgatt gtgcaactgt acatacagct aataaatggg atctcattat tagtgatatg\n",
            "    21001 tacgacccta agactaaaaa tgttacaaaa gaaaatgact ctaaagaggg ttttttcact\n",
            "    21061 tacatttgtg ggtttataca acaaaagcta gctcttggag gttccgtggc tataaagata\n",
            "    21121 acagaacatt cttggaatgc tgatctttat aagctcatgg gacacttcgc atggtggaca\n",
            "    21181 gcctttgtta ctaatgtgaa tgcgtcatca tctgaagcat ttttaattgg atgtaattat\n",
            "    21241 cttggcaaac cacgcgaaca aatagatggt tatgtcatgc atgcaaatta catattttgg\n",
            "    21301 aggaatacaa atccaattca gttgtcttcc tattctttat ttgacatgag taaatttccc\n",
            "    21361 cttaaattaa ggggtactgc tgttatgtct ttaaaagaag gtcaaatcaa tgatatgatt\n",
            "    21421 ttatctcttc ttagtaaagg tagacttata attagagaaa acaacagagt tgttatttct\n",
            "    21481 agtgatgttc ttgttaacaa ctaaacgaac aatgtttgtt tttcttgttt tattgccact\n",
            "    21541 agtctctagt cagtgtgtca tgccgctgtt taatcttata actacaactc aatcatacac\n",
            "    21601 taatttcaca cgtggtgttt attaccctga caaagttttc agatcctcag ttttacattt\n",
            "    21661 aactcaggac ttgttcttac ctttcttttc caatgttact tggttccatg ctatctctgg\n",
            "    21721 gaccaatggt actaagaggt ttgataaccc tgtcctacca tttaatgatg gtgtttattt\n",
            "    21781 tgcttccact gagaagtcta acataataag aggctggatt tttggtacta ctttagattc\n",
            "    21841 gaagacccag tccctactta ttgttaataa cgctactaat gtttttatta aagtctgtga\n",
            "    21901 atttcaattt tgtaatgatc catttttgga tgtttaccac aaaaacaaca aaagttggat\n",
            "    21961 ggaaagtgag tcaggagttt attctagtgc gaataattgc acttttgaat atgtctctca\n",
            "    22021 gccttttctt atggaccttg aaggaaaaca gggtaatttc aaaaatctta gggaatttgt\n",
            "    22081 gtttaagaat attgatggtt attttaaaat atattctaag cacacgccta ttatagggcg\n",
            "    22141 tgatttccct cagggttttt cggctttaga accattggta gatttgccaa taggtattaa\n",
            "    22201 catcactagg tttcaaactt tacttgcttt aaatagaagt tatttgactc ctggtgattc\n",
            "    22261 ttcttcaggt tggacagctg gtgctgcaga ttattatgtg ggttatcttc aacctaggac\n",
            "    22321 ttttctatta aaatataatg aaaatggaac cattacagat gctgtagact gtgcacttga\n",
            "    22381 ccctctctca gaaacaaagt gtacgttgaa atccttcact gtagaaaaag gaatctatca\n",
            "    22441 aacttctaac tttagagtcc aaccaacaga atctattgtt agatttccta atgttacaaa\n",
            "    22501 cttgtgccct tttcatgaag tttttaacgc caccagattt gcatctgttt atgcttggaa\n",
            "    22561 caggacgaga atcagcaact gtgttgctga ttattctgtc ctatataatt tcgcaccatt\n",
            "    22621 tttcgctttt aagtgttatg gagtgtctcc tactaaatta aatgatctct gctttactaa\n",
            "    22681 tgtctatgca gattcatttg taattaaagg taatgaagtc agccaaatcg ctccagggca\n",
            "    22741 aactggaaat attgctgatt ataattataa attaccagat gattttacag gctgcgttat\n",
            "    22801 agcttggaat tctaacaagc ttgattctaa gcatagtggt aattatgatt actggtatag\n",
            "    22861 atcgcttagg aagtctaaac tcaaaccttt tgagagagat atttcaactg aaatctatca\n",
            "    22921 ggccggtaac aaaccttgta aaggtaaagg tcctaattgt tactttcctt tagaatcata\n",
            "    22981 tggtttccga cccacttatg gtgttggtca ccaaccatac agagtagtag tactttcttt\n",
            "    23041 tgaacttcta catgcaccag caactgtttg tggacctaaa aagtctacta atttggttaa\n",
            "    23101 aaacaaatgt gtcaatttca acttcaatgg tttaacaggc acaggtgttc ttactaagtc\n",
            "    23161 taacaaaaag tttctgcctt tccaacaatt tggcagagac attgttgaca ctactgatgc\n",
            "    23221 tgtccgtgat ccacagacac ttgagattct tgacattaca ccatgttctt ttggtggtgt\n",
            "    23281 cagtgttata acaccaggaa caaatacttc taaccaggtt gctgttcttt atcagggtgt\n",
            "    23341 taactgcaca gaagtctctg ttgctattca tgcagatcaa cttactccta cttggcgtgt\n",
            "    23401 ttattctaca ggttctaatg tttttcaaac acgtgcaggc tgtttaatag gggctgaata\n",
            "    23461 tgtcaacaac tcatatgagt gtgacatacc cattggtgca ggtatatgcg ctagttatca\n",
            "    23521 gactcagact aagtctcgtc ggcgggcacg tagtgtagct agtcaatcca tcattgccta\n",
            "    23581 cactatgtca cttggtgcag aaaattcagt tgcttactct aataactcta ttgccatacc\n",
            "    23641 cacaaatttt actattagtg ttaccacaga aattctacca gtgtctatga ccaagacatc\n",
            "    23701 agtagattgt acaatgtaca tttgtggtga ttcaactgaa tgcagcaatc ttttgttgca\n",
            "    23761 atatggcagt ttttgtacac aattaaaacg tgctttaact ggaatagctg ttgaacaaga\n",
            "    23821 caaaaacacc caagaagttt ttgcacaagt caaacaaatt tacaaaacac caccaattaa\n",
            "    23881 atattttggt ggttttaatt tttcacaaat attaccagat ccatcaaaac caagcaagag\n",
            "    23941 gtcatttatt gaagatctac ttttcaacaa agtgacactt gcagatgctg gcttcatcaa\n",
            "    24001 acaatatggt gattgccttg gtgatattgc tgctagagac ctcatttgtg cacaaaagtt\n",
            "    24061 taacggcctt actgttttgc cacctttgct cacagatgaa atgattgctc aatacacttc\n",
            "    24121 tgcactgtta gcgggtacaa tcacttctgg ttggaccttt ggtgcaggtg ctgcattaca\n",
            "    24181 aataccattt gctatgcaaa tggcttatag gtttaatggt attggagtta cacagaatgt\n",
            "    24241 tctctatgag aaccaaaaat tgattgccaa ccaatttaat agtgctattg gcaaaattca\n",
            "    24301 agactcactt ttttccacag caagtgcact tggaaaactt caagatgtgg tcaaccataa\n",
            "    24361 tgcacaagct ttaaacacgc ttgttaaaca acttagctcc aaatttggtg caatttcaag\n",
            "    24421 tgttttaaat gatatccttt cacgtcttga caaagttgag gctgaagtgc aaattgatag\n",
            "    24481 gttgatcaca ggcagacttc aaagtttgca gacatatgtg actcaacaat taattagagc\n",
            "    24541 tgcagaaatc agagcttctg ctaatcttgc tgctactaaa atgtcagagt gtgtacttgg\n",
            "    24601 acaatcaaaa agagttgatt tttgtggaaa gggctatcat cttatgtcct tccctcagtc\n",
            "    24661 agcacctcat ggtgtagtct tcttgcatgt gacttatgtc cctgcacaag aaaagaactt\n",
            "    24721 cacaactgct cctgccattt gtcatgatgg aaaagcacac tttcctcgtg aaggtgtctt\n",
            "    24781 tgtttcaaat ggcacacact ggtttttaac acaaaggaat ttttatgaac cacaaatcat\n",
            "    24841 tactacagac aacacatttg tgtctggtaa ctgtgatgtt gtaataggaa ttgtcaacaa\n",
            "    24901 cacagtttat gatcctttgc aacttgaatt agattcattc aaggaggagt tagataaata\n",
            "    24961 ttttaagaat catacatcac cagatgttga tttaggtgac atctctggca ttaatgcttc\n",
            "    25021 agttgtaaac attcaaaaag aaattgaccg cctcaatgag gttgccaaga atttaaatga\n",
            "    25081 atctctcatc gatctccaag aacttggaaa gtatgagcag tatataaaat ggccatggta\n",
            "    25141 tatttggcta ggttttatag ctggcttgat tgccatagta atggtgacaa ttatgctttg\n",
            "    25201 ctgtatgacc agttgctgta gttgtctcaa gggctgttgt tcttgtggat cctgctgcaa\n",
            "    25261 atttgatgaa gacgactctg agccagtgct caaaggagtc aaattacatt acacataaac\n",
            "    25321 gaacttatgg atttgtttat gagaatcttc acaattggaa ctgtaacttt gaagcaaggt\n",
            "    25381 gaaatcaagg atgctactcc ttcagatttt gttcgcgcta ctgcaacgat accgatacaa\n",
            "    25441 gcctcactcc ctttcggatg gcttattgtt ggcgttgcac ttcttgctgt ttttcagagc\n",
            "    25501 gcttccaaaa tcataactct caaaaagaga tggcaactag cactctccaa gggtgttcac\n",
            "    25561 tttgtttgca acttgctgtt gttgtttgta acagtttact cacacctttt gctcgttgct\n",
            "    25621 gctggccttg aagccccttt tctctatctt tatgctttag tctacttctt gcagagtata\n",
            "    25681 aactttgtaa gaataataat gaggctttgg ctttgctgga aatgccgttc caaaaaccca\n",
            "    25741 ttactttatg atgccaacta ttttctttgc tggcatacta attgttacga ctattgtata\n",
            "    25801 ccttacaata gtgtaacttc ttcaattgtc attacttcag gtgatggcac aacaagtcct\n",
            "    25861 atttctgaac atgactacca gattggtggt tatactgaaa aatgggaatc tggagtaaaa\n",
            "    25921 gactgtgttg tattacacag ttacttcact tcagactatt accagctgta ctcaactcaa\n",
            "    25981 ttgagtacag acattggtgt tgaacatgtt accttcttca tctacaataa aattgttgat\n",
            "    26041 gagcctgaag aacatgtcca aattcacaca atcgacggtt catccggagt tgttaatcca\n",
            "    26101 gtaatggaac caatttatga tgaaccgacg acgactacta gcgtgccttt gtaagcacaa\n",
            "    26161 gctgatgagt acgaacttat gtactcattc gtttcggaag agacaggtac gttaatagtt\n",
            "    26221 aatagcgtac ttctttttct tgctttcgtg gtattcttgc tagttacact agccatcctt\n",
            "    26281 actgcgcttc gattgtgtgt gtactgctgc aatattgtta acgtgagtct tgtaaaacct\n",
            "    26341 tctttttacg tttactctcg tgttaaaaat ctgaattctt ctagagttcc tgatcttctg\n",
            "    26401 gtctaaacga actaaatatt atattagttt ttctgtttgg aactttaatt ttagccatgg\n",
            "    26461 cacattccaa cggtactatt accgttgaag agcttaaaaa gctccttgaa gaatggaacc\n",
            "    26521 tagtaatagg tttcctattc cttgcatgga tttgtcttct acaatttgcc tatgccaaca\n",
            "    26581 ggaataggtt tttgtatata attaagttaa tttttctctg gctgttatgg ccagtaactt\n",
            "    26641 taacttgttt tgtgcttgct gctgtttaca gaataaattg gatcaccggt ggaattgcta\n",
            "    26701 tcgcaatggc ttgtcttgta ggcttgatgt ggctcagcta cttcattgct tctttcagac\n",
            "    26761 tgtttgtgcg tacgcgttcc atgtggtcat ttaatccaga aactaacatt cttctcaacg\n",
            "    26821 tgccactcca tggcactatt ctgaccagac cgcttctaga aagtgaactc gtaatcggag\n",
            "    26881 ctgtgatcct tcgtggacat cttcgtattg ctggacacca tctaggacgc tgtgacatca\n",
            "    26941 aggacctgcc taaagaaatc actgttgcta catcacgaac gctttcttat tacaaattgg\n",
            "    27001 gagcttcgca gcgtgtagca ggtgactcag gttttgctgc atacagtcgc tacaggattg\n",
            "    27061 gcaactataa attaaacaca gaccattcca gtagcagtga caatattgct ttgcttgtac\n",
            "    27121 agtaagtgac aacagatgtt tcatctcgtt gactttcagg ttactatagc agagatatta\n",
            "    27181 ctaattatta tgcggacttt taaagtttcc atttggaatc ttgattacat cataaacctc\n",
            "    27241 ataattaaaa atttatctaa gtcactaact gagaataaat attctcaatt agatgaagag\n",
            "    27301 caaccaatgg agattctcta aacgaacatg aaaattattc ttttcttggc actgataaca\n",
            "    27361 ctcgctactt gtgagcttta tcactaccaa gagtgtgtta gaggtacaat agtactttta\n",
            "    27421 aaagaacctt gctcttctgg aacatacgag ggcaattcac catttcatcc tctagctgat\n",
            "    27481 aacaaatttg cactgacttg ctttagcact caatttgctt ttgcttgtcc tgacggcgta\n",
            "    27541 aaacacgtct atcagttacg tgccagatca gtttcaccta aactgttcat cagacaagag\n",
            "    27601 gaagttcaag aactttactc tccaattttt cttattgttg cggcaatagt gtttataaca\n",
            "    27661 ctttgcttca cactcaaaag aaagacagaa tgattgaact ttcattaatt gacttctatt\n",
            "    27721 tgtgcttttt agcctttctg ttactccttg ttttaattat gcttattatc ttttggttct\n",
            "    27781 cacttgaact gcaagatcat aatgaaactt gtcacgccta aacgaacatg aaatttcttg\n",
            "    27841 ttttcttagg aatcatcaca actgtagctg catttcacca agaatgtagt ttacagtcat\n",
            "    27901 gtactcaaca tcaaccatat gtagttgatg acccgtgtcc tattcacttc tattctaaat\n",
            "    27961 ggtatattag agtaggagct agaaaatcag cacctttaat tgaattgtgc gtggatgagg\n",
            "    28021 ctggttctaa atcacccatt cagtacatcg atatcggtaa ttatacagtt tcctgtttac\n",
            "    28081 cttttacaat taattgccag gaacctaaat tgggtagtct tgtagtgcgt tgttcgttct\n",
            "    28141 atgaagactt tttagagtat catgacgttc gtgttgtttt agatttcatc taaacgaaca\n",
            "    28201 aacttaaatg tctgataatg gaccccaaaa tcagcgaaat gcactccgca ttacgtttgg\n",
            "    28261 tggaccctca gattcaactg gcagtaacca gaatggtggg gcgcgatcaa aacaacgtcg\n",
            "    28321 gccccaaggt ttacccaata atactgcgtc ttggttcacc gctctcactc aacatggcaa\n",
            "    28381 ggaagacctt aaattccctc gaggacaagg cgttccaatt aacaccaata gcagtccaga\n",
            "    28441 tgaccaaatt ggctactacc gaagagctac cagacgaatt cgtggtggtg acggtaaaat\n",
            "    28501 gaaagatctc agtccaagat ggtatttcta ctacctagga actgggccag aagctggact\n",
            "    28561 tccctatggt gctaacaaag acggcatcat atgggttgca actgagggag ccttgaatac\n",
            "    28621 accaaaagat cacattggca cccgcaatcc tgctaacaat gctgcaatcg tgctacaact\n",
            "    28681 tcctcaagga acaacattgc caaaaggctt ctacgcagaa gggagcagag gcggcagtca\n",
            "    28741 agcctcttct cgttcctcat cacgtagtcg caacagttca agaaattcaa ctccaggcag\n",
            "    28801 cagtaaacga acttctcctg ctagaatggc tggcaatggc ggtgatgctg ctcttgcttt\n",
            "    28861 gctgctgctt gacagattga acaagcttga gagcaaaatg tctggtaaag gccaacaaca\n",
            "    28921 acaaggccaa actgtcacta agaaatctgc tgctgaggct tctaagaagc ctcggcaaaa\n",
            "    28981 acgtactgcc actaaagcat acaatgtaac acaagctttc ggcagacgtg gtccagaaca\n",
            "    29041 aacccaagga aattttgggg accaggaact aatcagacaa ggaactgatt acaaacattg\n",
            "    29101 gccgcaaatt gcacaatttg cccccagcgc ttcagcgttc ttcggaatgt cgcgcattgg\n",
            "    29161 catagaagtc acaccttcgg gaacgtggtt gacctacaca ggtgccatca aattggatga\n",
            "    29221 caaagatcca aatttcaaag atcaagtcat tttgctgaat aagcatattg acgcatacaa\n",
            "    29281 aacattccca ccaacagagc ctaaaaagga caaaaagaag aaggctgatg aaactcaagc\n",
            "    29341 cttaccgcag agacagaaga aacagcaaac tgtgactctt cttcctgctg cagatttgga\n",
            "    29401 tgatttctcc aaacaattgc aacaatccat gagccgtgct aactcaactc aggcctaaac\n",
            "    29461 tcatgcagac cacacaaggc agatgggcta tataaacgtt ttcgcttttc cgtttacgat\n",
            "    29521 atatagtcta ctcttgtgca gaatgaattc tcgtaactac atagcacaag tagatgtagt\n",
            "    29581 taactttaat ctcacatagc aatctttaat cagtgtgtaa cattagggag gacttgaaag\n",
            "    29641 tgccaccaca ttttcaccta cagtgaacaa tgctagggag agctgcctat atggaagagc\n",
            "    29701 cctaatgtgt aaaattaatt ttagtagtgc tatccccatg tgattttaat ag\n",
            "//\n",
            "\n",
            "\n"
          ]
        }
      ]
    },
    {
      "cell_type": "code",
      "source": [
        "handle = Entrez.esearch(db='nucleotide', term='accD[Gene Name] AND \"E.coli\"[Organism]', retmax=\"20\")\n",
        "result_list = Entrez.read(handle)"
      ],
      "metadata": {
        "id": "CdQgOFvUk3n6"
      },
      "execution_count": null,
      "outputs": []
    },
    {
      "cell_type": "code",
      "source": [
        "id_list = result_list['IdList']\n",
        "count = result_list['Count']\n",
        "\n",
        "print(id_list)\n",
        "print(\"\\n\")\n",
        "print(count)"
      ],
      "metadata": {
        "colab": {
          "base_uri": "https://localhost:8080/"
        },
        "id": "rliYnS_Hk6P_",
        "outputId": "46c00ddb-b803-4207-ec74-875c11b886ac"
      },
      "execution_count": null,
      "outputs": [
        {
          "output_type": "stream",
          "name": "stdout",
          "text": [
            "['2926140528', '2926125048', '2826066855', '2826021857', '2663018236', '2662600319', '2662599849', '2662599349', '2662597551', '2662597219', '2662596114', '2662595575', '2662595165', '2662594542', '2662593405', '2662592867', '2662590164', '2662589300', '2662588490', '2662587086']\n",
            "\n",
            "\n",
            "324024\n"
          ]
        }
      ]
    },
    {
      "cell_type": "code",
      "source": [
        "handle.close()"
      ],
      "metadata": {
        "id": "RbedruDBlDSA"
      },
      "execution_count": null,
      "outputs": []
    },
    {
      "cell_type": "markdown",
      "source": [
        "#3. PDB\n",
        "Import Modules"
      ],
      "metadata": {
        "id": "H01H0GwSlQdr"
      }
    },
    {
      "cell_type": "code",
      "source": [
        "from Bio.PDB import PDBParser,PDBList"
      ],
      "metadata": {
        "id": "jWEKQEIvlV0r"
      },
      "execution_count": null,
      "outputs": []
    },
    {
      "cell_type": "code",
      "source": [
        "help(PDBList)"
      ],
      "metadata": {
        "colab": {
          "base_uri": "https://localhost:8080/"
        },
        "collapsed": true,
        "id": "SqIrpGEOlaFG",
        "outputId": "f81bb5f9-95c9-4003-bae7-f6633d6920c5"
      },
      "execution_count": null,
      "outputs": [
        {
          "output_type": "stream",
          "name": "stdout",
          "text": [
            "Help on class PDBList in module Bio.PDB.PDBList:\n",
            "\n",
            "class PDBList(builtins.object)\n",
            " |  PDBList(server='https://files.wwpdb.org', pdb=None, obsolete_pdb=None, verbose=True)\n",
            " |  \n",
            " |  Quick access to the structure lists on the PDB or its mirrors.\n",
            " |  \n",
            " |  This class provides quick access to the structure lists on the\n",
            " |  PDB server or its mirrors. The structure lists contain\n",
            " |  four-letter PDB codes, indicating that structures are\n",
            " |  new, have been modified or are obsolete. The lists are released\n",
            " |  on a weekly basis.\n",
            " |  \n",
            " |  It also provides a function to retrieve PDB files from the server.\n",
            " |  To use it properly, prepare a directory /pdb or the like,\n",
            " |  where PDB files are stored.\n",
            " |  \n",
            " |  All available file formats (PDB, PDBx/mmCif, PDBML, mmtf) are supported.\n",
            " |  Please note that large structures (containing >62 chains\n",
            " |  and/or 99999 ATOM lines) are no longer stored as a single PDB file\n",
            " |  and by default (when PDB format selected) are not downloaded.\n",
            " |  \n",
            " |  Large structures can be downloaded in other formats, including PDBx/mmCif\n",
            " |  or as a .tar file (a collection of PDB-like formatted files for a given\n",
            " |  structure).\n",
            " |  \n",
            " |  If you want to use this module from inside a proxy, add\n",
            " |  the proxy variable to your environment, e.g. in Unix:\n",
            " |  export HTTP_PROXY='http://realproxy.charite.de:888'\n",
            " |  (This can also be added to ~/.bashrc)\n",
            " |  \n",
            " |  Methods defined here:\n",
            " |  \n",
            " |  __init__(self, server='https://files.wwpdb.org', pdb=None, obsolete_pdb=None, verbose=True)\n",
            " |      Initialize the class with the default server or a custom one.\n",
            " |      \n",
            " |      Argument pdb is the local path to use, defaulting to the current\n",
            " |      directory at the moment of initialisation.\n",
            " |  \n",
            " |  download_all_assemblies(self, listfile: Optional[str] = None, file_format: Optional[str] = None, max_num_threads: Optional[int] = None)\n",
            " |      Retrieve all biological assemblies not in the local PDB copy.\n",
            " |      \n",
            " |      :param listfile: File name to which all assembly codes will be written\n",
            " |      \n",
            " |      :param file_format: Format in which to download the entries.\n",
            " |          Available options are \"mmCif\" or \"pdb\". Defaults to \"mmCif\".\n",
            " |      \n",
            " |      :param max_num_threads: The maximum number of threads to use while downloading the assemblies\n",
            " |  \n",
            " |  download_entire_pdb(self, listfile: Optional[str] = None, file_format: Optional[str] = None, max_num_threads: Optional[int] = None)\n",
            " |      Retrieve all PDB entries not present in the local PDB copy.\n",
            " |      \n",
            " |      NOTE: The default download format has changed from PDB to PDBx/mmCif.\n",
            " |      \n",
            " |      :param listfile: Filename to which all PDB codes will be written\n",
            " |      \n",
            " |      :param file_format: File format. Available options:\n",
            " |      \n",
            " |          * \"mmCif\" (default, PDBx/mmCif file),\n",
            " |          * \"pdb\" (format PDB),\n",
            " |          * \"xml\" (PMDML/XML format),\n",
            " |          * \"mmtf\" (highly compressed),\n",
            " |          * \"bundle\" (PDB formatted archive for large structure)\n",
            " |      \n",
            " |      :param max_num_threads: The maximum number of threads to use while downloading PDB entries\n",
            " |  \n",
            " |  download_obsolete_entries(self, listfile: Optional[str] = None, file_format: Optional[str] = None, max_num_threads: Optional[int] = None)\n",
            " |      Retrieve all obsolete PDB entries not present in local obsolete PDB copy.\n",
            " |      \n",
            " |      NOTE: The default download format has changed from PDB to PDBx/mmCif.\n",
            " |      \n",
            " |      :param listfile: Filename to which all PDB codes will be written\n",
            " |      \n",
            " |      :param file_format: File format. Available options:\n",
            " |      \n",
            " |          * \"mmCif\" (default, PDBx/mmCif file),\n",
            " |          * \"pdb\" (PDB format),\n",
            " |          * \"xml\" (PMDML/XML format).\n",
            " |      \n",
            " |      :param max_num_threads: The maximum number of threads to use while downloading PDB entries\n",
            " |  \n",
            " |  download_pdb_files(self, pdb_codes: list[str], obsolete: bool = False, pdir: Optional[str] = None, file_format: Optional[str] = None, overwrite: bool = False, max_num_threads: Optional[int] = None)\n",
            " |      Fetch set of PDB structure files from the PDB server and store them locally.\n",
            " |      \n",
            " |      :param pdb_codes: A list of 4-symbol PDB structure IDs\n",
            " |      \n",
            " |      :param obsolete:\n",
            " |          Has a meaning only for obsolete structures.\n",
            " |          If True, download the obsolete structure to 'obsolete' folder.\n",
            " |          Otherwise, the download won't be performed.\n",
            " |          This option doesn't work for mmtf format as obsolete structures are not available as mmtf.\n",
            " |          (default: ``False``)\n",
            " |      \n",
            " |      :param pdir: Put the file in this directory. By default, create a PDB-style directory tree.\n",
            " |      \n",
            " |      :param file_format: File format. Available options:\n",
            " |      \n",
            " |          * \"mmCif\" (default, PDBx/mmCif file),\n",
            " |          * \"pdb\" (format PDB),\n",
            " |          * \"xml\" (PMDML/XML format),\n",
            " |          * \"mmtf\" (highly compressed),\n",
            " |          * \"bundle\" (PDB formatted archive for large structure).\n",
            " |      \n",
            " |      :param overwrite: If set to true, existing structure files will be overwritten. (default: ``False``)\n",
            " |      \n",
            " |      :param max_num_threads: The maximum number of threads to use when downloading files\n",
            " |  \n",
            " |  get_all_assemblies(self, file_format: str = '') -> list[tuple[str, str]]\n",
            " |      Retrieve the list of PDB entries with an associated bio assembly.\n",
            " |      \n",
            " |      The requested list will be cached to avoid multiple calls to the server.\n",
            " |      \n",
            " |      :param str file_format: A legacy parameter that is left to avoid breaking changes\n",
            " |      :return: the assemblies\n",
            " |      :rtype: list\n",
            " |  \n",
            " |  get_all_entries(self)\n",
            " |      Retrieve the big file containing all the PDB entries and some annotation.\n",
            " |      \n",
            " |      Returns a list of PDB codes in the index file.\n",
            " |  \n",
            " |  get_all_obsolete(self)\n",
            " |      Return a list of all obsolete entries ever in the PDB.\n",
            " |      \n",
            " |      Returns a list of all obsolete pdb codes that have ever been\n",
            " |      in the PDB.\n",
            " |      \n",
            " |      Gets and parses the file from the PDB server in the format\n",
            " |      (the first pdb_code column is the one used). The file looks\n",
            " |      like this::\n",
            " |      \n",
            " |           LIST OF OBSOLETE COORDINATE ENTRIES AND SUCCESSORS\n",
            " |          OBSLTE    31-JUL-94 116L     216L\n",
            " |          ...\n",
            " |          OBSLTE    29-JAN-96 1HFT     2HFT\n",
            " |          OBSLTE    21-SEP-06 1HFV     2J5X\n",
            " |          OBSLTE    21-NOV-03 1HG6\n",
            " |          OBSLTE    18-JUL-84 1HHB     2HHB 3HHB\n",
            " |          OBSLTE    08-NOV-96 1HID     2HID\n",
            " |          OBSLTE    01-APR-97 1HIU     2HIU\n",
            " |          OBSLTE    14-JAN-04 1HKE     1UUZ\n",
            " |          ...\n",
            " |  \n",
            " |  get_recent_changes(self)\n",
            " |      Return three lists of the newest weekly files (added,mod,obsolete).\n",
            " |      \n",
            " |      Reads the directories with changed entries from the PDB server and\n",
            " |      returns a tuple of three URL's to the files of new, modified and\n",
            " |      obsolete entries from the most recent list. The directory with the\n",
            " |      largest numerical name is used.\n",
            " |      Returns None if something goes wrong.\n",
            " |      \n",
            " |      Contents of the data/status dir (20031013 would be used);:\n",
            " |      \n",
            " |          drwxrwxr-x   2 1002     sysadmin     512 Oct  6 18:28 20031006\n",
            " |          drwxrwxr-x   2 1002     sysadmin     512 Oct 14 02:14 20031013\n",
            " |          -rw-r--r--   1 1002     sysadmin    1327 Mar 12  2001 README\n",
            " |  \n",
            " |  get_seqres_file(self, savefile='pdb_seqres.txt')\n",
            " |      Retrieve and save a (big) file containing all the sequences of PDB entries.\n",
            " |  \n",
            " |  retrieve_assembly_file(self, pdb_code, assembly_num, pdir=None, file_format=None, overwrite=False)\n",
            " |      Fetch one or more assembly structures associated with a PDB entry.\n",
            " |      \n",
            " |      Unless noted below, parameters are described in ``retrieve_pdb_file``.\n",
            " |      \n",
            " |      :type  assembly_num: str\n",
            " |      :param assembly_num: assembly number to download.\n",
            " |      \n",
            " |      :rtype : str\n",
            " |      :return: file name of the downloaded assembly file.\n",
            " |  \n",
            " |  retrieve_pdb_file(self, pdb_code, obsolete=False, pdir=None, file_format=None, overwrite=False)\n",
            " |      Fetch PDB structure file from PDB server, and store it locally.\n",
            " |      \n",
            " |      The PDB structure's file name is returned as a single string.\n",
            " |      If obsolete ``==`` True, the file will be saved in a special file tree.\n",
            " |      \n",
            " |      NOTE. The default download format has changed from PDB to PDBx/mmCif\n",
            " |      \n",
            " |      :param pdb_code: 4-symbols structure Id from PDB (e.g. 3J92).\n",
            " |      :type pdb_code: string\n",
            " |      \n",
            " |      :param file_format:\n",
            " |          File format. Available options:\n",
            " |      \n",
            " |          * \"mmCif\" (default, PDBx/mmCif file),\n",
            " |          * \"pdb\" (format PDB),\n",
            " |          * \"xml\" (PDBML/XML format),\n",
            " |          * \"mmtf\" (highly compressed),\n",
            " |          * \"bundle\" (PDB formatted archive for large structure)\n",
            " |      \n",
            " |      :type file_format: string\n",
            " |      \n",
            " |      :param overwrite: if set to True, existing structure files will be overwritten. Default: False\n",
            " |      :type overwrite: bool\n",
            " |      \n",
            " |      :param obsolete:\n",
            " |          Has a meaning only for obsolete structures. If True, download the obsolete structure\n",
            " |          to 'obsolete' folder, otherwise download won't be performed.\n",
            " |          This option doesn't work for mmtf format as obsoleted structures aren't stored in mmtf.\n",
            " |          Also doesn't have meaning when parameter pdir is specified.\n",
            " |          Note: make sure that you are about to download the really obsolete structure.\n",
            " |          Trying to download non-obsolete structure into obsolete folder will not work\n",
            " |          and you face the \"structure doesn't exists\" error.\n",
            " |          Default: False\n",
            " |      \n",
            " |      :type obsolete: bool\n",
            " |      \n",
            " |      :param pdir: put the file in this directory (default: create a PDB-style directory tree)\n",
            " |      :type pdir: string\n",
            " |      \n",
            " |      :return: filename\n",
            " |      :rtype: string\n",
            " |  \n",
            " |  update_pdb(self, file_format=None, with_assemblies=False)\n",
            " |      Update your local copy of the PDB files.\n",
            " |      \n",
            " |      I guess this is the 'most wanted' function from this module.\n",
            " |      It gets the weekly lists of new and modified pdb entries and\n",
            " |      automatically downloads the according PDB files.\n",
            " |      You can call this module as a weekly cron job.\n",
            " |  \n",
            " |  ----------------------------------------------------------------------\n",
            " |  Static methods defined here:\n",
            " |  \n",
            " |  get_status_list(url)\n",
            " |      Retrieve a list of pdb codes in the weekly pdb status file from given URL.\n",
            " |      \n",
            " |      Used by get_recent_changes. Typical contents of the list files parsed\n",
            " |      by this method is now very simply - one PDB name per line.\n",
            " |  \n",
            " |  ----------------------------------------------------------------------\n",
            " |  Data descriptors defined here:\n",
            " |  \n",
            " |  __dict__\n",
            " |      dictionary for instance variables\n",
            " |  \n",
            " |  __weakref__\n",
            " |      list of weak references to the object\n",
            " |  \n",
            " |  ----------------------------------------------------------------------\n",
            " |  Data and other attributes defined here:\n",
            " |  \n",
            " |  PDB_REF = '\\n    The Protein Data Bank: a computer-based arc... pp. 53...\n",
            "\n"
          ]
        }
      ]
    },
    {
      "cell_type": "code",
      "source": [
        "pdbl=PDBList()\n",
        "pdbl.retrieve_pdb_file(\"7BYR\", file_format=\"pdb\", pdir=\"dir\")"
      ],
      "metadata": {
        "colab": {
          "base_uri": "https://localhost:8080/",
          "height": 52
        },
        "id": "XWKb0KPzlgUN",
        "outputId": "df7c4aef-80c1-4aef-efd0-02390844443a"
      },
      "execution_count": null,
      "outputs": [
        {
          "output_type": "stream",
          "name": "stdout",
          "text": [
            "Structure exists: 'dir/pdb7byr.ent' \n"
          ]
        },
        {
          "output_type": "execute_result",
          "data": {
            "text/plain": [
              "'dir/pdb7byr.ent'"
            ],
            "application/vnd.google.colaboratory.intrinsic+json": {
              "type": "string"
            }
          },
          "metadata": {},
          "execution_count": 36
        }
      ]
    },
    {
      "cell_type": "code",
      "source": [
        "parser = PDBParser()\n",
        "structure = parser.get_structure (\"7BYR\", \"dir/pdb7byr.ent\")"
      ],
      "metadata": {
        "colab": {
          "base_uri": "https://localhost:8080/"
        },
        "id": "BfvESNcnmwBQ",
        "outputId": "abc5ce55-4f04-46c1-c669-17bcbd236847"
      },
      "execution_count": null,
      "outputs": [
        {
          "output_type": "stream",
          "name": "stderr",
          "text": [
            "/usr/local/lib/python3.11/dist-packages/Bio/PDB/StructureBuilder.py:100: PDBConstructionWarning: WARNING: Chain A is discontinuous at line 26238.\n",
            "  warnings.warn(\n",
            "/usr/local/lib/python3.11/dist-packages/Bio/PDB/StructureBuilder.py:100: PDBConstructionWarning: WARNING: Chain B is discontinuous at line 26406.\n",
            "  warnings.warn(\n",
            "/usr/local/lib/python3.11/dist-packages/Bio/PDB/StructureBuilder.py:100: PDBConstructionWarning: WARNING: Chain C is discontinuous at line 26546.\n",
            "  warnings.warn(\n"
          ]
        }
      ]
    },
    {
      "cell_type": "code",
      "source": [
        "for chain in structure[0]:\n",
        "    print(f\"chainid: {chain.id}\")"
      ],
      "metadata": {
        "colab": {
          "base_uri": "https://localhost:8080/"
        },
        "id": "-jmZqDKPmuwz",
        "outputId": "cbf8c5c1-c49b-4020-d59c-5b076cc5d086"
      },
      "execution_count": null,
      "outputs": [
        {
          "output_type": "stream",
          "name": "stdout",
          "text": [
            "chainid: A\n",
            "chainid: B\n",
            "chainid: C\n",
            "chainid: H\n",
            "chainid: L\n",
            "chainid: D\n",
            "chainid: E\n",
            "chainid: F\n",
            "chainid: G\n",
            "chainid: I\n",
            "chainid: J\n"
          ]
        }
      ]
    },
    {
      "cell_type": "code",
      "source": [
        "resolution= structure.header[\"resolution\"]\n",
        "resolution"
      ],
      "metadata": {
        "colab": {
          "base_uri": "https://localhost:8080/"
        },
        "id": "VQxfLu0um_M4",
        "outputId": "ea5750af-9d87-48f5-91d6-89aceee7cef4"
      },
      "execution_count": null,
      "outputs": [
        {
          "output_type": "execute_result",
          "data": {
            "text/plain": [
              "3.84"
            ]
          },
          "metadata": {},
          "execution_count": 39
        }
      ]
    },
    {
      "cell_type": "code",
      "source": [
        "keywords = structure.header [\"keywords\"]\n",
        "keywords"
      ],
      "metadata": {
        "colab": {
          "base_uri": "https://localhost:8080/",
          "height": 35
        },
        "id": "H3ZxQp1snMKE",
        "outputId": "b58f18b3-1410-4287-ef9f-f76f3687fcef"
      },
      "execution_count": null,
      "outputs": [
        {
          "output_type": "execute_result",
          "data": {
            "text/plain": [
              "'sars-cov-2, antigen, rbd, neutralizing antibody, viral protein'"
            ],
            "application/vnd.google.colaboratory.intrinsic+json": {
              "type": "string"
            }
          },
          "metadata": {},
          "execution_count": 40
        }
      ]
    },
    {
      "cell_type": "markdown",
      "source": [
        "#EXPASY PROSITE IMPORT MODULES"
      ],
      "metadata": {
        "id": "PbHczYJvRct5"
      }
    },
    {
      "cell_type": "code",
      "source": [
        "from Bio import ExPASy\n",
        "from Bio.ExPASy import Prosite"
      ],
      "metadata": {
        "id": "4MhJRc8xRnLP"
      },
      "execution_count": null,
      "outputs": []
    },
    {
      "cell_type": "code",
      "source": [
        "handle = ExPASy.get_prosite_raw('PS51442')\n",
        "record = Prosite.read(handle)"
      ],
      "metadata": {
        "id": "ZjyLzjmdRb-g"
      },
      "execution_count": null,
      "outputs": []
    },
    {
      "cell_type": "code",
      "source": [
        "print(record.description)"
      ],
      "metadata": {
        "colab": {
          "base_uri": "https://localhost:8080/"
        },
        "id": "y5WqZeXjRp73",
        "outputId": "bdb5d16c-bf65-45a5-8e32-02624b263de2"
      },
      "execution_count": null,
      "outputs": [
        {
          "output_type": "stream",
          "name": "stdout",
          "text": [
            "Coronavirus main protease (M-pro) domain profile.\n"
          ]
        }
      ]
    },
    {
      "cell_type": "code",
      "source": [
        "print(record.pdb_structs[:10])"
      ],
      "metadata": {
        "colab": {
          "base_uri": "https://localhost:8080/"
        },
        "id": "YcMj9yDbSTFs",
        "outputId": "d4e7c30d-61c9-4d4d-97ab-7f2d2924f314"
      },
      "execution_count": null,
      "outputs": [
        {
          "output_type": "stream",
          "name": "stdout",
          "text": [
            "[]\n"
          ]
        }
      ]
    },
    {
      "cell_type": "code",
      "source": [
        "handle = ExPASy.get_prosite_raw('PS00001')\n",
        "record = Prosite.read(handle)\n",
        "print(record.pattern)"
      ],
      "metadata": {
        "colab": {
          "base_uri": "https://localhost:8080/"
        },
        "id": "WOX8iKy9Sria",
        "outputId": "91a14d0b-7b05-4738-e414-643f84cffb33"
      },
      "execution_count": null,
      "outputs": [
        {
          "output_type": "stream",
          "name": "stdout",
          "text": [
            "N-{P}-[ST]-{P}.\n"
          ]
        }
      ]
    },
    {
      "cell_type": "markdown",
      "source": [
        "#4.2. ScaProsite Import Modules"
      ],
      "metadata": {
        "id": "VpXV-RkkSyko"
      }
    },
    {
      "cell_type": "code",
      "source": [
        "from Bio.ExPASy import ScanProsite"
      ],
      "metadata": {
        "id": "j8OMfXVcS58A"
      },
      "execution_count": null,
      "outputs": []
    },
    {
      "cell_type": "code",
      "source": [
        "prot_record = SeqIO.read(\"prot_seq.fasta\", format=\"fasta\")\n",
        "len(prot_record.seq)"
      ],
      "metadata": {
        "colab": {
          "base_uri": "https://localhost:8080/"
        },
        "id": "jpYuslUTS-x3",
        "outputId": "0369e2ec-220b-4040-e2d9-10dc6250710b"
      },
      "execution_count": null,
      "outputs": [
        {
          "output_type": "execute_result",
          "data": {
            "text/plain": [
              "258"
            ]
          },
          "metadata": {},
          "execution_count": 48
        }
      ]
    },
    {
      "cell_type": "code",
      "source": [
        "handle = ScanProsite.scan(seq=prot_record.seq, mirror=\"https://prosite.expasy.org/\")\n",
        "result = ScanProsite.read(handle)"
      ],
      "metadata": {
        "id": "p_TpolpTTkPc"
      },
      "execution_count": null,
      "outputs": []
    },
    {
      "cell_type": "code",
      "source": [
        "result.n_match"
      ],
      "metadata": {
        "colab": {
          "base_uri": "https://localhost:8080/"
        },
        "id": "FMfvVg5lTmUE",
        "outputId": "f9e31cfc-33c6-4779-ed2b-a6e337229f62"
      },
      "execution_count": null,
      "outputs": [
        {
          "output_type": "execute_result",
          "data": {
            "text/plain": [
              "1"
            ]
          },
          "metadata": {},
          "execution_count": 50
        }
      ]
    },
    {
      "cell_type": "code",
      "source": [
        "result[0]"
      ],
      "metadata": {
        "colab": {
          "base_uri": "https://localhost:8080/"
        },
        "id": "rrwlf07GTquV",
        "outputId": "81b64173-fcf8-454e-db27-62139d3f3c50"
      },
      "execution_count": null,
      "outputs": [
        {
          "output_type": "execute_result",
          "data": {
            "text/plain": [
              "{'sequence_ac': 'USERSEQ1',\n",
              " 'start': 1,\n",
              " 'stop': 118,\n",
              " 'signature_ac': 'PS51921',\n",
              " 'score': '32.871',\n",
              " 'level': '0'}"
            ]
          },
          "metadata": {},
          "execution_count": 51
        }
      ]
    },
    {
      "cell_type": "markdown",
      "source": [
        "#5. KEGG Import Modules"
      ],
      "metadata": {
        "id": "6GqT0af4Tv8n"
      }
    },
    {
      "cell_type": "code",
      "source": [
        "from Bio.KEGG import REST, Enzyme"
      ],
      "metadata": {
        "id": "_U9-Rwf_T1M5"
      },
      "execution_count": null,
      "outputs": []
    },
    {
      "cell_type": "code",
      "source": [
        "help(Enzyme)"
      ],
      "metadata": {
        "collapsed": true,
        "colab": {
          "base_uri": "https://localhost:8080/"
        },
        "id": "ypKMV5UxT3sA",
        "outputId": "29976efe-c482-4dfb-f4bb-8f1bad60f164"
      },
      "execution_count": null,
      "outputs": [
        {
          "output_type": "stream",
          "name": "stdout",
          "text": [
            "Help on package Bio.KEGG.Enzyme in Bio.KEGG:\n",
            "\n",
            "NAME\n",
            "    Bio.KEGG.Enzyme - Code to work with the KEGG Enzyme database.\n",
            "\n",
            "DESCRIPTION\n",
            "    Functions:\n",
            "     - parse - Returns an iterator giving Record objects.\n",
            "    \n",
            "    Classes:\n",
            "     - Record - Holds the information from a KEGG Enzyme record.\n",
            "\n",
            "PACKAGE CONTENTS\n",
            "\n",
            "\n",
            "CLASSES\n",
            "    builtins.object\n",
            "        Record\n",
            "    \n",
            "    class Record(builtins.object)\n",
            "     |  Holds info from a KEGG Enzyme record.\n",
            "     |  \n",
            "     |  Attributes:\n",
            "     |   - entry       The EC number (without the 'EC ').\n",
            "     |   - name        A list of the enzyme names.\n",
            "     |   - classname   A list of the classification terms.\n",
            "     |   - sysname     The systematic name of the enzyme.\n",
            "     |   - reaction    A list of the reaction description strings.\n",
            "     |   - substrate   A list of the substrates.\n",
            "     |   - product     A list of the products.\n",
            "     |   - inhibitor   A list of the inhibitors.\n",
            "     |   - cofactor    A list of the cofactors.\n",
            "     |   - effector    A list of the effectors.\n",
            "     |   - comment     A list of the comment strings.\n",
            "     |   - pathway     A list of 3-tuples: (database, id, pathway)\n",
            "     |   - genes       A list of 2-tuples: (organism, list of gene ids)\n",
            "     |   - disease     A list of 3-tuples: (database, id, disease)\n",
            "     |   - structures  A list of 2-tuples: (database, list of struct ids)\n",
            "     |   - dblinks     A list of 2-tuples: (database, list of db ids)\n",
            "     |  \n",
            "     |  Methods defined here:\n",
            "     |  \n",
            "     |  __init__(self)\n",
            "     |      Initialize a new Record.\n",
            "     |  \n",
            "     |  __str__(self)\n",
            "     |      Return a string representation of this Record.\n",
            "     |  \n",
            "     |  ----------------------------------------------------------------------\n",
            "     |  Data descriptors defined here:\n",
            "     |  \n",
            "     |  __dict__\n",
            "     |      dictionary for instance variables\n",
            "     |  \n",
            "     |  __weakref__\n",
            "     |      list of weak references to the object\n",
            "\n",
            "FUNCTIONS\n",
            "    parse(handle)\n",
            "        Parse a KEGG Enzyme file, returning Record objects.\n",
            "        \n",
            "        This is an iterator function, typically used in a for loop.  For\n",
            "        example, using one of the example KEGG files in the Biopython\n",
            "        test suite,\n",
            "        \n",
            "        >>> with open(\"KEGG/enzyme.sample\") as handle:\n",
            "        ...     for record in parse(handle):\n",
            "        ...         print(\"%s %s\" % (record.entry, record.name[0]))\n",
            "        ...\n",
            "        1.1.1.1 alcohol dehydrogenase\n",
            "        1.1.1.62 17beta-estradiol 17-dehydrogenase\n",
            "        1.1.1.68 Transferred to 1.5.1.20\n",
            "        1.6.5.3 NADH:ubiquinone reductase (H+-translocating)\n",
            "        1.14.13.28 3,9-dihydroxypterocarpan 6a-monooxygenase\n",
            "        2.4.1.68 glycoprotein 6-alpha-L-fucosyltransferase\n",
            "        3.1.1.6 acetylesterase\n",
            "        2.7.2.1 acetate kinase\n",
            "    \n",
            "    read(handle)\n",
            "        Parse a KEGG Enzyme file with exactly one entry.\n",
            "        \n",
            "        If the handle contains no records, or more than one record,\n",
            "        an exception is raised.  For example:\n",
            "        \n",
            "        >>> with open(\"KEGG/enzyme.new\") as handle:\n",
            "        ...     record = read(handle)\n",
            "        ...     print(\"%s %s\" % (record.entry, record.name[0]))\n",
            "        ...\n",
            "        6.2.1.25 benzoate---CoA ligase\n",
            "\n",
            "DATA\n",
            "    name_wrap = [0, '', (' ', '$', 1, 1), ('-', '$', 1, 1)]\n",
            "    rxn_wrap = [0, '', (' + ', '', 1, 1), (' = ', '', 1, 1), (' ', '$', 1,...\n",
            "\n",
            "FILE\n",
            "    /usr/local/lib/python3.11/dist-packages/Bio/KEGG/Enzyme/__init__.py\n",
            "\n",
            "\n"
          ]
        }
      ]
    },
    {
      "cell_type": "code",
      "source": [
        "request = REST.kegg_get(\"ec:5.4.2.2\")\n",
        "open(\"ec_5.4.2.2.txt\",\"w\").write(request.read())"
      ],
      "metadata": {
        "colab": {
          "base_uri": "https://localhost:8080/"
        },
        "id": "1sCqZouuVBrp",
        "outputId": "535d2adf-2373-40dd-977b-b21d2832e507"
      },
      "execution_count": null,
      "outputs": [
        {
          "output_type": "execute_result",
          "data": {
            "text/plain": [
              "310760"
            ]
          },
          "metadata": {},
          "execution_count": 54
        }
      ]
    },
    {
      "cell_type": "code",
      "source": [
        "records = Enzyme.parse(open(\"ec_5.4.2.2.txt\"))\n",
        "record = list(records)[0]\n",
        "record.classname"
      ],
      "metadata": {
        "colab": {
          "base_uri": "https://localhost:8080/"
        },
        "id": "udmBNSRLVDuA",
        "outputId": "acf93dd4-eba1-451e-ae33-788e038fe991"
      },
      "execution_count": null,
      "outputs": [
        {
          "output_type": "execute_result",
          "data": {
            "text/plain": [
              "['Isomerases;',\n",
              " 'Intramolecular transferases;',\n",
              " 'Phosphotransferases (phosphomutases)']"
            ]
          },
          "metadata": {},
          "execution_count": 55
        }
      ]
    },
    {
      "cell_type": "code",
      "source": [
        "record.pathway"
      ],
      "metadata": {
        "colab": {
          "base_uri": "https://localhost:8080/"
        },
        "id": "xebm8i9mVU1H",
        "outputId": "b5391641-b943-4e3d-89d8-ef996a0e66ac"
      },
      "execution_count": null,
      "outputs": [
        {
          "output_type": "execute_result",
          "data": {
            "text/plain": [
              "[('PATH', 'ec00010', 'Glycolysis / Gluconeogenesis'),\n",
              " ('PATH', 'ec00030', 'Pentose phosphate pathway'),\n",
              " ('PATH', 'ec00052', 'Galactose metabolism'),\n",
              " ('PATH', 'ec00230', 'Purine metabolism'),\n",
              " ('PATH', 'ec00500', 'Starch and sucrose metabolism'),\n",
              " ('PATH', 'ec00520', 'Amino sugar and nucleotide sugar metabolism'),\n",
              " ('PATH', 'ec00521', 'Streptomycin biosynthesis'),\n",
              " ('PATH', 'ec01100', 'Metabolic pathways'),\n",
              " ('PATH', 'ec01110', 'Biosynthesis of secondary metabolites'),\n",
              " ('PATH', 'ec01120', 'Microbial metabolism in diverse environments')]"
            ]
          },
          "metadata": {},
          "execution_count": 56
        }
      ]
    },
    {
      "cell_type": "code",
      "source": [
        "record.genes[:10]"
      ],
      "metadata": {
        "colab": {
          "base_uri": "https://localhost:8080/"
        },
        "id": "Apkk73WlVW3K",
        "outputId": "f4a5c72c-5229-46d8-f6a9-7882ebc255f0"
      },
      "execution_count": null,
      "outputs": [
        {
          "output_type": "execute_result",
          "data": {
            "text/plain": [
              "[('HSA', ['5236', '55276']),\n",
              " ('PTR', ['456908', '461162']),\n",
              " ('PPS', ['100977295', '100993927']),\n",
              " ('GGO', ['101128874', '101131551']),\n",
              " ('PON', ['100190836', '100438793']),\n",
              " ('PPYG', ['129034752', '129035286']),\n",
              " ('NLE', ['100596081', '100600656']),\n",
              " ('HMH', ['116456694', '116457795']),\n",
              " ('SSYN', ['129458637', '129464875']),\n",
              " ('MCC', ['100424648', '699401'])]"
            ]
          },
          "metadata": {},
          "execution_count": 57
        }
      ]
    },
    {
      "cell_type": "code",
      "source": [
        "list_genes = []\n",
        "for x,y in record.genes:\n",
        "    list_genes += x.split(\"\\n\")\n",
        "\n",
        "print(list_genes[:10])"
      ],
      "metadata": {
        "colab": {
          "base_uri": "https://localhost:8080/"
        },
        "id": "IXBKAWd7VtYn",
        "outputId": "5d9eeeef-a92a-404a-a211-bbded739dae9"
      },
      "execution_count": null,
      "outputs": [
        {
          "output_type": "stream",
          "name": "stdout",
          "text": [
            "['HSA', 'PTR', 'PPS', 'GGO', 'PON', 'PPYG', 'NLE', 'HMH', 'SSYN', 'MCC']\n"
          ]
        }
      ]
    }
  ]
}